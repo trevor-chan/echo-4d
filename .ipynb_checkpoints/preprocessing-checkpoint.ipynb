{
 "cells": [
  {
   "cell_type": "code",
   "execution_count": 1,
   "id": "98509a93-9d39-4a1c-81a2-b6e6396b6bfa",
   "metadata": {},
   "outputs": [],
   "source": [
    "import os\n",
    "import numpy as np\n",
    "import nibabel as nib\n",
    "from PIL import Image\n",
    "import matplotlib.pyplot as plt\n",
    "import glob\n",
    "from tqdm import tqdm\n",
    "from scipy import ndimage"
   ]
  },
  {
   "cell_type": "code",
   "execution_count": 110,
   "id": "26d31e3a-af76-4e6a-925f-a3dcf076b7af",
   "metadata": {},
   "outputs": [],
   "source": [
    "#take  5D matrix, normalize existing mask to class1, perform a crop operation, create an expansion mask\n",
    "\n",
    "#center of mass calculation\n",
    "def calc_com_3d(data):\n",
    "    new_data = data\n",
    "    dup_mask = data[:,:,:,:,1]>0   #Normalize segmentations to binary mask, any signal gets included in com calculation\n",
    "    dup_mask = np.sum(dup_mask, axis=3)\n",
    "    xsum = np.sum(np.sum(dup_mask, axis=1), axis=1)\n",
    "    ysum = np.sum(np.sum(dup_mask, axis=0), axis=1)\n",
    "    zsum = np.sum(np.sum(dup_mask, axis=0), axis=0)\n",
    "\n",
    "    # plt.plot(range(len(xsum)), xsum)\n",
    "    # plt.plot(range(len(ysum)), ysum)\n",
    "    # plt.plot(range(len(zsum)), zsum)\n",
    "\n",
    "    def calc_com_1d(arr):\n",
    "        wsum = 0\n",
    "        msum = 0\n",
    "        for i in range(len(arr)):\n",
    "            wsum += arr[i]*i\n",
    "            msum += arr[i]\n",
    "        if msum == 0:\n",
    "            return int((len(arr)+1)/2)\n",
    "        return wsum/msum\n",
    "\n",
    "    xcom = calc_com_1d(xsum)\n",
    "    ycom = calc_com_1d(ysum)\n",
    "    zcom = calc_com_1d(zsum)\n",
    "    return (int(xcom), int(ycom), int(zcom))\n",
    "\n",
    "def expand_mask(data, iterations = 10):\n",
    "    # class_max = np.amax(data[:,:,:,:,1])\n",
    "    # print('class max = {}'.format(class_max))\n",
    "    new_data = np.copy(data[:,:,:,:,1]>0)   #Normalize segmentations to binary mask, any signal gets included in com calculation\n",
    "    if np.amax(new_data) == 0:\n",
    "        return 0\n",
    "    assert np.amax(new_data) == 1\n",
    "    assert len(new_data.shape)==4\n",
    "    for i in range(data.shape[3]):\n",
    "        expansion = ndimage.binary_dilation(new_data[:,:,:,i], iterations=iterations)\n",
    "        data[:,:,:,i,1] = np.add(data[:,:,:,i,1],expansion)\n",
    "    \n",
    "    class_max = np.amax(data[:,:,:,:,1])\n",
    "    print(np.unique(data[:,:,:,:,1]))\n",
    "    print('class max = {}'.format(class_max))\n",
    "        \n",
    "\n",
    "def matrix_process(data, crop_size = (128,128,128), expmask = False, binarize=False):\n",
    "    assert len(data.shape) == 5, 'data matrix must be 5 dimensional (x,y,x,t,im_label)'\n",
    "    if binarize==True:\n",
    "        data[:,:,:,:,1] = data[:,:,:,:,1]>0\n",
    "\n",
    "    com = calc_com_3d(data)\n",
    "    \n",
    "    #CROP\n",
    "    #ensure dimensions are larger than crop region\n",
    "    if crop_size[0] >= data.shape[0]:\n",
    "        diff = crop_size[0]-data.shape[0]\n",
    "        data = np.pad(data, ((int(diff/2),diff-int(diff/2)), (0,0), (0,0), (0,0), (0,0)), 'constant', constant_values=(0, 0))\n",
    "        print('padded dim 0 - shape = {}'.format(data.shape))\n",
    "    if crop_size[1] >= data.shape[1]:\n",
    "        diff = crop_size[1]-data.shape[1]\n",
    "        data = np.pad(data, ((0,0), (int(diff/2),diff-int(diff/2)), (0,0), (0,0), (0,0)), 'constant', constant_values=(0, 0))\n",
    "        print('padded dim 1 - shape = {}'.format(data.shape))\n",
    "    if crop_size[2] >= data.shape[2]:\n",
    "        diff = crop_size[2]-data.shape[2]\n",
    "        data = np.pad(data, ((0,0), (0,0), (int(diff/2),diff-int(diff/2)), (0,0), (0,0)), 'constant', constant_values=(0, 0))\n",
    "        print('padded dim 2 - shape = {}'.format(data.shape))\n",
    "    \n",
    "    #calculate lower and upper crop\n",
    "    mins = [int(com[i]-crop_size[i]/2) for i in range(len(com))]\n",
    "    maxs = [int(com[i]+crop_size[i]/2) for i in range(len(com))]\n",
    "    #ensure no overspill\n",
    "    for i in range(len(com)):\n",
    "        if mins[i] < 0:\n",
    "            maxs[i] -= mins[i]\n",
    "            mins[i] = 0\n",
    "        if maxs[i] > data.shape[i]:\n",
    "            dif = maxs[i]-data.shape[i]\n",
    "            mins[i] -= dif\n",
    "            maxs[i] = data.shape[i]\n",
    "        \n",
    "    #crop\n",
    "    data = data[mins[0]:maxs[0],mins[1]:maxs[1],mins[2]:maxs[2],:,:]\n",
    "    \n",
    "    \n",
    "    #add expansion mask\n",
    "    expand_mask(data)\n",
    "    \n",
    "    return data"
   ]
  },
  {
   "cell_type": "code",
   "execution_count": 109,
   "id": "5a4f6cdd-647f-46f5-bd39-cf72942709c2",
   "metadata": {},
   "outputs": [
    {
     "name": "stderr",
     "output_type": "stream",
     "text": [
      "  0%|                                                                                                                                                                                | 0/21 [00:00<?, ?it/s]"
     ]
    },
    {
     "name": "stdout",
     "output_type": "stream",
     "text": [
      "[0. 4.]\n",
      "[0. 1. 5.]\n",
      "class max = 5.0\n"
     ]
    },
    {
     "name": "stderr",
     "output_type": "stream",
     "text": [
      "  5%|████████                                                                                                                                                                | 1/21 [00:41<13:49, 41.45s/it]"
     ]
    },
    {
     "name": "stdout",
     "output_type": "stream",
     "text": [
      "[0. 1. 5.]\n",
      "[0. 1. 5.]\n",
      "class max = 5.0\n"
     ]
    },
    {
     "name": "stderr",
     "output_type": "stream",
     "text": [
      " 10%|████████████████                                                                                                                                                        | 2/21 [00:56<08:13, 25.95s/it]"
     ]
    },
    {
     "name": "stdout",
     "output_type": "stream",
     "text": [
      "[0. 1. 5.]\n",
      "ERROR SHAPE MISMATCH: data/BAV/images/bav03_4d_0000.nii.gz: img: (176, 208, 208, 61), seg: (176, 208, 208, 31)\n",
      "processing up to frame 31\n",
      "[0. 1. 5.]\n",
      "class max = 5.0\n"
     ]
    },
    {
     "name": "stderr",
     "output_type": "stream",
     "text": [
      " 14%|████████████████████████                                                                                                                                                | 3/21 [01:23<07:58, 26.56s/it]"
     ]
    },
    {
     "name": "stdout",
     "output_type": "stream",
     "text": [
      "[0. 1. 5.]\n",
      "[0. 1. 5.]\n",
      "class max = 5.0\n"
     ]
    },
    {
     "name": "stderr",
     "output_type": "stream",
     "text": [
      " 19%|████████████████████████████████                                                                                                                                        | 4/21 [01:57<08:17, 29.28s/it]"
     ]
    },
    {
     "name": "stdout",
     "output_type": "stream",
     "text": [
      "[0. 1. 5.]\n",
      "ERROR SHAPE MISMATCH: data/BAV/images/bav05_4d_0000.nii.gz: img: (224, 192, 208, 26), seg: (224, 192, 208, 13)\n",
      "processing up to frame 13\n",
      "[0. 1. 5.]\n",
      "class max = 5.0\n"
     ]
    },
    {
     "name": "stderr",
     "output_type": "stream",
     "text": [
      " 24%|████████████████████████████████████████                                                                                                                                | 5/21 [02:16<06:51, 25.72s/it]"
     ]
    },
    {
     "name": "stdout",
     "output_type": "stream",
     "text": [
      "[0. 1. 5.]\n",
      "ERROR SHAPE MISMATCH: data/BAV/images/bav07_4d_0000.nii.gz: img: (208, 176, 224, 16), seg: (208, 176, 224, 9)\n",
      "processing up to frame 9\n",
      "[0. 1. 5.]\n",
      "class max = 5.0\n"
     ]
    },
    {
     "name": "stderr",
     "output_type": "stream",
     "text": [
      " 29%|████████████████████████████████████████████████                                                                                                                        | 6/21 [02:25<04:57, 19.82s/it]"
     ]
    },
    {
     "name": "stdout",
     "output_type": "stream",
     "text": [
      "[0. 1. 5.]\n",
      "ERROR SHAPE MISMATCH: data/BAV/images/bav08_4d_0000.nii.gz: img: (176, 176, 208, 68), seg: (176, 176, 208, 26)\n",
      "processing up to frame 26\n",
      "[0. 1. 5.]\n",
      "class max = 5.0\n"
     ]
    },
    {
     "name": "stderr",
     "output_type": "stream",
     "text": [
      " 33%|████████████████████████████████████████████████████████                                                                                                                | 7/21 [02:46<04:47, 20.51s/it]"
     ]
    },
    {
     "name": "stdout",
     "output_type": "stream",
     "text": [
      "[0. 1. 5.]\n",
      "ERROR SHAPE MISMATCH: data/BAV/images/bav09_4d_0000.nii.gz: img: (176, 176, 208, 27), seg: (176, 176, 208, 16)\n",
      "processing up to frame 16\n",
      "[0. 1. 5.]\n",
      "class max = 5.0\n"
     ]
    },
    {
     "name": "stderr",
     "output_type": "stream",
     "text": [
      " 38%|████████████████████████████████████████████████████████████████                                                                                                        | 8/21 [03:02<04:07, 19.05s/it]"
     ]
    },
    {
     "name": "stdout",
     "output_type": "stream",
     "text": [
      "[0. 1. 5.]\n",
      "ERROR SHAPE MISMATCH: data/BAV/images/bav10_4d_0000.nii.gz: img: (176, 208, 208, 57), seg: (176, 208, 208, 20)\n",
      "processing up to frame 20\n",
      "[0. 1. 5.]\n",
      "class max = 5.0\n"
     ]
    },
    {
     "name": "stderr",
     "output_type": "stream",
     "text": [
      " 43%|████████████████████████████████████████████████████████████████████████                                                                                                | 9/21 [03:22<03:48, 19.08s/it]"
     ]
    },
    {
     "name": "stdout",
     "output_type": "stream",
     "text": [
      "[0. 1. 5.]\n",
      "[0. 1. 5.]\n",
      "class max = 5.0\n"
     ]
    },
    {
     "name": "stderr",
     "output_type": "stream",
     "text": [
      " 48%|███████████████████████████████████████████████████████████████████████████████▌                                                                                       | 10/21 [03:41<03:32, 19.29s/it]"
     ]
    },
    {
     "name": "stdout",
     "output_type": "stream",
     "text": [
      "[0. 1. 5.]\n",
      "[0. 1. 5.]\n",
      "class max = 5.0\n"
     ]
    },
    {
     "name": "stderr",
     "output_type": "stream",
     "text": [
      " 52%|███████████████████████████████████████████████████████████████████████████████████████▍                                                                               | 11/21 [03:58<03:04, 18.44s/it]"
     ]
    },
    {
     "name": "stdout",
     "output_type": "stream",
     "text": [
      "[0. 1. 5.]\n",
      "ERROR SHAPE MISMATCH: data/BAV/images/bav13_4d_0000.nii.gz: img: (176, 208, 224, 58), seg: (176, 208, 224, 30)\n",
      "processing up to frame 30\n",
      "[0. 1. 5.]\n",
      "class max = 5.0\n"
     ]
    },
    {
     "name": "stderr",
     "output_type": "stream",
     "text": [
      " 57%|███████████████████████████████████████████████████████████████████████████████████████████████▍                                                                       | 12/21 [04:23<03:05, 20.57s/it]"
     ]
    },
    {
     "name": "stdout",
     "output_type": "stream",
     "text": [
      "ERROR segpath unfound: data/BAV/segmentations/bav14_4d.nii.gz\n",
      "[0. 1. 5.]\n",
      "ERROR SHAPE MISMATCH: data/BAV/images/bav16_4d_0000.nii.gz: img: (224, 144, 208, 79), seg: (224, 144, 208, 40)\n",
      "processing up to frame 40\n",
      "[0. 1. 5.]\n",
      "class max = 5.0\n"
     ]
    },
    {
     "name": "stderr",
     "output_type": "stream",
     "text": [
      " 67%|███████████████████████████████████████████████████████████████████████████████████████████████████████████████▎                                                       | 14/21 [04:59<02:14, 19.20s/it]"
     ]
    },
    {
     "name": "stdout",
     "output_type": "stream",
     "text": [
      "ERROR segpath unfound: data/BAV/segmentations/bav17_4d.nii.gz\n",
      "[0. 1. 5.]\n",
      "[0. 1. 5.]\n",
      "class max = 5.0\n"
     ]
    },
    {
     "name": "stderr",
     "output_type": "stream",
     "text": [
      " 76%|███████████████████████████████████████████████████████████████████████████████████████████████████████████████████████████████▏                                       | 16/21 [05:33<01:31, 18.34s/it]"
     ]
    },
    {
     "name": "stdout",
     "output_type": "stream",
     "text": [
      "[0. 1. 5.]\n",
      "ERROR SHAPE MISMATCH: data/BAV/images/bav20_4d_0000.nii.gz: img: (176, 112, 208, 34), seg: (176, 112, 208, 26)\n",
      "processing up to frame 26\n",
      "padded dim 1 - shape = (176, 128, 208, 26, 2)\n",
      "[0. 1. 5.]\n",
      "class max = 5.0\n"
     ]
    },
    {
     "name": "stderr",
     "output_type": "stream",
     "text": [
      " 81%|███████████████████████████████████████████████████████████████████████████████████████████████████████████████████████████████████████▏                               | 17/21 [05:54<01:15, 18.94s/it]"
     ]
    },
    {
     "name": "stdout",
     "output_type": "stream",
     "text": [
      "[0. 1. 5.]\n",
      "[0. 1. 5.]\n",
      "class max = 5.0\n"
     ]
    },
    {
     "name": "stderr",
     "output_type": "stream",
     "text": [
      " 86%|███████████████████████████████████████████████████████████████████████████████████████████████████████████████████████████████████████████████▏                       | 18/21 [06:08<00:53, 17.93s/it]"
     ]
    },
    {
     "name": "stdout",
     "output_type": "stream",
     "text": [
      "[0. 1. 5.]\n",
      "ERROR SHAPE MISMATCH: data/BAV/images/bav24_4d_0000.nii.gz: img: (176, 176, 224, 19), seg: (176, 176, 224, 13)\n",
      "processing up to frame 13\n",
      "[0. 1. 5.]\n",
      "class max = 5.0\n"
     ]
    },
    {
     "name": "stderr",
     "output_type": "stream",
     "text": [
      " 90%|███████████████████████████████████████████████████████████████████████████████████████████████████████████████████████████████████████████████████████                | 19/21 [06:19<00:31, 15.94s/it]"
     ]
    },
    {
     "name": "stdout",
     "output_type": "stream",
     "text": [
      "[0. 1. 5.]\n",
      "ERROR SHAPE MISMATCH: data/BAV/images/bav25_4d_0000.nii.gz: img: (176, 176, 224, 19), seg: (176, 176, 224, 10)\n",
      "processing up to frame 10\n",
      "[0. 1. 5.]\n",
      "class max = 5.0\n"
     ]
    },
    {
     "name": "stderr",
     "output_type": "stream",
     "text": [
      " 95%|███████████████████████████████████████████████████████████████████████████████████████████████████████████████████████████████████████████████████████████████        | 20/21 [06:26<00:13, 13.63s/it]"
     ]
    },
    {
     "name": "stdout",
     "output_type": "stream",
     "text": [
      "[0. 1. 5.]\n",
      "padded dim 1 - shape = (224, 128, 208, 24, 2)\n",
      "[0. 1. 5.]\n",
      "class max = 5.0\n"
     ]
    },
    {
     "name": "stderr",
     "output_type": "stream",
     "text": [
      "100%|███████████████████████████████████████████████████████████████████████████████████████████████████████████████████████████████████████████████████████████████████████| 21/21 [06:42<00:00, 19.17s/it]\n"
     ]
    }
   ],
   "source": [
    "# Load a 4D image (.nii) and preprocess: crop to a set region around the segmentation mask and add a expansion mask (?) to the mask classes\n",
    "#Also reform mask classes - for now set all nonzero classes = 1, with possible expansion mask = 2\n",
    "\n",
    "# savedir = 'TAV/4d_preprocessed'\n",
    "savedir = 'data/multi-class/4d'\n",
    "readdir = 'data/BAV'\n",
    "segimgs = []\n",
    "for img_path in tqdm(sorted(glob.glob(readdir+\"/images/*.nii.gz\")), leave=True):\n",
    "    seg_path = readdir+\"/segmentations/{}.nii.gz\".format(os.path.split(img_path)[1][:-12])\n",
    "    \n",
    "    if os.path.exists('{}/{}'.format(savedir,img_path)):\n",
    "        print('path {} exists'.format('{}/images/{}'.format(savedir, os.path.split(img_path)[1])))\n",
    "        continue\n",
    "    \n",
    "    if not os.path.exists(seg_path):\n",
    "        print(\"ERROR segpath unfound: {}\".format(seg_path))\n",
    "        continue\n",
    "    img = nib.load(img_path)\n",
    "    imgdata = img.get_fdata()\n",
    "    seg = nib.load(seg_path)\n",
    "    segdata = seg.get_fdata()\n",
    "    \n",
    "    print(np.unique(data[:,:,:,:,1]))\n",
    "    \n",
    "    if imgdata.shape != segdata.shape:\n",
    "        print(\"ERROR SHAPE MISMATCH: {}: img: {}, seg: {}\".format(img_path, imgdata.shape, segdata.shape))\n",
    "        print('processing up to frame {}'.format(segdata.shape[3]))\n",
    "        imgdata = imgdata[:,:,:,:segdata.shape[3]]\n",
    "        # continue\n",
    "        \n",
    "    # #Make segdata a binary mask instead of multiclass\n",
    "    # segdata = segdata>0\n",
    "        \n",
    "    data = np.stack((imgdata,segdata), axis = 4)\n",
    "        \n",
    "    #run preprocessing\n",
    "    data = matrix_process(data)\n",
    "    \n",
    "    #save to nii\n",
    "    newimg = nib.Nifti1Image(data[:,:,:,:,0], np.eye(4))\n",
    "    newseg = nib.Nifti1Image(data[:,:,:,:,1], np.eye(4))\n",
    "    \n",
    "    newimgpath = '{}/images/{}'.format(savedir, os.path.split(img_path)[1])\n",
    "    newsegpath = '{}/segmentations/{}'.format(savedir, os.path.split(seg_path)[1])\n",
    "        \n",
    "    nib.save(newimg, newimgpath)\n",
    "    nib.save(newseg, newsegpath)"
   ]
  },
  {
   "cell_type": "code",
   "execution_count": 347,
   "id": "6add450c-fb71-4c6c-a389-4e68e3833aad",
   "metadata": {
    "collapsed": true,
    "jupyter": {
     "outputs_hidden": true
    },
    "tags": []
   },
   "outputs": [
    {
     "name": "stderr",
     "output_type": "stream",
     "text": [
      "100%|██████████████████████████████████████████████████████████████████████████████████████| 10/10 [01:29<00:00,  8.92s/it]"
     ]
    },
    {
     "name": "stdout",
     "output_type": "stream",
     "text": [
      "complete\n"
     ]
    },
    {
     "name": "stderr",
     "output_type": "stream",
     "text": [
      "\n"
     ]
    }
   ],
   "source": [
    "# FOR loading time series of 3D Masks (niii) and saving them as 4D images (.nii)\n",
    "filepath = \"TAV/segmentations/*/\"\n",
    "\n",
    "segimgs = []\n",
    "for sequence_path in tqdm(sorted(glob.glob(filepath)), leave=True):\n",
    "    temp = []\n",
    "    for img_path in sorted(glob.glob(\"{}/*.nii.gz\".format(sequence_path))):\n",
    "        img = nib.load(img_path)\n",
    "        imgdata = img.get_fdata()\n",
    "        temp.append(imgdata)\n",
    "    temp = np.transpose(np.array(temp), (1,2,3,0))\n",
    "    # print(\"{} loaded with shape {}\".format(img_path,temp.shape))\n",
    "    \n",
    "    data = temp.astype(np.int16)\n",
    "    img = nib.Nifti1Image(data, np.eye(4)) # np.eye(4) is a 4 dimensional image coordinate transformation\n",
    "    nib.save(img, '{}_4d.nii.gz'.format(sequence_path[:-1]))\n",
    "    \n",
    "print('complete')"
   ]
  },
  {
   "cell_type": "code",
   "execution_count": 75,
   "id": "a048e2ef-c6e1-43f0-bf19-c9719b55ff3a",
   "metadata": {},
   "outputs": [
    {
     "name": "stderr",
     "output_type": "stream",
     "text": [
      "100%|███████████████████████████████████████████████████████████████████████████████████████████████████████████████████████████████████████████████████████████████████████| 29/29 [00:24<00:00,  1.17it/s]"
     ]
    },
    {
     "name": "stdout",
     "output_type": "stream",
     "text": [
      "complete\n"
     ]
    },
    {
     "name": "stderr",
     "output_type": "stream",
     "text": [
      "\n"
     ]
    }
   ],
   "source": [
    "# FOR loading 4D images (.nii) and saving them as time series of 3D images (.nii)\n",
    "\n",
    "readdir = 'data/multi-class/4d'\n",
    "segorimg = 'seg' # 'seg', 'img'\n",
    "\n",
    "if segorimg == 'seg':\n",
    "    globpath = readdir+\"/segmentations/*.nii.gz\"\n",
    "else:\n",
    "    globpath = readdir+\"/images/*.nii.gz\" #\"4d_preprocessed/images/*.nii.gz\"\n",
    "\n",
    "\n",
    "segimgs = []\n",
    "for img_path in tqdm(sorted(glob.glob(globpath)), leave=True):\n",
    "    if segorimg == 'seg':\n",
    "        savedir = '{}'.format(os.path.splitext(os.path.splitext(img_path)[0])[0][:-3]) #for segmentation path\n",
    "    else:\n",
    "        savedir = '{}'.format(os.path.splitext(os.path.splitext(img_path)[0])[0][:-8]) #for image path\n",
    "\n",
    "    if os.path.exists(savedir) == False:\n",
    "        os.mkdir(savedir)\n",
    "        \n",
    "    img = nib.load(img_path)\n",
    "    imgdata = img.get_fdata()\n",
    "    for i in range(np.size(imgdata, axis=3)):\n",
    "        data = imgdata[:,:,:,i].astype(np.int16)\n",
    "        img = nib.Nifti1Image(data, np.eye(4)) # np.eye(4) is a 4 dimensional image coordinate transformation\n",
    "        \n",
    "        if segorimg == 'seg':\n",
    "            save_path = '{}/{}_{}.nii.gz'.format(savedir, \n",
    "                                                    os.path.split(savedir)[1],\n",
    "                                                    str(i+1).zfill(3)) #for segmentation\n",
    "        else:\n",
    "            save_path = '{}/{}_{}_0000.nii.gz'.format(savedir, \n",
    "                                                    os.path.split(savedir)[1],\n",
    "                                                    str(i+1).zfill(3)) #for images\n",
    "        \n",
    "        nib.save(img, save_path)\n",
    "        \n",
    "    # print(\"{} saved with {} frames\".format(img_path,np.size(imgdata, axis=3)))\n",
    "    \n",
    "print('complete')"
   ]
  },
  {
   "cell_type": "markdown",
   "id": "98d4b019-5227-4158-a793-dc6f2d318ac6",
   "metadata": {},
   "source": [
    "load in 4d image and segmentation niis as numpy arrays\n",
    "concatenate to create one 5 d array - (x, y, z, time, img_or_label)\n",
    "\n",
    "find center of mass of the segmentation mask based on (for each spatial dimension, along each dimension, take the sum of mask values and multiply by the index number, divide by the length of that dimension to get the center of mass index\n",
    "\n",
    "make all nonzero values of the mask = 1\n",
    "expansion mask: duplicate mask array, add a (dilation or blur, set all values past threshold = 1), add to the mask layer\n",
    "\n",
    "crop - try a 64x64x64 cube? i dunno"
   ]
  },
  {
   "cell_type": "code",
   "execution_count": 129,
   "id": "a7b69ebf-7ef5-4bd9-aca8-4722d3b04257",
   "metadata": {
    "tags": []
   },
   "outputs": [
    {
     "name": "stdout",
     "output_type": "stream",
     "text": [
      "data/BAV/images/bav12/bav12_003_0000.nii.gz\n",
      "z = 137\n"
     ]
    },
    {
     "data": {
      "image/png": "[encoded data removed]",
      "text/plain": [
       "<Figure size 1440x720 with 2 Axes>"
      ]
     },
     "metadata": {
      "needs_background": "light"
     },
     "output_type": "display_data"
    }
   ],
   "source": [
    "#TESTER CELL\n",
    "import random\n",
    "\n",
    "img_paths = sorted(glob.glob('data/multi-class/3d/images/*/*.nii.gz'))\n",
    "seg_paths = sorted(glob.glob('data/multi-class/3d/segmentations/*/*.nii.gz'))\n",
    "# img_paths = sorted(glob.glob('data/BAV/images/*/*.nii.gz'))\n",
    "# seg_paths = sorted(glob.glob('data/BAV/segmentations/*/*.nii.gz'))\n",
    "randindex = int(random.random()*len(img_paths))\n",
    "\n",
    "img = nib.load(img_paths[randindex])\n",
    "imgdata = img.get_fdata()\n",
    "\n",
    "seg = nib.load(seg_paths[randindex])\n",
    "segdata = seg.get_fdata()\n",
    "\n",
    "# rand_timeframe = int(random.random()*imgdata.shape[3])\n",
    "rand_slice_pos = int(random.random()*imgdata.shape[2])\n",
    "\n",
    "print(img_paths[randindex])\n",
    "print('z = {}'.format(rand_slice_pos))\n",
    "\n",
    "\n",
    "fig, axs = plt.subplots(1, 2, figsize = (20,10))\n",
    "axs[0].imshow(imgdata[:,:,rand_slice_pos])#,rand_timeframe])\n",
    "axs[1].imshow(segdata[:,:,rand_slice_pos])#,rand_timeframe])\n",
    "plt.show()"
   ]
  },
  {
   "cell_type": "code",
   "execution_count": null,
   "id": "2f0c2419-4fa7-466e-907a-2ded9e5cf565",
   "metadata": {},
   "outputs": [
    {
     "ename": "ModuleNotFoundError",
     "evalue": "No module named 'vtk'",
     "output_type": "error",
     "traceback": [
      "\u001b[0;31m---------------------------------------------------------------------------\u001b[0m",
      "\u001b[0;31mModuleNotFoundError\u001b[0m                       Traceback (most recent call last)",
      "\u001b[0;32m/tmp/ipykernel_3341/2161647723.py\u001b[0m in \u001b[0;36m<module>\u001b[0;34m\u001b[0m\n\u001b[0;32m----> 1\u001b[0;31m \u001b[0;32mimport\u001b[0m \u001b[0mvtk\u001b[0m\u001b[0;34m\u001b[0m\u001b[0;34m\u001b[0m\u001b[0m\n\u001b[0m\u001b[1;32m      2\u001b[0m \u001b[0;32mfrom\u001b[0m \u001b[0mvtk\u001b[0m\u001b[0;34m.\u001b[0m\u001b[0mutil\u001b[0m\u001b[0;34m.\u001b[0m\u001b[0mnumpy_support\u001b[0m \u001b[0;32mimport\u001b[0m \u001b[0mvtk_to_numpy\u001b[0m\u001b[0;34m\u001b[0m\u001b[0;34m\u001b[0m\u001b[0m\n\u001b[1;32m      3\u001b[0m \u001b[0;34m\u001b[0m\u001b[0m\n\u001b[1;32m      4\u001b[0m \u001b[0mimr\u001b[0m \u001b[0;34m=\u001b[0m \u001b[0mvtk\u001b[0m\u001b[0;34m.\u001b[0m\u001b[0mvtkMetaImageReader\u001b[0m\u001b[0;34m(\u001b[0m\u001b[0;34m)\u001b[0m\u001b[0;34m\u001b[0m\u001b[0;34m\u001b[0m\u001b[0m\n\u001b[1;32m      5\u001b[0m \u001b[0mimr\u001b[0m\u001b[0;34m.\u001b[0m\u001b[0mSetFileName\u001b[0m\u001b[0;34m(\u001b[0m\u001b[0;34m't10-Subvolume-resample_scale-1.mhd'\u001b[0m\u001b[0;34m)\u001b[0m\u001b[0;34m\u001b[0m\u001b[0;34m\u001b[0m\u001b[0m\n",
      "\u001b[0;31mModuleNotFoundError\u001b[0m: No module named 'vtk'"
     ]
    }
   ],
   "source": [
    "import vtk\n",
    "from vtk.util.numpy_support import vtk_to_numpy\n",
    "\n",
    "imr = vtk.vtkMetaImageReader()\n",
    "imr.SetFileName('t10-Subvolume-resample_scale-1.mhd')\n",
    "imr.Update()\n",
    "\n",
    "im = imr.GetOutput()\n",
    "rows, cols, _ = im.GetDimensions()\n",
    "sc = im.GetPointData().GetScalars()\n",
    "a = vtk_to_numpy(sc)\n",
    "a = a.reshape(rows, cols, -1)\n",
    "\n",
    "assert a.shape==im.GetDimensions()\n"
   ]
  },
  {
   "cell_type": "code",
   "execution_count": null,
   "id": "c3338c91-4db5-4e0b-a616-da1ff35a6f27",
   "metadata": {},
   "outputs": [],
   "source": []
  },
  {
   "cell_type": "code",
   "execution_count": null,
   "id": "573f1175-4d9f-4d1c-b70a-bf172186ae28",
   "metadata": {},
   "outputs": [],
   "source": []
  },
  {
   "cell_type": "code",
   "execution_count": null,
   "id": "03d4a54c-bc29-49d1-bacb-e8e2dc5b09e6",
   "metadata": {},
   "outputs": [],
   "source": []
  },
  {
   "cell_type": "code",
   "execution_count": 11,
   "id": "e9db931c-451a-4911-81d0-866295d9c057",
   "metadata": {
    "collapsed": true,
    "jupyter": {
     "outputs_hidden": true
    },
    "tags": []
   },
   "outputs": [
    {
     "name": "stderr",
     "output_type": "stream",
     "text": [
      "  0%|                                                                                                                                                                                | 0/19 [00:00<?, ?it/s]/Users/trevorchan/environments/echo/lib/python3.7/site-packages/ipykernel_launcher.py:39: UserWarning: 4d_preprocessed/segmentations/bav01/bav01_001.tif is a low contrast image\n",
      "/Users/trevorchan/environments/echo/lib/python3.7/site-packages/ipykernel_launcher.py:39: UserWarning: 4d_preprocessed/segmentations/bav01/bav01_002.tif is a low contrast image\n",
      "/Users/trevorchan/environments/echo/lib/python3.7/site-packages/ipykernel_launcher.py:39: UserWarning: 4d_preprocessed/segmentations/bav01/bav01_003.tif is a low contrast image\n",
      "/Users/trevorchan/environments/echo/lib/python3.7/site-packages/ipykernel_launcher.py:39: UserWarning: 4d_preprocessed/segmentations/bav01/bav01_004.tif is a low contrast image\n",
      "/Users/trevorchan/environments/echo/lib/python3.7/site-packages/ipykernel_launcher.py:39: UserWarning: 4d_preprocessed/segmentations/bav01/bav01_005.tif is a low contrast image\n",
      "/Users/trevorchan/environments/echo/lib/python3.7/site-packages/ipykernel_launcher.py:39: UserWarning: 4d_preprocessed/segmentations/bav01/bav01_006.tif is a low contrast image\n",
      "/Users/trevorchan/environments/echo/lib/python3.7/site-packages/ipykernel_launcher.py:39: UserWarning: 4d_preprocessed/segmentations/bav01/bav01_007.tif is a low contrast image\n",
      "/Users/trevorchan/environments/echo/lib/python3.7/site-packages/ipykernel_launcher.py:39: UserWarning: 4d_preprocessed/segmentations/bav01/bav01_008.tif is a low contrast image\n",
      "/Users/trevorchan/environments/echo/lib/python3.7/site-packages/ipykernel_launcher.py:39: UserWarning: 4d_preprocessed/segmentations/bav01/bav01_009.tif is a low contrast image\n",
      "/Users/trevorchan/environments/echo/lib/python3.7/site-packages/ipykernel_launcher.py:39: UserWarning: 4d_preprocessed/segmentations/bav01/bav01_010.tif is a low contrast image\n",
      "/Users/trevorchan/environments/echo/lib/python3.7/site-packages/ipykernel_launcher.py:39: UserWarning: 4d_preprocessed/segmentations/bav01/bav01_011.tif is a low contrast image\n",
      "/Users/trevorchan/environments/echo/lib/python3.7/site-packages/ipykernel_launcher.py:39: UserWarning: 4d_preprocessed/segmentations/bav01/bav01_012.tif is a low contrast image\n",
      "/Users/trevorchan/environments/echo/lib/python3.7/site-packages/ipykernel_launcher.py:39: UserWarning: 4d_preprocessed/segmentations/bav01/bav01_013.tif is a low contrast image\n",
      "/Users/trevorchan/environments/echo/lib/python3.7/site-packages/ipykernel_launcher.py:39: UserWarning: 4d_preprocessed/segmentations/bav01/bav01_014.tif is a low contrast image\n",
      "/Users/trevorchan/environments/echo/lib/python3.7/site-packages/ipykernel_launcher.py:39: UserWarning: 4d_preprocessed/segmentations/bav01/bav01_015.tif is a low contrast image\n",
      "/Users/trevorchan/environments/echo/lib/python3.7/site-packages/ipykernel_launcher.py:39: UserWarning: 4d_preprocessed/segmentations/bav01/bav01_016.tif is a low contrast image\n",
      "/Users/trevorchan/environments/echo/lib/python3.7/site-packages/ipykernel_launcher.py:39: UserWarning: 4d_preprocessed/segmentations/bav01/bav01_017.tif is a low contrast image\n",
      "/Users/trevorchan/environments/echo/lib/python3.7/site-packages/ipykernel_launcher.py:39: UserWarning: 4d_preprocessed/segmentations/bav01/bav01_018.tif is a low contrast image\n",
      "/Users/trevorchan/environments/echo/lib/python3.7/site-packages/ipykernel_launcher.py:39: UserWarning: 4d_preprocessed/segmentations/bav01/bav01_019.tif is a low contrast image\n",
      "/Users/trevorchan/environments/echo/lib/python3.7/site-packages/ipykernel_launcher.py:39: UserWarning: 4d_preprocessed/segmentations/bav01/bav01_020.tif is a low contrast image\n",
      "/Users/trevorchan/environments/echo/lib/python3.7/site-packages/ipykernel_launcher.py:39: UserWarning: 4d_preprocessed/segmentations/bav01/bav01_021.tif is a low contrast image\n",
      "/Users/trevorchan/environments/echo/lib/python3.7/site-packages/ipykernel_launcher.py:39: UserWarning: 4d_preprocessed/segmentations/bav01/bav01_022.tif is a low contrast image\n",
      "/Users/trevorchan/environments/echo/lib/python3.7/site-packages/ipykernel_launcher.py:39: UserWarning: 4d_preprocessed/segmentations/bav01/bav01_023.tif is a low contrast image\n",
      "/Users/trevorchan/environments/echo/lib/python3.7/site-packages/ipykernel_launcher.py:39: UserWarning: 4d_preprocessed/segmentations/bav01/bav01_024.tif is a low contrast image\n",
      "/Users/trevorchan/environments/echo/lib/python3.7/site-packages/ipykernel_launcher.py:39: UserWarning: 4d_preprocessed/segmentations/bav01/bav01_025.tif is a low contrast image\n",
      "/Users/trevorchan/environments/echo/lib/python3.7/site-packages/ipykernel_launcher.py:39: UserWarning: 4d_preprocessed/segmentations/bav01/bav01_026.tif is a low contrast image\n",
      "  5%|████████▊                                                                                                                                                               | 1/19 [00:02<00:48,  2.67s/it]/Users/trevorchan/environments/echo/lib/python3.7/site-packages/ipykernel_launcher.py:39: UserWarning: 4d_preprocessed/segmentations/bav02/bav02_001.tif is a low contrast image\n",
      "/Users/trevorchan/environments/echo/lib/python3.7/site-packages/ipykernel_launcher.py:39: UserWarning: 4d_preprocessed/segmentations/bav02/bav02_002.tif is a low contrast image\n",
      "/Users/trevorchan/environments/echo/lib/python3.7/site-packages/ipykernel_launcher.py:39: UserWarning: 4d_preprocessed/segmentations/bav02/bav02_003.tif is a low contrast image\n",
      "/Users/trevorchan/environments/echo/lib/python3.7/site-packages/ipykernel_launcher.py:39: UserWarning: 4d_preprocessed/segmentations/bav02/bav02_004.tif is a low contrast image\n",
      "/Users/trevorchan/environments/echo/lib/python3.7/site-packages/ipykernel_launcher.py:39: UserWarning: 4d_preprocessed/segmentations/bav02/bav02_005.tif is a low contrast image\n",
      "/Users/trevorchan/environments/echo/lib/python3.7/site-packages/ipykernel_launcher.py:39: UserWarning: 4d_preprocessed/segmentations/bav02/bav02_006.tif is a low contrast image\n",
      "/Users/trevorchan/environments/echo/lib/python3.7/site-packages/ipykernel_launcher.py:39: UserWarning: 4d_preprocessed/segmentations/bav02/bav02_007.tif is a low contrast image\n",
      "/Users/trevorchan/environments/echo/lib/python3.7/site-packages/ipykernel_launcher.py:39: UserWarning: 4d_preprocessed/segmentations/bav02/bav02_008.tif is a low contrast image\n",
      "/Users/trevorchan/environments/echo/lib/python3.7/site-packages/ipykernel_launcher.py:39: UserWarning: 4d_preprocessed/segmentations/bav02/bav02_009.tif is a low contrast image\n",
      "/Users/trevorchan/environments/echo/lib/python3.7/site-packages/ipykernel_launcher.py:39: UserWarning: 4d_preprocessed/segmentations/bav02/bav02_010.tif is a low contrast image\n",
      "/Users/trevorchan/environments/echo/lib/python3.7/site-packages/ipykernel_launcher.py:39: UserWarning: 4d_preprocessed/segmentations/bav02/bav02_011.tif is a low contrast image\n",
      "/Users/trevorchan/environments/echo/lib/python3.7/site-packages/ipykernel_launcher.py:39: UserWarning: 4d_preprocessed/segmentations/bav02/bav02_012.tif is a low contrast image\n",
      "/Users/trevorchan/environments/echo/lib/python3.7/site-packages/ipykernel_launcher.py:39: UserWarning: 4d_preprocessed/segmentations/bav02/bav02_013.tif is a low contrast image\n",
      " 11%|█████████████████▋                                                                                                                                                      | 2/19 [00:03<00:26,  1.56s/it]/Users/trevorchan/environments/echo/lib/python3.7/site-packages/ipykernel_launcher.py:39: UserWarning: 4d_preprocessed/segmentations/bav03/bav03_001.tif is a low contrast image\n",
      "/Users/trevorchan/environments/echo/lib/python3.7/site-packages/ipykernel_launcher.py:39: UserWarning: 4d_preprocessed/segmentations/bav03/bav03_002.tif is a low contrast image\n",
      "/Users/trevorchan/environments/echo/lib/python3.7/site-packages/ipykernel_launcher.py:39: UserWarning: 4d_preprocessed/segmentations/bav03/bav03_003.tif is a low contrast image\n",
      "/Users/trevorchan/environments/echo/lib/python3.7/site-packages/ipykernel_launcher.py:39: UserWarning: 4d_preprocessed/segmentations/bav03/bav03_004.tif is a low contrast image\n",
      "/Users/trevorchan/environments/echo/lib/python3.7/site-packages/ipykernel_launcher.py:39: UserWarning: 4d_preprocessed/segmentations/bav03/bav03_005.tif is a low contrast image\n",
      "/Users/trevorchan/environments/echo/lib/python3.7/site-packages/ipykernel_launcher.py:39: UserWarning: 4d_preprocessed/segmentations/bav03/bav03_006.tif is a low contrast image\n",
      "/Users/trevorchan/environments/echo/lib/python3.7/site-packages/ipykernel_launcher.py:39: UserWarning: 4d_preprocessed/segmentations/bav03/bav03_007.tif is a low contrast image\n",
      "/Users/trevorchan/environments/echo/lib/python3.7/site-packages/ipykernel_launcher.py:39: UserWarning: 4d_preprocessed/segmentations/bav03/bav03_008.tif is a low contrast image\n",
      "/Users/trevorchan/environments/echo/lib/python3.7/site-packages/ipykernel_launcher.py:39: UserWarning: 4d_preprocessed/segmentations/bav03/bav03_009.tif is a low contrast image\n",
      "/Users/trevorchan/environments/echo/lib/python3.7/site-packages/ipykernel_launcher.py:39: UserWarning: 4d_preprocessed/segmentations/bav03/bav03_010.tif is a low contrast image\n",
      "/Users/trevorchan/environments/echo/lib/python3.7/site-packages/ipykernel_launcher.py:39: UserWarning: 4d_preprocessed/segmentations/bav03/bav03_011.tif is a low contrast image\n",
      "/Users/trevorchan/environments/echo/lib/python3.7/site-packages/ipykernel_launcher.py:39: UserWarning: 4d_preprocessed/segmentations/bav03/bav03_012.tif is a low contrast image\n",
      "/Users/trevorchan/environments/echo/lib/python3.7/site-packages/ipykernel_launcher.py:39: UserWarning: 4d_preprocessed/segmentations/bav03/bav03_013.tif is a low contrast image\n",
      "/Users/trevorchan/environments/echo/lib/python3.7/site-packages/ipykernel_launcher.py:39: UserWarning: 4d_preprocessed/segmentations/bav03/bav03_014.tif is a low contrast image\n",
      "/Users/trevorchan/environments/echo/lib/python3.7/site-packages/ipykernel_launcher.py:39: UserWarning: 4d_preprocessed/segmentations/bav03/bav03_015.tif is a low contrast image\n",
      "/Users/trevorchan/environments/echo/lib/python3.7/site-packages/ipykernel_launcher.py:39: UserWarning: 4d_preprocessed/segmentations/bav03/bav03_016.tif is a low contrast image\n",
      "/Users/trevorchan/environments/echo/lib/python3.7/site-packages/ipykernel_launcher.py:39: UserWarning: 4d_preprocessed/segmentations/bav03/bav03_017.tif is a low contrast image\n",
      "/Users/trevorchan/environments/echo/lib/python3.7/site-packages/ipykernel_launcher.py:39: UserWarning: 4d_preprocessed/segmentations/bav03/bav03_018.tif is a low contrast image\n",
      "/Users/trevorchan/environments/echo/lib/python3.7/site-packages/ipykernel_launcher.py:39: UserWarning: 4d_preprocessed/segmentations/bav03/bav03_019.tif is a low contrast image\n",
      "/Users/trevorchan/environments/echo/lib/python3.7/site-packages/ipykernel_launcher.py:39: UserWarning: 4d_preprocessed/segmentations/bav03/bav03_020.tif is a low contrast image\n",
      "/Users/trevorchan/environments/echo/lib/python3.7/site-packages/ipykernel_launcher.py:39: UserWarning: 4d_preprocessed/segmentations/bav03/bav03_021.tif is a low contrast image\n",
      "/Users/trevorchan/environments/echo/lib/python3.7/site-packages/ipykernel_launcher.py:39: UserWarning: 4d_preprocessed/segmentations/bav03/bav03_022.tif is a low contrast image\n",
      "/Users/trevorchan/environments/echo/lib/python3.7/site-packages/ipykernel_launcher.py:39: UserWarning: 4d_preprocessed/segmentations/bav03/bav03_023.tif is a low contrast image\n",
      "/Users/trevorchan/environments/echo/lib/python3.7/site-packages/ipykernel_launcher.py:39: UserWarning: 4d_preprocessed/segmentations/bav03/bav03_024.tif is a low contrast image\n",
      "/Users/trevorchan/environments/echo/lib/python3.7/site-packages/ipykernel_launcher.py:39: UserWarning: 4d_preprocessed/segmentations/bav03/bav03_025.tif is a low contrast image\n",
      "/Users/trevorchan/environments/echo/lib/python3.7/site-packages/ipykernel_launcher.py:39: UserWarning: 4d_preprocessed/segmentations/bav03/bav03_026.tif is a low contrast image\n",
      "/Users/trevorchan/environments/echo/lib/python3.7/site-packages/ipykernel_launcher.py:39: UserWarning: 4d_preprocessed/segmentations/bav03/bav03_027.tif is a low contrast image\n",
      "/Users/trevorchan/environments/echo/lib/python3.7/site-packages/ipykernel_launcher.py:39: UserWarning: 4d_preprocessed/segmentations/bav03/bav03_028.tif is a low contrast image\n",
      "/Users/trevorchan/environments/echo/lib/python3.7/site-packages/ipykernel_launcher.py:39: UserWarning: 4d_preprocessed/segmentations/bav03/bav03_029.tif is a low contrast image\n",
      "/Users/trevorchan/environments/echo/lib/python3.7/site-packages/ipykernel_launcher.py:39: UserWarning: 4d_preprocessed/segmentations/bav03/bav03_030.tif is a low contrast image\n",
      "/Users/trevorchan/environments/echo/lib/python3.7/site-packages/ipykernel_launcher.py:39: UserWarning: 4d_preprocessed/segmentations/bav03/bav03_031.tif is a low contrast image\n",
      " 16%|██████████████████████████▌                                                                                                                                             | 3/19 [00:05<00:28,  1.77s/it]/Users/trevorchan/environments/echo/lib/python3.7/site-packages/ipykernel_launcher.py:39: UserWarning: 4d_preprocessed/segmentations/bav04/bav04_001.tif is a low contrast image\n",
      "/Users/trevorchan/environments/echo/lib/python3.7/site-packages/ipykernel_launcher.py:39: UserWarning: 4d_preprocessed/segmentations/bav04/bav04_002.tif is a low contrast image\n",
      "/Users/trevorchan/environments/echo/lib/python3.7/site-packages/ipykernel_launcher.py:39: UserWarning: 4d_preprocessed/segmentations/bav04/bav04_003.tif is a low contrast image\n",
      "/Users/trevorchan/environments/echo/lib/python3.7/site-packages/ipykernel_launcher.py:39: UserWarning: 4d_preprocessed/segmentations/bav04/bav04_004.tif is a low contrast image\n",
      "/Users/trevorchan/environments/echo/lib/python3.7/site-packages/ipykernel_launcher.py:39: UserWarning: 4d_preprocessed/segmentations/bav04/bav04_005.tif is a low contrast image\n",
      "/Users/trevorchan/environments/echo/lib/python3.7/site-packages/ipykernel_launcher.py:39: UserWarning: 4d_preprocessed/segmentations/bav04/bav04_006.tif is a low contrast image\n",
      "/Users/trevorchan/environments/echo/lib/python3.7/site-packages/ipykernel_launcher.py:39: UserWarning: 4d_preprocessed/segmentations/bav04/bav04_007.tif is a low contrast image\n",
      "/Users/trevorchan/environments/echo/lib/python3.7/site-packages/ipykernel_launcher.py:39: UserWarning: 4d_preprocessed/segmentations/bav04/bav04_008.tif is a low contrast image\n",
      "/Users/trevorchan/environments/echo/lib/python3.7/site-packages/ipykernel_launcher.py:39: UserWarning: 4d_preprocessed/segmentations/bav04/bav04_009.tif is a low contrast image\n",
      "/Users/trevorchan/environments/echo/lib/python3.7/site-packages/ipykernel_launcher.py:39: UserWarning: 4d_preprocessed/segmentations/bav04/bav04_010.tif is a low contrast image\n",
      "/Users/trevorchan/environments/echo/lib/python3.7/site-packages/ipykernel_launcher.py:39: UserWarning: 4d_preprocessed/segmentations/bav04/bav04_011.tif is a low contrast image\n",
      "/Users/trevorchan/environments/echo/lib/python3.7/site-packages/ipykernel_launcher.py:39: UserWarning: 4d_preprocessed/segmentations/bav04/bav04_012.tif is a low contrast image\n",
      "/Users/trevorchan/environments/echo/lib/python3.7/site-packages/ipykernel_launcher.py:39: UserWarning: 4d_preprocessed/segmentations/bav04/bav04_013.tif is a low contrast image\n",
      "/Users/trevorchan/environments/echo/lib/python3.7/site-packages/ipykernel_launcher.py:39: UserWarning: 4d_preprocessed/segmentations/bav04/bav04_014.tif is a low contrast image\n",
      "/Users/trevorchan/environments/echo/lib/python3.7/site-packages/ipykernel_launcher.py:39: UserWarning: 4d_preprocessed/segmentations/bav04/bav04_015.tif is a low contrast image\n",
      "/Users/trevorchan/environments/echo/lib/python3.7/site-packages/ipykernel_launcher.py:39: UserWarning: 4d_preprocessed/segmentations/bav04/bav04_016.tif is a low contrast image\n",
      "/Users/trevorchan/environments/echo/lib/python3.7/site-packages/ipykernel_launcher.py:39: UserWarning: 4d_preprocessed/segmentations/bav04/bav04_017.tif is a low contrast image\n",
      "/Users/trevorchan/environments/echo/lib/python3.7/site-packages/ipykernel_launcher.py:39: UserWarning: 4d_preprocessed/segmentations/bav04/bav04_018.tif is a low contrast image\n",
      "/Users/trevorchan/environments/echo/lib/python3.7/site-packages/ipykernel_launcher.py:39: UserWarning: 4d_preprocessed/segmentations/bav04/bav04_019.tif is a low contrast image\n",
      "/Users/trevorchan/environments/echo/lib/python3.7/site-packages/ipykernel_launcher.py:39: UserWarning: 4d_preprocessed/segmentations/bav04/bav04_020.tif is a low contrast image\n",
      "/Users/trevorchan/environments/echo/lib/python3.7/site-packages/ipykernel_launcher.py:39: UserWarning: 4d_preprocessed/segmentations/bav04/bav04_021.tif is a low contrast image\n",
      "/Users/trevorchan/environments/echo/lib/python3.7/site-packages/ipykernel_launcher.py:39: UserWarning: 4d_preprocessed/segmentations/bav04/bav04_022.tif is a low contrast image\n",
      "/Users/trevorchan/environments/echo/lib/python3.7/site-packages/ipykernel_launcher.py:39: UserWarning: 4d_preprocessed/segmentations/bav04/bav04_023.tif is a low contrast image\n",
      "/Users/trevorchan/environments/echo/lib/python3.7/site-packages/ipykernel_launcher.py:39: UserWarning: 4d_preprocessed/segmentations/bav04/bav04_024.tif is a low contrast image\n",
      "/Users/trevorchan/environments/echo/lib/python3.7/site-packages/ipykernel_launcher.py:39: UserWarning: 4d_preprocessed/segmentations/bav04/bav04_025.tif is a low contrast image\n",
      "/Users/trevorchan/environments/echo/lib/python3.7/site-packages/ipykernel_launcher.py:39: UserWarning: 4d_preprocessed/segmentations/bav04/bav04_026.tif is a low contrast image\n",
      "/Users/trevorchan/environments/echo/lib/python3.7/site-packages/ipykernel_launcher.py:39: UserWarning: 4d_preprocessed/segmentations/bav04/bav04_027.tif is a low contrast image\n",
      "/Users/trevorchan/environments/echo/lib/python3.7/site-packages/ipykernel_launcher.py:39: UserWarning: 4d_preprocessed/segmentations/bav04/bav04_028.tif is a low contrast image\n",
      "/Users/trevorchan/environments/echo/lib/python3.7/site-packages/ipykernel_launcher.py:39: UserWarning: 4d_preprocessed/segmentations/bav04/bav04_029.tif is a low contrast image\n",
      "/Users/trevorchan/environments/echo/lib/python3.7/site-packages/ipykernel_launcher.py:39: UserWarning: 4d_preprocessed/segmentations/bav04/bav04_030.tif is a low contrast image\n",
      "/Users/trevorchan/environments/echo/lib/python3.7/site-packages/ipykernel_launcher.py:39: UserWarning: 4d_preprocessed/segmentations/bav04/bav04_031.tif is a low contrast image\n",
      "/Users/trevorchan/environments/echo/lib/python3.7/site-packages/ipykernel_launcher.py:39: UserWarning: 4d_preprocessed/segmentations/bav04/bav04_032.tif is a low contrast image\n",
      "/Users/trevorchan/environments/echo/lib/python3.7/site-packages/ipykernel_launcher.py:39: UserWarning: 4d_preprocessed/segmentations/bav04/bav04_033.tif is a low contrast image\n",
      "/Users/trevorchan/environments/echo/lib/python3.7/site-packages/ipykernel_launcher.py:39: UserWarning: 4d_preprocessed/segmentations/bav04/bav04_034.tif is a low contrast image\n",
      "/Users/trevorchan/environments/echo/lib/python3.7/site-packages/ipykernel_launcher.py:39: UserWarning: 4d_preprocessed/segmentations/bav04/bav04_035.tif is a low contrast image\n",
      " 21%|███████████████████████████████████▎                                                                                                                                    | 4/19 [00:08<00:32,  2.18s/it]/Users/trevorchan/environments/echo/lib/python3.7/site-packages/ipykernel_launcher.py:39: UserWarning: 4d_preprocessed/segmentations/bav05/bav05_001.tif is a low contrast image\n",
      "/Users/trevorchan/environments/echo/lib/python3.7/site-packages/ipykernel_launcher.py:39: UserWarning: 4d_preprocessed/segmentations/bav05/bav05_002.tif is a low contrast image\n",
      "/Users/trevorchan/environments/echo/lib/python3.7/site-packages/ipykernel_launcher.py:39: UserWarning: 4d_preprocessed/segmentations/bav05/bav05_003.tif is a low contrast image\n",
      "/Users/trevorchan/environments/echo/lib/python3.7/site-packages/ipykernel_launcher.py:39: UserWarning: 4d_preprocessed/segmentations/bav05/bav05_004.tif is a low contrast image\n",
      "/Users/trevorchan/environments/echo/lib/python3.7/site-packages/ipykernel_launcher.py:39: UserWarning: 4d_preprocessed/segmentations/bav05/bav05_005.tif is a low contrast image\n",
      "/Users/trevorchan/environments/echo/lib/python3.7/site-packages/ipykernel_launcher.py:39: UserWarning: 4d_preprocessed/segmentations/bav05/bav05_006.tif is a low contrast image\n",
      "/Users/trevorchan/environments/echo/lib/python3.7/site-packages/ipykernel_launcher.py:39: UserWarning: 4d_preprocessed/segmentations/bav05/bav05_007.tif is a low contrast image\n",
      "/Users/trevorchan/environments/echo/lib/python3.7/site-packages/ipykernel_launcher.py:39: UserWarning: 4d_preprocessed/segmentations/bav05/bav05_008.tif is a low contrast image\n",
      "/Users/trevorchan/environments/echo/lib/python3.7/site-packages/ipykernel_launcher.py:39: UserWarning: 4d_preprocessed/segmentations/bav05/bav05_009.tif is a low contrast image\n",
      "/Users/trevorchan/environments/echo/lib/python3.7/site-packages/ipykernel_launcher.py:39: UserWarning: 4d_preprocessed/segmentations/bav05/bav05_010.tif is a low contrast image\n",
      "/Users/trevorchan/environments/echo/lib/python3.7/site-packages/ipykernel_launcher.py:39: UserWarning: 4d_preprocessed/segmentations/bav05/bav05_011.tif is a low contrast image\n",
      "/Users/trevorchan/environments/echo/lib/python3.7/site-packages/ipykernel_launcher.py:39: UserWarning: 4d_preprocessed/segmentations/bav05/bav05_012.tif is a low contrast image\n",
      "/Users/trevorchan/environments/echo/lib/python3.7/site-packages/ipykernel_launcher.py:39: UserWarning: 4d_preprocessed/segmentations/bav05/bav05_013.tif is a low contrast image\n",
      " 26%|████████████████████████████████████████████▏                                                                                                                           | 5/19 [00:09<00:24,  1.72s/it]/Users/trevorchan/environments/echo/lib/python3.7/site-packages/ipykernel_launcher.py:39: UserWarning: 4d_preprocessed/segmentations/bav07/bav07_001.tif is a low contrast image\n",
      "/Users/trevorchan/environments/echo/lib/python3.7/site-packages/ipykernel_launcher.py:39: UserWarning: 4d_preprocessed/segmentations/bav07/bav07_002.tif is a low contrast image\n",
      "/Users/trevorchan/environments/echo/lib/python3.7/site-packages/ipykernel_launcher.py:39: UserWarning: 4d_preprocessed/segmentations/bav07/bav07_003.tif is a low contrast image\n",
      "/Users/trevorchan/environments/echo/lib/python3.7/site-packages/ipykernel_launcher.py:39: UserWarning: 4d_preprocessed/segmentations/bav07/bav07_004.tif is a low contrast image\n",
      "/Users/trevorchan/environments/echo/lib/python3.7/site-packages/ipykernel_launcher.py:39: UserWarning: 4d_preprocessed/segmentations/bav07/bav07_005.tif is a low contrast image\n",
      "/Users/trevorchan/environments/echo/lib/python3.7/site-packages/ipykernel_launcher.py:39: UserWarning: 4d_preprocessed/segmentations/bav07/bav07_006.tif is a low contrast image\n",
      "/Users/trevorchan/environments/echo/lib/python3.7/site-packages/ipykernel_launcher.py:39: UserWarning: 4d_preprocessed/segmentations/bav07/bav07_007.tif is a low contrast image\n",
      "/Users/trevorchan/environments/echo/lib/python3.7/site-packages/ipykernel_launcher.py:39: UserWarning: 4d_preprocessed/segmentations/bav07/bav07_008.tif is a low contrast image\n",
      "/Users/trevorchan/environments/echo/lib/python3.7/site-packages/ipykernel_launcher.py:39: UserWarning: 4d_preprocessed/segmentations/bav07/bav07_009.tif is a low contrast image\n",
      " 32%|█████████████████████████████████████████████████████                                                                                                                   | 6/19 [00:09<00:17,  1.36s/it]/Users/trevorchan/environments/echo/lib/python3.7/site-packages/ipykernel_launcher.py:39: UserWarning: 4d_preprocessed/segmentations/bav08/bav08_001.tif is a low contrast image\n",
      "/Users/trevorchan/environments/echo/lib/python3.7/site-packages/ipykernel_launcher.py:39: UserWarning: 4d_preprocessed/segmentations/bav08/bav08_002.tif is a low contrast image\n",
      "/Users/trevorchan/environments/echo/lib/python3.7/site-packages/ipykernel_launcher.py:39: UserWarning: 4d_preprocessed/segmentations/bav08/bav08_003.tif is a low contrast image\n",
      "/Users/trevorchan/environments/echo/lib/python3.7/site-packages/ipykernel_launcher.py:39: UserWarning: 4d_preprocessed/segmentations/bav08/bav08_004.tif is a low contrast image\n",
      "/Users/trevorchan/environments/echo/lib/python3.7/site-packages/ipykernel_launcher.py:39: UserWarning: 4d_preprocessed/segmentations/bav08/bav08_005.tif is a low contrast image\n",
      "/Users/trevorchan/environments/echo/lib/python3.7/site-packages/ipykernel_launcher.py:39: UserWarning: 4d_preprocessed/segmentations/bav08/bav08_006.tif is a low contrast image\n",
      "/Users/trevorchan/environments/echo/lib/python3.7/site-packages/ipykernel_launcher.py:39: UserWarning: 4d_preprocessed/segmentations/bav08/bav08_007.tif is a low contrast image\n",
      "/Users/trevorchan/environments/echo/lib/python3.7/site-packages/ipykernel_launcher.py:39: UserWarning: 4d_preprocessed/segmentations/bav08/bav08_008.tif is a low contrast image\n",
      "/Users/trevorchan/environments/echo/lib/python3.7/site-packages/ipykernel_launcher.py:39: UserWarning: 4d_preprocessed/segmentations/bav08/bav08_009.tif is a low contrast image\n",
      "/Users/trevorchan/environments/echo/lib/python3.7/site-packages/ipykernel_launcher.py:39: UserWarning: 4d_preprocessed/segmentations/bav08/bav08_010.tif is a low contrast image\n",
      "/Users/trevorchan/environments/echo/lib/python3.7/site-packages/ipykernel_launcher.py:39: UserWarning: 4d_preprocessed/segmentations/bav08/bav08_011.tif is a low contrast image\n",
      "/Users/trevorchan/environments/echo/lib/python3.7/site-packages/ipykernel_launcher.py:39: UserWarning: 4d_preprocessed/segmentations/bav08/bav08_012.tif is a low contrast image\n",
      "/Users/trevorchan/environments/echo/lib/python3.7/site-packages/ipykernel_launcher.py:39: UserWarning: 4d_preprocessed/segmentations/bav08/bav08_013.tif is a low contrast image\n",
      "/Users/trevorchan/environments/echo/lib/python3.7/site-packages/ipykernel_launcher.py:39: UserWarning: 4d_preprocessed/segmentations/bav08/bav08_014.tif is a low contrast image\n",
      "/Users/trevorchan/environments/echo/lib/python3.7/site-packages/ipykernel_launcher.py:39: UserWarning: 4d_preprocessed/segmentations/bav08/bav08_015.tif is a low contrast image\n",
      "/Users/trevorchan/environments/echo/lib/python3.7/site-packages/ipykernel_launcher.py:39: UserWarning: 4d_preprocessed/segmentations/bav08/bav08_016.tif is a low contrast image\n",
      "/Users/trevorchan/environments/echo/lib/python3.7/site-packages/ipykernel_launcher.py:39: UserWarning: 4d_preprocessed/segmentations/bav08/bav08_017.tif is a low contrast image\n",
      "/Users/trevorchan/environments/echo/lib/python3.7/site-packages/ipykernel_launcher.py:39: UserWarning: 4d_preprocessed/segmentations/bav08/bav08_018.tif is a low contrast image\n",
      "/Users/trevorchan/environments/echo/lib/python3.7/site-packages/ipykernel_launcher.py:39: UserWarning: 4d_preprocessed/segmentations/bav08/bav08_019.tif is a low contrast image\n",
      "/Users/trevorchan/environments/echo/lib/python3.7/site-packages/ipykernel_launcher.py:39: UserWarning: 4d_preprocessed/segmentations/bav08/bav08_020.tif is a low contrast image\n",
      "/Users/trevorchan/environments/echo/lib/python3.7/site-packages/ipykernel_launcher.py:39: UserWarning: 4d_preprocessed/segmentations/bav08/bav08_021.tif is a low contrast image\n",
      "/Users/trevorchan/environments/echo/lib/python3.7/site-packages/ipykernel_launcher.py:39: UserWarning: 4d_preprocessed/segmentations/bav08/bav08_022.tif is a low contrast image\n",
      "/Users/trevorchan/environments/echo/lib/python3.7/site-packages/ipykernel_launcher.py:39: UserWarning: 4d_preprocessed/segmentations/bav08/bav08_023.tif is a low contrast image\n",
      "/Users/trevorchan/environments/echo/lib/python3.7/site-packages/ipykernel_launcher.py:39: UserWarning: 4d_preprocessed/segmentations/bav08/bav08_024.tif is a low contrast image\n",
      "/Users/trevorchan/environments/echo/lib/python3.7/site-packages/ipykernel_launcher.py:39: UserWarning: 4d_preprocessed/segmentations/bav08/bav08_025.tif is a low contrast image\n",
      "/Users/trevorchan/environments/echo/lib/python3.7/site-packages/ipykernel_launcher.py:39: UserWarning: 4d_preprocessed/segmentations/bav08/bav08_026.tif is a low contrast image\n",
      " 37%|█████████████████████████████████████████████████████████████▉                                                                                                          | 7/19 [00:11<00:17,  1.44s/it]/Users/trevorchan/environments/echo/lib/python3.7/site-packages/ipykernel_launcher.py:39: UserWarning: 4d_preprocessed/segmentations/bav09/bav09_001.tif is a low contrast image\n",
      "/Users/trevorchan/environments/echo/lib/python3.7/site-packages/ipykernel_launcher.py:39: UserWarning: 4d_preprocessed/segmentations/bav09/bav09_002.tif is a low contrast image\n",
      "/Users/trevorchan/environments/echo/lib/python3.7/site-packages/ipykernel_launcher.py:39: UserWarning: 4d_preprocessed/segmentations/bav09/bav09_003.tif is a low contrast image\n",
      "/Users/trevorchan/environments/echo/lib/python3.7/site-packages/ipykernel_launcher.py:39: UserWarning: 4d_preprocessed/segmentations/bav09/bav09_004.tif is a low contrast image\n",
      "/Users/trevorchan/environments/echo/lib/python3.7/site-packages/ipykernel_launcher.py:39: UserWarning: 4d_preprocessed/segmentations/bav09/bav09_005.tif is a low contrast image\n",
      "/Users/trevorchan/environments/echo/lib/python3.7/site-packages/ipykernel_launcher.py:39: UserWarning: 4d_preprocessed/segmentations/bav09/bav09_006.tif is a low contrast image\n",
      "/Users/trevorchan/environments/echo/lib/python3.7/site-packages/ipykernel_launcher.py:39: UserWarning: 4d_preprocessed/segmentations/bav09/bav09_007.tif is a low contrast image\n",
      "/Users/trevorchan/environments/echo/lib/python3.7/site-packages/ipykernel_launcher.py:39: UserWarning: 4d_preprocessed/segmentations/bav09/bav09_008.tif is a low contrast image\n",
      "/Users/trevorchan/environments/echo/lib/python3.7/site-packages/ipykernel_launcher.py:39: UserWarning: 4d_preprocessed/segmentations/bav09/bav09_009.tif is a low contrast image\n",
      "/Users/trevorchan/environments/echo/lib/python3.7/site-packages/ipykernel_launcher.py:39: UserWarning: 4d_preprocessed/segmentations/bav09/bav09_010.tif is a low contrast image\n",
      "/Users/trevorchan/environments/echo/lib/python3.7/site-packages/ipykernel_launcher.py:39: UserWarning: 4d_preprocessed/segmentations/bav09/bav09_011.tif is a low contrast image\n",
      "/Users/trevorchan/environments/echo/lib/python3.7/site-packages/ipykernel_launcher.py:39: UserWarning: 4d_preprocessed/segmentations/bav09/bav09_012.tif is a low contrast image\n",
      "/Users/trevorchan/environments/echo/lib/python3.7/site-packages/ipykernel_launcher.py:39: UserWarning: 4d_preprocessed/segmentations/bav09/bav09_013.tif is a low contrast image\n",
      "/Users/trevorchan/environments/echo/lib/python3.7/site-packages/ipykernel_launcher.py:39: UserWarning: 4d_preprocessed/segmentations/bav09/bav09_014.tif is a low contrast image\n",
      "/Users/trevorchan/environments/echo/lib/python3.7/site-packages/ipykernel_launcher.py:39: UserWarning: 4d_preprocessed/segmentations/bav09/bav09_015.tif is a low contrast image\n",
      "/Users/trevorchan/environments/echo/lib/python3.7/site-packages/ipykernel_launcher.py:39: UserWarning: 4d_preprocessed/segmentations/bav09/bav09_016.tif is a low contrast image\n",
      " 42%|██████████████████████████████████████████████████████████████████████▋                                                                                                 | 8/19 [00:12<00:14,  1.32s/it]/Users/trevorchan/environments/echo/lib/python3.7/site-packages/ipykernel_launcher.py:39: UserWarning: 4d_preprocessed/segmentations/bav10/bav10_001.tif is a low contrast image\n",
      "/Users/trevorchan/environments/echo/lib/python3.7/site-packages/ipykernel_launcher.py:39: UserWarning: 4d_preprocessed/segmentations/bav10/bav10_002.tif is a low contrast image\n",
      "/Users/trevorchan/environments/echo/lib/python3.7/site-packages/ipykernel_launcher.py:39: UserWarning: 4d_preprocessed/segmentations/bav10/bav10_003.tif is a low contrast image\n",
      "/Users/trevorchan/environments/echo/lib/python3.7/site-packages/ipykernel_launcher.py:39: UserWarning: 4d_preprocessed/segmentations/bav10/bav10_004.tif is a low contrast image\n",
      "/Users/trevorchan/environments/echo/lib/python3.7/site-packages/ipykernel_launcher.py:39: UserWarning: 4d_preprocessed/segmentations/bav10/bav10_005.tif is a low contrast image\n",
      "/Users/trevorchan/environments/echo/lib/python3.7/site-packages/ipykernel_launcher.py:39: UserWarning: 4d_preprocessed/segmentations/bav10/bav10_006.tif is a low contrast image\n",
      "/Users/trevorchan/environments/echo/lib/python3.7/site-packages/ipykernel_launcher.py:39: UserWarning: 4d_preprocessed/segmentations/bav10/bav10_007.tif is a low contrast image\n",
      "/Users/trevorchan/environments/echo/lib/python3.7/site-packages/ipykernel_launcher.py:39: UserWarning: 4d_preprocessed/segmentations/bav10/bav10_008.tif is a low contrast image\n",
      "/Users/trevorchan/environments/echo/lib/python3.7/site-packages/ipykernel_launcher.py:39: UserWarning: 4d_preprocessed/segmentations/bav10/bav10_009.tif is a low contrast image\n",
      "/Users/trevorchan/environments/echo/lib/python3.7/site-packages/ipykernel_launcher.py:39: UserWarning: 4d_preprocessed/segmentations/bav10/bav10_010.tif is a low contrast image\n",
      "/Users/trevorchan/environments/echo/lib/python3.7/site-packages/ipykernel_launcher.py:39: UserWarning: 4d_preprocessed/segmentations/bav10/bav10_011.tif is a low contrast image\n",
      "/Users/trevorchan/environments/echo/lib/python3.7/site-packages/ipykernel_launcher.py:39: UserWarning: 4d_preprocessed/segmentations/bav10/bav10_012.tif is a low contrast image\n",
      "/Users/trevorchan/environments/echo/lib/python3.7/site-packages/ipykernel_launcher.py:39: UserWarning: 4d_preprocessed/segmentations/bav10/bav10_013.tif is a low contrast image\n",
      "/Users/trevorchan/environments/echo/lib/python3.7/site-packages/ipykernel_launcher.py:39: UserWarning: 4d_preprocessed/segmentations/bav10/bav10_014.tif is a low contrast image\n",
      "/Users/trevorchan/environments/echo/lib/python3.7/site-packages/ipykernel_launcher.py:39: UserWarning: 4d_preprocessed/segmentations/bav10/bav10_015.tif is a low contrast image\n",
      "/Users/trevorchan/environments/echo/lib/python3.7/site-packages/ipykernel_launcher.py:39: UserWarning: 4d_preprocessed/segmentations/bav10/bav10_016.tif is a low contrast image\n",
      "/Users/trevorchan/environments/echo/lib/python3.7/site-packages/ipykernel_launcher.py:39: UserWarning: 4d_preprocessed/segmentations/bav10/bav10_017.tif is a low contrast image\n",
      "/Users/trevorchan/environments/echo/lib/python3.7/site-packages/ipykernel_launcher.py:39: UserWarning: 4d_preprocessed/segmentations/bav10/bav10_018.tif is a low contrast image\n",
      "/Users/trevorchan/environments/echo/lib/python3.7/site-packages/ipykernel_launcher.py:39: UserWarning: 4d_preprocessed/segmentations/bav10/bav10_019.tif is a low contrast image\n",
      "/Users/trevorchan/environments/echo/lib/python3.7/site-packages/ipykernel_launcher.py:39: UserWarning: 4d_preprocessed/segmentations/bav10/bav10_020.tif is a low contrast image\n",
      " 47%|███████████████████████████████████████████████████████████████████████████████▌                                                                                        | 9/19 [00:13<00:13,  1.33s/it]/Users/trevorchan/environments/echo/lib/python3.7/site-packages/ipykernel_launcher.py:39: UserWarning: 4d_preprocessed/segmentations/bav11/bav11_001.tif is a low contrast image\n",
      "/Users/trevorchan/environments/echo/lib/python3.7/site-packages/ipykernel_launcher.py:39: UserWarning: 4d_preprocessed/segmentations/bav11/bav11_002.tif is a low contrast image\n",
      "/Users/trevorchan/environments/echo/lib/python3.7/site-packages/ipykernel_launcher.py:39: UserWarning: 4d_preprocessed/segmentations/bav11/bav11_003.tif is a low contrast image\n",
      "/Users/trevorchan/environments/echo/lib/python3.7/site-packages/ipykernel_launcher.py:39: UserWarning: 4d_preprocessed/segmentations/bav11/bav11_004.tif is a low contrast image\n",
      "/Users/trevorchan/environments/echo/lib/python3.7/site-packages/ipykernel_launcher.py:39: UserWarning: 4d_preprocessed/segmentations/bav11/bav11_005.tif is a low contrast image\n",
      "/Users/trevorchan/environments/echo/lib/python3.7/site-packages/ipykernel_launcher.py:39: UserWarning: 4d_preprocessed/segmentations/bav11/bav11_006.tif is a low contrast image\n",
      "/Users/trevorchan/environments/echo/lib/python3.7/site-packages/ipykernel_launcher.py:39: UserWarning: 4d_preprocessed/segmentations/bav11/bav11_007.tif is a low contrast image\n",
      "/Users/trevorchan/environments/echo/lib/python3.7/site-packages/ipykernel_launcher.py:39: UserWarning: 4d_preprocessed/segmentations/bav11/bav11_008.tif is a low contrast image\n",
      "/Users/trevorchan/environments/echo/lib/python3.7/site-packages/ipykernel_launcher.py:39: UserWarning: 4d_preprocessed/segmentations/bav11/bav11_009.tif is a low contrast image\n",
      "/Users/trevorchan/environments/echo/lib/python3.7/site-packages/ipykernel_launcher.py:39: UserWarning: 4d_preprocessed/segmentations/bav11/bav11_010.tif is a low contrast image\n",
      "/Users/trevorchan/environments/echo/lib/python3.7/site-packages/ipykernel_launcher.py:39: UserWarning: 4d_preprocessed/segmentations/bav11/bav11_011.tif is a low contrast image\n",
      "/Users/trevorchan/environments/echo/lib/python3.7/site-packages/ipykernel_launcher.py:39: UserWarning: 4d_preprocessed/segmentations/bav11/bav11_012.tif is a low contrast image\n",
      "/Users/trevorchan/environments/echo/lib/python3.7/site-packages/ipykernel_launcher.py:39: UserWarning: 4d_preprocessed/segmentations/bav11/bav11_013.tif is a low contrast image\n",
      "/Users/trevorchan/environments/echo/lib/python3.7/site-packages/ipykernel_launcher.py:39: UserWarning: 4d_preprocessed/segmentations/bav11/bav11_014.tif is a low contrast image\n",
      "/Users/trevorchan/environments/echo/lib/python3.7/site-packages/ipykernel_launcher.py:39: UserWarning: 4d_preprocessed/segmentations/bav11/bav11_015.tif is a low contrast image\n",
      "/Users/trevorchan/environments/echo/lib/python3.7/site-packages/ipykernel_launcher.py:39: UserWarning: 4d_preprocessed/segmentations/bav11/bav11_016.tif is a low contrast image\n",
      "/Users/trevorchan/environments/echo/lib/python3.7/site-packages/ipykernel_launcher.py:39: UserWarning: 4d_preprocessed/segmentations/bav11/bav11_017.tif is a low contrast image\n",
      "/Users/trevorchan/environments/echo/lib/python3.7/site-packages/ipykernel_launcher.py:39: UserWarning: 4d_preprocessed/segmentations/bav11/bav11_018.tif is a low contrast image\n",
      "/Users/trevorchan/environments/echo/lib/python3.7/site-packages/ipykernel_launcher.py:39: UserWarning: 4d_preprocessed/segmentations/bav11/bav11_019.tif is a low contrast image\n",
      "/Users/trevorchan/environments/echo/lib/python3.7/site-packages/ipykernel_launcher.py:39: UserWarning: 4d_preprocessed/segmentations/bav11/bav11_020.tif is a low contrast image\n",
      "/Users/trevorchan/environments/echo/lib/python3.7/site-packages/ipykernel_launcher.py:39: UserWarning: 4d_preprocessed/segmentations/bav11/bav11_021.tif is a low contrast image\n",
      "/Users/trevorchan/environments/echo/lib/python3.7/site-packages/ipykernel_launcher.py:39: UserWarning: 4d_preprocessed/segmentations/bav11/bav11_022.tif is a low contrast image\n",
      "/Users/trevorchan/environments/echo/lib/python3.7/site-packages/ipykernel_launcher.py:39: UserWarning: 4d_preprocessed/segmentations/bav11/bav11_023.tif is a low contrast image\n",
      "/Users/trevorchan/environments/echo/lib/python3.7/site-packages/ipykernel_launcher.py:39: UserWarning: 4d_preprocessed/segmentations/bav11/bav11_024.tif is a low contrast image\n",
      " 53%|███████████████████████████████████████████████████████████████████████████████████████▉                                                                               | 10/19 [00:16<00:14,  1.58s/it]/Users/trevorchan/environments/echo/lib/python3.7/site-packages/ipykernel_launcher.py:39: UserWarning: 4d_preprocessed/segmentations/bav12/bav12_001.tif is a low contrast image\n",
      "/Users/trevorchan/environments/echo/lib/python3.7/site-packages/ipykernel_launcher.py:39: UserWarning: 4d_preprocessed/segmentations/bav12/bav12_002.tif is a low contrast image\n",
      "/Users/trevorchan/environments/echo/lib/python3.7/site-packages/ipykernel_launcher.py:39: UserWarning: 4d_preprocessed/segmentations/bav12/bav12_003.tif is a low contrast image\n",
      "/Users/trevorchan/environments/echo/lib/python3.7/site-packages/ipykernel_launcher.py:39: UserWarning: 4d_preprocessed/segmentations/bav12/bav12_004.tif is a low contrast image\n",
      "/Users/trevorchan/environments/echo/lib/python3.7/site-packages/ipykernel_launcher.py:39: UserWarning: 4d_preprocessed/segmentations/bav12/bav12_005.tif is a low contrast image\n",
      "/Users/trevorchan/environments/echo/lib/python3.7/site-packages/ipykernel_launcher.py:39: UserWarning: 4d_preprocessed/segmentations/bav12/bav12_006.tif is a low contrast image\n",
      "/Users/trevorchan/environments/echo/lib/python3.7/site-packages/ipykernel_launcher.py:39: UserWarning: 4d_preprocessed/segmentations/bav12/bav12_007.tif is a low contrast image\n",
      "/Users/trevorchan/environments/echo/lib/python3.7/site-packages/ipykernel_launcher.py:39: UserWarning: 4d_preprocessed/segmentations/bav12/bav12_008.tif is a low contrast image\n",
      "/Users/trevorchan/environments/echo/lib/python3.7/site-packages/ipykernel_launcher.py:39: UserWarning: 4d_preprocessed/segmentations/bav12/bav12_009.tif is a low contrast image\n",
      "/Users/trevorchan/environments/echo/lib/python3.7/site-packages/ipykernel_launcher.py:39: UserWarning: 4d_preprocessed/segmentations/bav12/bav12_010.tif is a low contrast image\n",
      "/Users/trevorchan/environments/echo/lib/python3.7/site-packages/ipykernel_launcher.py:39: UserWarning: 4d_preprocessed/segmentations/bav12/bav12_011.tif is a low contrast image\n",
      "/Users/trevorchan/environments/echo/lib/python3.7/site-packages/ipykernel_launcher.py:39: UserWarning: 4d_preprocessed/segmentations/bav12/bav12_012.tif is a low contrast image\n",
      "/Users/trevorchan/environments/echo/lib/python3.7/site-packages/ipykernel_launcher.py:39: UserWarning: 4d_preprocessed/segmentations/bav12/bav12_013.tif is a low contrast image\n",
      "/Users/trevorchan/environments/echo/lib/python3.7/site-packages/ipykernel_launcher.py:39: UserWarning: 4d_preprocessed/segmentations/bav12/bav12_014.tif is a low contrast image\n",
      "/Users/trevorchan/environments/echo/lib/python3.7/site-packages/ipykernel_launcher.py:39: UserWarning: 4d_preprocessed/segmentations/bav12/bav12_015.tif is a low contrast image\n",
      "/Users/trevorchan/environments/echo/lib/python3.7/site-packages/ipykernel_launcher.py:39: UserWarning: 4d_preprocessed/segmentations/bav12/bav12_016.tif is a low contrast image\n",
      "/Users/trevorchan/environments/echo/lib/python3.7/site-packages/ipykernel_launcher.py:39: UserWarning: 4d_preprocessed/segmentations/bav12/bav12_017.tif is a low contrast image\n",
      "/Users/trevorchan/environments/echo/lib/python3.7/site-packages/ipykernel_launcher.py:39: UserWarning: 4d_preprocessed/segmentations/bav12/bav12_018.tif is a low contrast image\n",
      "/Users/trevorchan/environments/echo/lib/python3.7/site-packages/ipykernel_launcher.py:39: UserWarning: 4d_preprocessed/segmentations/bav12/bav12_019.tif is a low contrast image\n",
      "/Users/trevorchan/environments/echo/lib/python3.7/site-packages/ipykernel_launcher.py:39: UserWarning: 4d_preprocessed/segmentations/bav12/bav12_020.tif is a low contrast image\n",
      " 58%|████████████████████████████████████████████████████████████████████████████████████████████████▋                                                                      | 11/19 [00:17<00:11,  1.46s/it]/Users/trevorchan/environments/echo/lib/python3.7/site-packages/ipykernel_launcher.py:39: UserWarning: 4d_preprocessed/segmentations/bav13/bav13_001.tif is a low contrast image\n",
      "/Users/trevorchan/environments/echo/lib/python3.7/site-packages/ipykernel_launcher.py:39: UserWarning: 4d_preprocessed/segmentations/bav13/bav13_002.tif is a low contrast image\n",
      "/Users/trevorchan/environments/echo/lib/python3.7/site-packages/ipykernel_launcher.py:39: UserWarning: 4d_preprocessed/segmentations/bav13/bav13_003.tif is a low contrast image\n",
      "/Users/trevorchan/environments/echo/lib/python3.7/site-packages/ipykernel_launcher.py:39: UserWarning: 4d_preprocessed/segmentations/bav13/bav13_004.tif is a low contrast image\n",
      "/Users/trevorchan/environments/echo/lib/python3.7/site-packages/ipykernel_launcher.py:39: UserWarning: 4d_preprocessed/segmentations/bav13/bav13_005.tif is a low contrast image\n",
      "/Users/trevorchan/environments/echo/lib/python3.7/site-packages/ipykernel_launcher.py:39: UserWarning: 4d_preprocessed/segmentations/bav13/bav13_006.tif is a low contrast image\n",
      "/Users/trevorchan/environments/echo/lib/python3.7/site-packages/ipykernel_launcher.py:39: UserWarning: 4d_preprocessed/segmentations/bav13/bav13_007.tif is a low contrast image\n",
      "/Users/trevorchan/environments/echo/lib/python3.7/site-packages/ipykernel_launcher.py:39: UserWarning: 4d_preprocessed/segmentations/bav13/bav13_008.tif is a low contrast image\n",
      "/Users/trevorchan/environments/echo/lib/python3.7/site-packages/ipykernel_launcher.py:39: UserWarning: 4d_preprocessed/segmentations/bav13/bav13_009.tif is a low contrast image\n",
      "/Users/trevorchan/environments/echo/lib/python3.7/site-packages/ipykernel_launcher.py:39: UserWarning: 4d_preprocessed/segmentations/bav13/bav13_010.tif is a low contrast image\n",
      "/Users/trevorchan/environments/echo/lib/python3.7/site-packages/ipykernel_launcher.py:39: UserWarning: 4d_preprocessed/segmentations/bav13/bav13_011.tif is a low contrast image\n",
      "/Users/trevorchan/environments/echo/lib/python3.7/site-packages/ipykernel_launcher.py:39: UserWarning: 4d_preprocessed/segmentations/bav13/bav13_012.tif is a low contrast image\n",
      "/Users/trevorchan/environments/echo/lib/python3.7/site-packages/ipykernel_launcher.py:39: UserWarning: 4d_preprocessed/segmentations/bav13/bav13_013.tif is a low contrast image\n",
      "/Users/trevorchan/environments/echo/lib/python3.7/site-packages/ipykernel_launcher.py:39: UserWarning: 4d_preprocessed/segmentations/bav13/bav13_014.tif is a low contrast image\n",
      "/Users/trevorchan/environments/echo/lib/python3.7/site-packages/ipykernel_launcher.py:39: UserWarning: 4d_preprocessed/segmentations/bav13/bav13_015.tif is a low contrast image\n",
      "/Users/trevorchan/environments/echo/lib/python3.7/site-packages/ipykernel_launcher.py:39: UserWarning: 4d_preprocessed/segmentations/bav13/bav13_016.tif is a low contrast image\n",
      "/Users/trevorchan/environments/echo/lib/python3.7/site-packages/ipykernel_launcher.py:39: UserWarning: 4d_preprocessed/segmentations/bav13/bav13_017.tif is a low contrast image\n",
      "/Users/trevorchan/environments/echo/lib/python3.7/site-packages/ipykernel_launcher.py:39: UserWarning: 4d_preprocessed/segmentations/bav13/bav13_018.tif is a low contrast image\n",
      "/Users/trevorchan/environments/echo/lib/python3.7/site-packages/ipykernel_launcher.py:39: UserWarning: 4d_preprocessed/segmentations/bav13/bav13_019.tif is a low contrast image\n",
      "/Users/trevorchan/environments/echo/lib/python3.7/site-packages/ipykernel_launcher.py:39: UserWarning: 4d_preprocessed/segmentations/bav13/bav13_020.tif is a low contrast image\n",
      "/Users/trevorchan/environments/echo/lib/python3.7/site-packages/ipykernel_launcher.py:39: UserWarning: 4d_preprocessed/segmentations/bav13/bav13_021.tif is a low contrast image\n",
      "/Users/trevorchan/environments/echo/lib/python3.7/site-packages/ipykernel_launcher.py:39: UserWarning: 4d_preprocessed/segmentations/bav13/bav13_022.tif is a low contrast image\n",
      "/Users/trevorchan/environments/echo/lib/python3.7/site-packages/ipykernel_launcher.py:39: UserWarning: 4d_preprocessed/segmentations/bav13/bav13_023.tif is a low contrast image\n",
      "/Users/trevorchan/environments/echo/lib/python3.7/site-packages/ipykernel_launcher.py:39: UserWarning: 4d_preprocessed/segmentations/bav13/bav13_024.tif is a low contrast image\n",
      "/Users/trevorchan/environments/echo/lib/python3.7/site-packages/ipykernel_launcher.py:39: UserWarning: 4d_preprocessed/segmentations/bav13/bav13_025.tif is a low contrast image\n",
      "/Users/trevorchan/environments/echo/lib/python3.7/site-packages/ipykernel_launcher.py:39: UserWarning: 4d_preprocessed/segmentations/bav13/bav13_026.tif is a low contrast image\n",
      "/Users/trevorchan/environments/echo/lib/python3.7/site-packages/ipykernel_launcher.py:39: UserWarning: 4d_preprocessed/segmentations/bav13/bav13_027.tif is a low contrast image\n",
      "/Users/trevorchan/environments/echo/lib/python3.7/site-packages/ipykernel_launcher.py:39: UserWarning: 4d_preprocessed/segmentations/bav13/bav13_028.tif is a low contrast image\n",
      "/Users/trevorchan/environments/echo/lib/python3.7/site-packages/ipykernel_launcher.py:39: UserWarning: 4d_preprocessed/segmentations/bav13/bav13_029.tif is a low contrast image\n",
      "/Users/trevorchan/environments/echo/lib/python3.7/site-packages/ipykernel_launcher.py:39: UserWarning: 4d_preprocessed/segmentations/bav13/bav13_030.tif is a low contrast image\n",
      " 63%|█████████████████████████████████████████████████████████████████████████████████████████████████████████▍                                                             | 12/19 [00:20<00:15,  2.15s/it]/Users/trevorchan/environments/echo/lib/python3.7/site-packages/ipykernel_launcher.py:39: UserWarning: 4d_preprocessed/segmentations/bav16/bav16_001.tif is a low contrast image\n",
      "/Users/trevorchan/environments/echo/lib/python3.7/site-packages/ipykernel_launcher.py:39: UserWarning: 4d_preprocessed/segmentations/bav16/bav16_002.tif is a low contrast image\n",
      "/Users/trevorchan/environments/echo/lib/python3.7/site-packages/ipykernel_launcher.py:39: UserWarning: 4d_preprocessed/segmentations/bav16/bav16_003.tif is a low contrast image\n",
      "/Users/trevorchan/environments/echo/lib/python3.7/site-packages/ipykernel_launcher.py:39: UserWarning: 4d_preprocessed/segmentations/bav16/bav16_004.tif is a low contrast image\n",
      "/Users/trevorchan/environments/echo/lib/python3.7/site-packages/ipykernel_launcher.py:39: UserWarning: 4d_preprocessed/segmentations/bav16/bav16_005.tif is a low contrast image\n",
      "/Users/trevorchan/environments/echo/lib/python3.7/site-packages/ipykernel_launcher.py:39: UserWarning: 4d_preprocessed/segmentations/bav16/bav16_006.tif is a low contrast image\n",
      "/Users/trevorchan/environments/echo/lib/python3.7/site-packages/ipykernel_launcher.py:39: UserWarning: 4d_preprocessed/segmentations/bav16/bav16_007.tif is a low contrast image\n",
      "/Users/trevorchan/environments/echo/lib/python3.7/site-packages/ipykernel_launcher.py:39: UserWarning: 4d_preprocessed/segmentations/bav16/bav16_008.tif is a low contrast image\n",
      "/Users/trevorchan/environments/echo/lib/python3.7/site-packages/ipykernel_launcher.py:39: UserWarning: 4d_preprocessed/segmentations/bav16/bav16_009.tif is a low contrast image\n",
      "/Users/trevorchan/environments/echo/lib/python3.7/site-packages/ipykernel_launcher.py:39: UserWarning: 4d_preprocessed/segmentations/bav16/bav16_010.tif is a low contrast image\n",
      "/Users/trevorchan/environments/echo/lib/python3.7/site-packages/ipykernel_launcher.py:39: UserWarning: 4d_preprocessed/segmentations/bav16/bav16_011.tif is a low contrast image\n",
      "/Users/trevorchan/environments/echo/lib/python3.7/site-packages/ipykernel_launcher.py:39: UserWarning: 4d_preprocessed/segmentations/bav16/bav16_012.tif is a low contrast image\n",
      "/Users/trevorchan/environments/echo/lib/python3.7/site-packages/ipykernel_launcher.py:39: UserWarning: 4d_preprocessed/segmentations/bav16/bav16_013.tif is a low contrast image\n",
      "/Users/trevorchan/environments/echo/lib/python3.7/site-packages/ipykernel_launcher.py:39: UserWarning: 4d_preprocessed/segmentations/bav16/bav16_014.tif is a low contrast image\n",
      "/Users/trevorchan/environments/echo/lib/python3.7/site-packages/ipykernel_launcher.py:39: UserWarning: 4d_preprocessed/segmentations/bav16/bav16_015.tif is a low contrast image\n",
      "/Users/trevorchan/environments/echo/lib/python3.7/site-packages/ipykernel_launcher.py:39: UserWarning: 4d_preprocessed/segmentations/bav16/bav16_016.tif is a low contrast image\n",
      "/Users/trevorchan/environments/echo/lib/python3.7/site-packages/ipykernel_launcher.py:39: UserWarning: 4d_preprocessed/segmentations/bav16/bav16_017.tif is a low contrast image\n",
      "/Users/trevorchan/environments/echo/lib/python3.7/site-packages/ipykernel_launcher.py:39: UserWarning: 4d_preprocessed/segmentations/bav16/bav16_018.tif is a low contrast image\n",
      "/Users/trevorchan/environments/echo/lib/python3.7/site-packages/ipykernel_launcher.py:39: UserWarning: 4d_preprocessed/segmentations/bav16/bav16_019.tif is a low contrast image\n",
      "/Users/trevorchan/environments/echo/lib/python3.7/site-packages/ipykernel_launcher.py:39: UserWarning: 4d_preprocessed/segmentations/bav16/bav16_020.tif is a low contrast image\n",
      "/Users/trevorchan/environments/echo/lib/python3.7/site-packages/ipykernel_launcher.py:39: UserWarning: 4d_preprocessed/segmentations/bav16/bav16_021.tif is a low contrast image\n",
      "/Users/trevorchan/environments/echo/lib/python3.7/site-packages/ipykernel_launcher.py:39: UserWarning: 4d_preprocessed/segmentations/bav16/bav16_022.tif is a low contrast image\n",
      "/Users/trevorchan/environments/echo/lib/python3.7/site-packages/ipykernel_launcher.py:39: UserWarning: 4d_preprocessed/segmentations/bav16/bav16_023.tif is a low contrast image\n",
      "/Users/trevorchan/environments/echo/lib/python3.7/site-packages/ipykernel_launcher.py:39: UserWarning: 4d_preprocessed/segmentations/bav16/bav16_024.tif is a low contrast image\n",
      "/Users/trevorchan/environments/echo/lib/python3.7/site-packages/ipykernel_launcher.py:39: UserWarning: 4d_preprocessed/segmentations/bav16/bav16_025.tif is a low contrast image\n",
      "/Users/trevorchan/environments/echo/lib/python3.7/site-packages/ipykernel_launcher.py:39: UserWarning: 4d_preprocessed/segmentations/bav16/bav16_026.tif is a low contrast image\n",
      "/Users/trevorchan/environments/echo/lib/python3.7/site-packages/ipykernel_launcher.py:39: UserWarning: 4d_preprocessed/segmentations/bav16/bav16_027.tif is a low contrast image\n",
      "/Users/trevorchan/environments/echo/lib/python3.7/site-packages/ipykernel_launcher.py:39: UserWarning: 4d_preprocessed/segmentations/bav16/bav16_028.tif is a low contrast image\n",
      "/Users/trevorchan/environments/echo/lib/python3.7/site-packages/ipykernel_launcher.py:39: UserWarning: 4d_preprocessed/segmentations/bav16/bav16_029.tif is a low contrast image\n",
      "/Users/trevorchan/environments/echo/lib/python3.7/site-packages/ipykernel_launcher.py:39: UserWarning: 4d_preprocessed/segmentations/bav16/bav16_030.tif is a low contrast image\n",
      "/Users/trevorchan/environments/echo/lib/python3.7/site-packages/ipykernel_launcher.py:39: UserWarning: 4d_preprocessed/segmentations/bav16/bav16_031.tif is a low contrast image\n",
      "/Users/trevorchan/environments/echo/lib/python3.7/site-packages/ipykernel_launcher.py:39: UserWarning: 4d_preprocessed/segmentations/bav16/bav16_032.tif is a low contrast image\n",
      "/Users/trevorchan/environments/echo/lib/python3.7/site-packages/ipykernel_launcher.py:39: UserWarning: 4d_preprocessed/segmentations/bav16/bav16_033.tif is a low contrast image\n",
      "/Users/trevorchan/environments/echo/lib/python3.7/site-packages/ipykernel_launcher.py:39: UserWarning: 4d_preprocessed/segmentations/bav16/bav16_034.tif is a low contrast image\n",
      "/Users/trevorchan/environments/echo/lib/python3.7/site-packages/ipykernel_launcher.py:39: UserWarning: 4d_preprocessed/segmentations/bav16/bav16_035.tif is a low contrast image\n",
      "/Users/trevorchan/environments/echo/lib/python3.7/site-packages/ipykernel_launcher.py:39: UserWarning: 4d_preprocessed/segmentations/bav16/bav16_036.tif is a low contrast image\n",
      "/Users/trevorchan/environments/echo/lib/python3.7/site-packages/ipykernel_launcher.py:39: UserWarning: 4d_preprocessed/segmentations/bav16/bav16_037.tif is a low contrast image\n",
      "/Users/trevorchan/environments/echo/lib/python3.7/site-packages/ipykernel_launcher.py:39: UserWarning: 4d_preprocessed/segmentations/bav16/bav16_038.tif is a low contrast image\n",
      "/Users/trevorchan/environments/echo/lib/python3.7/site-packages/ipykernel_launcher.py:39: UserWarning: 4d_preprocessed/segmentations/bav16/bav16_039.tif is a low contrast image\n",
      "/Users/trevorchan/environments/echo/lib/python3.7/site-packages/ipykernel_launcher.py:39: UserWarning: 4d_preprocessed/segmentations/bav16/bav16_040.tif is a low contrast image\n",
      " 68%|██████████████████████████████████████████████████████████████████████████████████████████████████████████████████▎                                                    | 13/19 [00:25<00:17,  2.85s/it]/Users/trevorchan/environments/echo/lib/python3.7/site-packages/ipykernel_launcher.py:39: UserWarning: 4d_preprocessed/segmentations/bav18/bav18_001.tif is a low contrast image\n",
      "/Users/trevorchan/environments/echo/lib/python3.7/site-packages/ipykernel_launcher.py:39: UserWarning: 4d_preprocessed/segmentations/bav18/bav18_002.tif is a low contrast image\n",
      "/Users/trevorchan/environments/echo/lib/python3.7/site-packages/ipykernel_launcher.py:39: UserWarning: 4d_preprocessed/segmentations/bav18/bav18_003.tif is a low contrast image\n",
      "/Users/trevorchan/environments/echo/lib/python3.7/site-packages/ipykernel_launcher.py:39: UserWarning: 4d_preprocessed/segmentations/bav18/bav18_004.tif is a low contrast image\n",
      "/Users/trevorchan/environments/echo/lib/python3.7/site-packages/ipykernel_launcher.py:39: UserWarning: 4d_preprocessed/segmentations/bav18/bav18_005.tif is a low contrast image\n",
      "/Users/trevorchan/environments/echo/lib/python3.7/site-packages/ipykernel_launcher.py:39: UserWarning: 4d_preprocessed/segmentations/bav18/bav18_006.tif is a low contrast image\n",
      "/Users/trevorchan/environments/echo/lib/python3.7/site-packages/ipykernel_launcher.py:39: UserWarning: 4d_preprocessed/segmentations/bav18/bav18_007.tif is a low contrast image\n",
      "/Users/trevorchan/environments/echo/lib/python3.7/site-packages/ipykernel_launcher.py:39: UserWarning: 4d_preprocessed/segmentations/bav18/bav18_008.tif is a low contrast image\n",
      "/Users/trevorchan/environments/echo/lib/python3.7/site-packages/ipykernel_launcher.py:39: UserWarning: 4d_preprocessed/segmentations/bav18/bav18_009.tif is a low contrast image\n",
      "/Users/trevorchan/environments/echo/lib/python3.7/site-packages/ipykernel_launcher.py:39: UserWarning: 4d_preprocessed/segmentations/bav18/bav18_010.tif is a low contrast image\n",
      "/Users/trevorchan/environments/echo/lib/python3.7/site-packages/ipykernel_launcher.py:39: UserWarning: 4d_preprocessed/segmentations/bav18/bav18_011.tif is a low contrast image\n",
      "/Users/trevorchan/environments/echo/lib/python3.7/site-packages/ipykernel_launcher.py:39: UserWarning: 4d_preprocessed/segmentations/bav18/bav18_012.tif is a low contrast image\n",
      "/Users/trevorchan/environments/echo/lib/python3.7/site-packages/ipykernel_launcher.py:39: UserWarning: 4d_preprocessed/segmentations/bav18/bav18_013.tif is a low contrast image\n",
      "/Users/trevorchan/environments/echo/lib/python3.7/site-packages/ipykernel_launcher.py:39: UserWarning: 4d_preprocessed/segmentations/bav18/bav18_014.tif is a low contrast image\n",
      "/Users/trevorchan/environments/echo/lib/python3.7/site-packages/ipykernel_launcher.py:39: UserWarning: 4d_preprocessed/segmentations/bav18/bav18_015.tif is a low contrast image\n",
      "/Users/trevorchan/environments/echo/lib/python3.7/site-packages/ipykernel_launcher.py:39: UserWarning: 4d_preprocessed/segmentations/bav18/bav18_016.tif is a low contrast image\n",
      "/Users/trevorchan/environments/echo/lib/python3.7/site-packages/ipykernel_launcher.py:39: UserWarning: 4d_preprocessed/segmentations/bav18/bav18_017.tif is a low contrast image\n",
      "/Users/trevorchan/environments/echo/lib/python3.7/site-packages/ipykernel_launcher.py:39: UserWarning: 4d_preprocessed/segmentations/bav18/bav18_018.tif is a low contrast image\n",
      "/Users/trevorchan/environments/echo/lib/python3.7/site-packages/ipykernel_launcher.py:39: UserWarning: 4d_preprocessed/segmentations/bav18/bav18_019.tif is a low contrast image\n",
      "/Users/trevorchan/environments/echo/lib/python3.7/site-packages/ipykernel_launcher.py:39: UserWarning: 4d_preprocessed/segmentations/bav18/bav18_020.tif is a low contrast image\n",
      "/Users/trevorchan/environments/echo/lib/python3.7/site-packages/ipykernel_launcher.py:39: UserWarning: 4d_preprocessed/segmentations/bav18/bav18_021.tif is a low contrast image\n",
      "/Users/trevorchan/environments/echo/lib/python3.7/site-packages/ipykernel_launcher.py:39: UserWarning: 4d_preprocessed/segmentations/bav18/bav18_022.tif is a low contrast image\n",
      "/Users/trevorchan/environments/echo/lib/python3.7/site-packages/ipykernel_launcher.py:39: UserWarning: 4d_preprocessed/segmentations/bav18/bav18_023.tif is a low contrast image\n",
      "/Users/trevorchan/environments/echo/lib/python3.7/site-packages/ipykernel_launcher.py:39: UserWarning: 4d_preprocessed/segmentations/bav18/bav18_024.tif is a low contrast image\n",
      "/Users/trevorchan/environments/echo/lib/python3.7/site-packages/ipykernel_launcher.py:39: UserWarning: 4d_preprocessed/segmentations/bav18/bav18_025.tif is a low contrast image\n",
      "/Users/trevorchan/environments/echo/lib/python3.7/site-packages/ipykernel_launcher.py:39: UserWarning: 4d_preprocessed/segmentations/bav18/bav18_026.tif is a low contrast image\n",
      "/Users/trevorchan/environments/echo/lib/python3.7/site-packages/ipykernel_launcher.py:39: UserWarning: 4d_preprocessed/segmentations/bav18/bav18_027.tif is a low contrast image\n",
      "/Users/trevorchan/environments/echo/lib/python3.7/site-packages/ipykernel_launcher.py:39: UserWarning: 4d_preprocessed/segmentations/bav18/bav18_028.tif is a low contrast image\n",
      "/Users/trevorchan/environments/echo/lib/python3.7/site-packages/ipykernel_launcher.py:39: UserWarning: 4d_preprocessed/segmentations/bav18/bav18_029.tif is a low contrast image\n",
      "/Users/trevorchan/environments/echo/lib/python3.7/site-packages/ipykernel_launcher.py:39: UserWarning: 4d_preprocessed/segmentations/bav18/bav18_030.tif is a low contrast image\n",
      "/Users/trevorchan/environments/echo/lib/python3.7/site-packages/ipykernel_launcher.py:39: UserWarning: 4d_preprocessed/segmentations/bav18/bav18_031.tif is a low contrast image\n",
      " 74%|███████████████████████████████████████████████████████████████████████████████████████████████████████████████████████████                                            | 14/19 [00:27<00:13,  2.62s/it]/Users/trevorchan/environments/echo/lib/python3.7/site-packages/ipykernel_launcher.py:39: UserWarning: 4d_preprocessed/segmentations/bav20/bav20_001.tif is a low contrast image\n",
      "/Users/trevorchan/environments/echo/lib/python3.7/site-packages/ipykernel_launcher.py:39: UserWarning: 4d_preprocessed/segmentations/bav20/bav20_002.tif is a low contrast image\n",
      "/Users/trevorchan/environments/echo/lib/python3.7/site-packages/ipykernel_launcher.py:39: UserWarning: 4d_preprocessed/segmentations/bav20/bav20_003.tif is a low contrast image\n",
      "/Users/trevorchan/environments/echo/lib/python3.7/site-packages/ipykernel_launcher.py:39: UserWarning: 4d_preprocessed/segmentations/bav20/bav20_004.tif is a low contrast image\n",
      "/Users/trevorchan/environments/echo/lib/python3.7/site-packages/ipykernel_launcher.py:39: UserWarning: 4d_preprocessed/segmentations/bav20/bav20_005.tif is a low contrast image\n",
      "/Users/trevorchan/environments/echo/lib/python3.7/site-packages/ipykernel_launcher.py:39: UserWarning: 4d_preprocessed/segmentations/bav20/bav20_006.tif is a low contrast image\n",
      "/Users/trevorchan/environments/echo/lib/python3.7/site-packages/ipykernel_launcher.py:39: UserWarning: 4d_preprocessed/segmentations/bav20/bav20_007.tif is a low contrast image\n",
      "/Users/trevorchan/environments/echo/lib/python3.7/site-packages/ipykernel_launcher.py:39: UserWarning: 4d_preprocessed/segmentations/bav20/bav20_008.tif is a low contrast image\n",
      "/Users/trevorchan/environments/echo/lib/python3.7/site-packages/ipykernel_launcher.py:39: UserWarning: 4d_preprocessed/segmentations/bav20/bav20_009.tif is a low contrast image\n",
      "/Users/trevorchan/environments/echo/lib/python3.7/site-packages/ipykernel_launcher.py:39: UserWarning: 4d_preprocessed/segmentations/bav20/bav20_010.tif is a low contrast image\n",
      "/Users/trevorchan/environments/echo/lib/python3.7/site-packages/ipykernel_launcher.py:39: UserWarning: 4d_preprocessed/segmentations/bav20/bav20_011.tif is a low contrast image\n",
      "/Users/trevorchan/environments/echo/lib/python3.7/site-packages/ipykernel_launcher.py:39: UserWarning: 4d_preprocessed/segmentations/bav20/bav20_012.tif is a low contrast image\n",
      "/Users/trevorchan/environments/echo/lib/python3.7/site-packages/ipykernel_launcher.py:39: UserWarning: 4d_preprocessed/segmentations/bav20/bav20_013.tif is a low contrast image\n",
      "/Users/trevorchan/environments/echo/lib/python3.7/site-packages/ipykernel_launcher.py:39: UserWarning: 4d_preprocessed/segmentations/bav20/bav20_014.tif is a low contrast image\n",
      "/Users/trevorchan/environments/echo/lib/python3.7/site-packages/ipykernel_launcher.py:39: UserWarning: 4d_preprocessed/segmentations/bav20/bav20_015.tif is a low contrast image\n",
      "/Users/trevorchan/environments/echo/lib/python3.7/site-packages/ipykernel_launcher.py:39: UserWarning: 4d_preprocessed/segmentations/bav20/bav20_016.tif is a low contrast image\n",
      "/Users/trevorchan/environments/echo/lib/python3.7/site-packages/ipykernel_launcher.py:39: UserWarning: 4d_preprocessed/segmentations/bav20/bav20_017.tif is a low contrast image\n",
      "/Users/trevorchan/environments/echo/lib/python3.7/site-packages/ipykernel_launcher.py:39: UserWarning: 4d_preprocessed/segmentations/bav20/bav20_018.tif is a low contrast image\n",
      "/Users/trevorchan/environments/echo/lib/python3.7/site-packages/ipykernel_launcher.py:39: UserWarning: 4d_preprocessed/segmentations/bav20/bav20_019.tif is a low contrast image\n",
      "/Users/trevorchan/environments/echo/lib/python3.7/site-packages/ipykernel_launcher.py:39: UserWarning: 4d_preprocessed/segmentations/bav20/bav20_020.tif is a low contrast image\n",
      "/Users/trevorchan/environments/echo/lib/python3.7/site-packages/ipykernel_launcher.py:39: UserWarning: 4d_preprocessed/segmentations/bav20/bav20_021.tif is a low contrast image\n",
      "/Users/trevorchan/environments/echo/lib/python3.7/site-packages/ipykernel_launcher.py:39: UserWarning: 4d_preprocessed/segmentations/bav20/bav20_022.tif is a low contrast image\n",
      "/Users/trevorchan/environments/echo/lib/python3.7/site-packages/ipykernel_launcher.py:39: UserWarning: 4d_preprocessed/segmentations/bav20/bav20_023.tif is a low contrast image\n",
      "/Users/trevorchan/environments/echo/lib/python3.7/site-packages/ipykernel_launcher.py:39: UserWarning: 4d_preprocessed/segmentations/bav20/bav20_024.tif is a low contrast image\n",
      "/Users/trevorchan/environments/echo/lib/python3.7/site-packages/ipykernel_launcher.py:39: UserWarning: 4d_preprocessed/segmentations/bav20/bav20_025.tif is a low contrast image\n",
      "/Users/trevorchan/environments/echo/lib/python3.7/site-packages/ipykernel_launcher.py:39: UserWarning: 4d_preprocessed/segmentations/bav20/bav20_026.tif is a low contrast image\n",
      " 79%|███████████████████████████████████████████████████████████████████████████████████████████████████████████████████████████████████▊                                   | 15/19 [00:28<00:09,  2.28s/it]/Users/trevorchan/environments/echo/lib/python3.7/site-packages/ipykernel_launcher.py:39: UserWarning: 4d_preprocessed/segmentations/bav23/bav23_001.tif is a low contrast image\n",
      "/Users/trevorchan/environments/echo/lib/python3.7/site-packages/ipykernel_launcher.py:39: UserWarning: 4d_preprocessed/segmentations/bav23/bav23_002.tif is a low contrast image\n",
      "/Users/trevorchan/environments/echo/lib/python3.7/site-packages/ipykernel_launcher.py:39: UserWarning: 4d_preprocessed/segmentations/bav23/bav23_003.tif is a low contrast image\n",
      "/Users/trevorchan/environments/echo/lib/python3.7/site-packages/ipykernel_launcher.py:39: UserWarning: 4d_preprocessed/segmentations/bav23/bav23_004.tif is a low contrast image\n",
      "/Users/trevorchan/environments/echo/lib/python3.7/site-packages/ipykernel_launcher.py:39: UserWarning: 4d_preprocessed/segmentations/bav23/bav23_005.tif is a low contrast image\n",
      "/Users/trevorchan/environments/echo/lib/python3.7/site-packages/ipykernel_launcher.py:39: UserWarning: 4d_preprocessed/segmentations/bav23/bav23_006.tif is a low contrast image\n",
      "/Users/trevorchan/environments/echo/lib/python3.7/site-packages/ipykernel_launcher.py:39: UserWarning: 4d_preprocessed/segmentations/bav23/bav23_007.tif is a low contrast image\n",
      "/Users/trevorchan/environments/echo/lib/python3.7/site-packages/ipykernel_launcher.py:39: UserWarning: 4d_preprocessed/segmentations/bav23/bav23_008.tif is a low contrast image\n",
      "/Users/trevorchan/environments/echo/lib/python3.7/site-packages/ipykernel_launcher.py:39: UserWarning: 4d_preprocessed/segmentations/bav23/bav23_009.tif is a low contrast image\n",
      "/Users/trevorchan/environments/echo/lib/python3.7/site-packages/ipykernel_launcher.py:39: UserWarning: 4d_preprocessed/segmentations/bav23/bav23_010.tif is a low contrast image\n",
      "/Users/trevorchan/environments/echo/lib/python3.7/site-packages/ipykernel_launcher.py:39: UserWarning: 4d_preprocessed/segmentations/bav23/bav23_011.tif is a low contrast image\n",
      "/Users/trevorchan/environments/echo/lib/python3.7/site-packages/ipykernel_launcher.py:39: UserWarning: 4d_preprocessed/segmentations/bav23/bav23_012.tif is a low contrast image\n",
      "/Users/trevorchan/environments/echo/lib/python3.7/site-packages/ipykernel_launcher.py:39: UserWarning: 4d_preprocessed/segmentations/bav23/bav23_013.tif is a low contrast image\n",
      "/Users/trevorchan/environments/echo/lib/python3.7/site-packages/ipykernel_launcher.py:39: UserWarning: 4d_preprocessed/segmentations/bav23/bav23_014.tif is a low contrast image\n",
      "/Users/trevorchan/environments/echo/lib/python3.7/site-packages/ipykernel_launcher.py:39: UserWarning: 4d_preprocessed/segmentations/bav23/bav23_015.tif is a low contrast image\n",
      "/Users/trevorchan/environments/echo/lib/python3.7/site-packages/ipykernel_launcher.py:39: UserWarning: 4d_preprocessed/segmentations/bav23/bav23_016.tif is a low contrast image\n",
      "/Users/trevorchan/environments/echo/lib/python3.7/site-packages/ipykernel_launcher.py:39: UserWarning: 4d_preprocessed/segmentations/bav23/bav23_017.tif is a low contrast image\n",
      "/Users/trevorchan/environments/echo/lib/python3.7/site-packages/ipykernel_launcher.py:39: UserWarning: 4d_preprocessed/segmentations/bav23/bav23_018.tif is a low contrast image\n",
      " 84%|████████████████████████████████████████████████████████████████████████████████████████████████████████████████████████████████████████████▋                          | 16/19 [00:30<00:05,  1.93s/it]/Users/trevorchan/environments/echo/lib/python3.7/site-packages/ipykernel_launcher.py:39: UserWarning: 4d_preprocessed/segmentations/bav24/bav24_001.tif is a low contrast image\n",
      "/Users/trevorchan/environments/echo/lib/python3.7/site-packages/ipykernel_launcher.py:39: UserWarning: 4d_preprocessed/segmentations/bav24/bav24_002.tif is a low contrast image\n",
      "/Users/trevorchan/environments/echo/lib/python3.7/site-packages/ipykernel_launcher.py:39: UserWarning: 4d_preprocessed/segmentations/bav24/bav24_003.tif is a low contrast image\n",
      "/Users/trevorchan/environments/echo/lib/python3.7/site-packages/ipykernel_launcher.py:39: UserWarning: 4d_preprocessed/segmentations/bav24/bav24_004.tif is a low contrast image\n",
      "/Users/trevorchan/environments/echo/lib/python3.7/site-packages/ipykernel_launcher.py:39: UserWarning: 4d_preprocessed/segmentations/bav24/bav24_005.tif is a low contrast image\n",
      "/Users/trevorchan/environments/echo/lib/python3.7/site-packages/ipykernel_launcher.py:39: UserWarning: 4d_preprocessed/segmentations/bav24/bav24_006.tif is a low contrast image\n",
      "/Users/trevorchan/environments/echo/lib/python3.7/site-packages/ipykernel_launcher.py:39: UserWarning: 4d_preprocessed/segmentations/bav24/bav24_007.tif is a low contrast image\n",
      "/Users/trevorchan/environments/echo/lib/python3.7/site-packages/ipykernel_launcher.py:39: UserWarning: 4d_preprocessed/segmentations/bav24/bav24_008.tif is a low contrast image\n",
      "/Users/trevorchan/environments/echo/lib/python3.7/site-packages/ipykernel_launcher.py:39: UserWarning: 4d_preprocessed/segmentations/bav24/bav24_009.tif is a low contrast image\n",
      "/Users/trevorchan/environments/echo/lib/python3.7/site-packages/ipykernel_launcher.py:39: UserWarning: 4d_preprocessed/segmentations/bav24/bav24_010.tif is a low contrast image\n",
      "/Users/trevorchan/environments/echo/lib/python3.7/site-packages/ipykernel_launcher.py:39: UserWarning: 4d_preprocessed/segmentations/bav24/bav24_011.tif is a low contrast image\n",
      "/Users/trevorchan/environments/echo/lib/python3.7/site-packages/ipykernel_launcher.py:39: UserWarning: 4d_preprocessed/segmentations/bav24/bav24_012.tif is a low contrast image\n",
      "/Users/trevorchan/environments/echo/lib/python3.7/site-packages/ipykernel_launcher.py:39: UserWarning: 4d_preprocessed/segmentations/bav24/bav24_013.tif is a low contrast image\n",
      " 89%|█████████████████████████████████████████████████████████████████████████████████████████████████████████████████████████████████████████████████████▍                 | 17/19 [00:30<00:03,  1.56s/it]/Users/trevorchan/environments/echo/lib/python3.7/site-packages/ipykernel_launcher.py:39: UserWarning: 4d_preprocessed/segmentations/bav25/bav25_001.tif is a low contrast image\n",
      "/Users/trevorchan/environments/echo/lib/python3.7/site-packages/ipykernel_launcher.py:39: UserWarning: 4d_preprocessed/segmentations/bav25/bav25_002.tif is a low contrast image\n",
      "/Users/trevorchan/environments/echo/lib/python3.7/site-packages/ipykernel_launcher.py:39: UserWarning: 4d_preprocessed/segmentations/bav25/bav25_003.tif is a low contrast image\n",
      "/Users/trevorchan/environments/echo/lib/python3.7/site-packages/ipykernel_launcher.py:39: UserWarning: 4d_preprocessed/segmentations/bav25/bav25_004.tif is a low contrast image\n",
      "/Users/trevorchan/environments/echo/lib/python3.7/site-packages/ipykernel_launcher.py:39: UserWarning: 4d_preprocessed/segmentations/bav25/bav25_005.tif is a low contrast image\n",
      "/Users/trevorchan/environments/echo/lib/python3.7/site-packages/ipykernel_launcher.py:39: UserWarning: 4d_preprocessed/segmentations/bav25/bav25_006.tif is a low contrast image\n",
      "/Users/trevorchan/environments/echo/lib/python3.7/site-packages/ipykernel_launcher.py:39: UserWarning: 4d_preprocessed/segmentations/bav25/bav25_007.tif is a low contrast image\n",
      "/Users/trevorchan/environments/echo/lib/python3.7/site-packages/ipykernel_launcher.py:39: UserWarning: 4d_preprocessed/segmentations/bav25/bav25_008.tif is a low contrast image\n",
      "/Users/trevorchan/environments/echo/lib/python3.7/site-packages/ipykernel_launcher.py:39: UserWarning: 4d_preprocessed/segmentations/bav25/bav25_009.tif is a low contrast image\n",
      "/Users/trevorchan/environments/echo/lib/python3.7/site-packages/ipykernel_launcher.py:39: UserWarning: 4d_preprocessed/segmentations/bav25/bav25_010.tif is a low contrast image\n",
      " 95%|██████████████████████████████████████████████████████████████████████████████████████████████████████████████████████████████████████████████████████████████▏        | 18/19 [00:31<00:01,  1.26s/it]/Users/trevorchan/environments/echo/lib/python3.7/site-packages/ipykernel_launcher.py:39: UserWarning: 4d_preprocessed/segmentations/bav26/bav26_001.tif is a low contrast image\n",
      "/Users/trevorchan/environments/echo/lib/python3.7/site-packages/ipykernel_launcher.py:39: UserWarning: 4d_preprocessed/segmentations/bav26/bav26_002.tif is a low contrast image\n",
      "/Users/trevorchan/environments/echo/lib/python3.7/site-packages/ipykernel_launcher.py:39: UserWarning: 4d_preprocessed/segmentations/bav26/bav26_003.tif is a low contrast image\n",
      "/Users/trevorchan/environments/echo/lib/python3.7/site-packages/ipykernel_launcher.py:39: UserWarning: 4d_preprocessed/segmentations/bav26/bav26_004.tif is a low contrast image\n",
      "/Users/trevorchan/environments/echo/lib/python3.7/site-packages/ipykernel_launcher.py:39: UserWarning: 4d_preprocessed/segmentations/bav26/bav26_005.tif is a low contrast image\n",
      "/Users/trevorchan/environments/echo/lib/python3.7/site-packages/ipykernel_launcher.py:39: UserWarning: 4d_preprocessed/segmentations/bav26/bav26_006.tif is a low contrast image\n",
      "/Users/trevorchan/environments/echo/lib/python3.7/site-packages/ipykernel_launcher.py:39: UserWarning: 4d_preprocessed/segmentations/bav26/bav26_007.tif is a low contrast image\n",
      "/Users/trevorchan/environments/echo/lib/python3.7/site-packages/ipykernel_launcher.py:39: UserWarning: 4d_preprocessed/segmentations/bav26/bav26_008.tif is a low contrast image\n",
      "/Users/trevorchan/environments/echo/lib/python3.7/site-packages/ipykernel_launcher.py:39: UserWarning: 4d_preprocessed/segmentations/bav26/bav26_009.tif is a low contrast image\n",
      "/Users/trevorchan/environments/echo/lib/python3.7/site-packages/ipykernel_launcher.py:39: UserWarning: 4d_preprocessed/segmentations/bav26/bav26_010.tif is a low contrast image\n",
      "/Users/trevorchan/environments/echo/lib/python3.7/site-packages/ipykernel_launcher.py:39: UserWarning: 4d_preprocessed/segmentations/bav26/bav26_011.tif is a low contrast image\n",
      "/Users/trevorchan/environments/echo/lib/python3.7/site-packages/ipykernel_launcher.py:39: UserWarning: 4d_preprocessed/segmentations/bav26/bav26_012.tif is a low contrast image\n",
      "/Users/trevorchan/environments/echo/lib/python3.7/site-packages/ipykernel_launcher.py:39: UserWarning: 4d_preprocessed/segmentations/bav26/bav26_013.tif is a low contrast image\n",
      "/Users/trevorchan/environments/echo/lib/python3.7/site-packages/ipykernel_launcher.py:39: UserWarning: 4d_preprocessed/segmentations/bav26/bav26_014.tif is a low contrast image\n",
      "/Users/trevorchan/environments/echo/lib/python3.7/site-packages/ipykernel_launcher.py:39: UserWarning: 4d_preprocessed/segmentations/bav26/bav26_015.tif is a low contrast image\n",
      "/Users/trevorchan/environments/echo/lib/python3.7/site-packages/ipykernel_launcher.py:39: UserWarning: 4d_preprocessed/segmentations/bav26/bav26_016.tif is a low contrast image\n",
      "/Users/trevorchan/environments/echo/lib/python3.7/site-packages/ipykernel_launcher.py:39: UserWarning: 4d_preprocessed/segmentations/bav26/bav26_017.tif is a low contrast image\n",
      "/Users/trevorchan/environments/echo/lib/python3.7/site-packages/ipykernel_launcher.py:39: UserWarning: 4d_preprocessed/segmentations/bav26/bav26_018.tif is a low contrast image\n",
      "/Users/trevorchan/environments/echo/lib/python3.7/site-packages/ipykernel_launcher.py:39: UserWarning: 4d_preprocessed/segmentations/bav26/bav26_019.tif is a low contrast image\n",
      "/Users/trevorchan/environments/echo/lib/python3.7/site-packages/ipykernel_launcher.py:39: UserWarning: 4d_preprocessed/segmentations/bav26/bav26_020.tif is a low contrast image\n",
      "/Users/trevorchan/environments/echo/lib/python3.7/site-packages/ipykernel_launcher.py:39: UserWarning: 4d_preprocessed/segmentations/bav26/bav26_021.tif is a low contrast image\n",
      "/Users/trevorchan/environments/echo/lib/python3.7/site-packages/ipykernel_launcher.py:39: UserWarning: 4d_preprocessed/segmentations/bav26/bav26_022.tif is a low contrast image\n",
      "/Users/trevorchan/environments/echo/lib/python3.7/site-packages/ipykernel_launcher.py:39: UserWarning: 4d_preprocessed/segmentations/bav26/bav26_023.tif is a low contrast image\n",
      "/Users/trevorchan/environments/echo/lib/python3.7/site-packages/ipykernel_launcher.py:39: UserWarning: 4d_preprocessed/segmentations/bav26/bav26_024.tif is a low contrast image\n",
      "100%|███████████████████████████████████████████████████████████████████████████████████████████████████████████████████████████████████████████████████████████████████████| 19/19 [00:32<00:00,  1.72s/it]"
     ]
    },
    {
     "name": "stdout",
     "output_type": "stream",
     "text": [
      "complete\n"
     ]
    },
    {
     "name": "stderr",
     "output_type": "stream",
     "text": [
      "\n"
     ]
    }
   ],
   "source": [
    "# FOR loading 4D images (.nii) and saving them as time series of 3D images (.nii)\n",
    "from skimage.io import imsave\n",
    "\n",
    "segorimg = 'seg' # 'seg', 'img'\n",
    "\n",
    "if segorimg == 'seg':\n",
    "    globpath = \"4d_preprocessed/segmentations/*.nii.gz\"\n",
    "else:\n",
    "    globpath = \"4d_preprocessed/images/*.nii.gz\" #\"4d_preprocessed/images/*.nii.gz\"\n",
    "\n",
    "\n",
    "segimgs = []\n",
    "for img_path in tqdm(sorted(glob.glob(globpath)), leave=True):\n",
    "    \n",
    "    if segorimg == 'seg':\n",
    "        savedir = '{}'.format(os.path.splitext(os.path.splitext(img_path)[0])[0][:-3]) #for segmentation path\n",
    "    else:\n",
    "        savedir = '{}'.format(os.path.splitext(os.path.splitext(img_path)[0])[0][:-8]) #for image path\n",
    "\n",
    "    if os.path.exists(savedir) == False:\n",
    "        os.mkdir(savedir)\n",
    "        \n",
    "    img = nib.load(img_path)\n",
    "    imgdata = img.get_fdata()\n",
    "    for i in range(np.size(imgdata, axis=3)):\n",
    "        data = imgdata[:,:,:,i].astype(np.int8)\n",
    "        # img = nib.Nifti1Image(data, np.eye(4)) # np.eye(4) is a 4 dimensional image coordinate transformation\n",
    "        \n",
    "        if segorimg == 'seg':\n",
    "            save_path = '{}/{}_{}.tif'.format(savedir, \n",
    "                                                    os.path.split(savedir)[1],\n",
    "                                                    str(i+1).zfill(3)) #for segmentation\n",
    "        else:\n",
    "            save_path = '{}/{}_{}_0000.tif'.format(savedir, \n",
    "                                                    os.path.split(savedir)[1],\n",
    "                                                    str(i+1).zfill(3)) #for images\n",
    "        \n",
    "        # tif.imsave(save_path, data, bigtiff=True)\n",
    "        imsave(save_path, data)\n",
    "        # nib.save(img, save_path)\n",
    "        \n",
    "    # print(\"{} saved with {} frames\".format(img_path,np.size(imgdata, axis=3)))\n",
    "    \n",
    "print('complete')"
   ]
  },
  {
   "cell_type": "code",
   "execution_count": null,
   "id": "43da16fc-1fa0-4bb2-9393-acc6885d7b8a",
   "metadata": {},
   "outputs": [],
   "source": []
  },
  {
   "cell_type": "code",
   "execution_count": null,
   "id": "3d1691d3-fecd-44f6-bf17-f1d83c831a57",
   "metadata": {},
   "outputs": [],
   "source": []
  },
  {
   "cell_type": "code",
   "execution_count": null,
   "id": "e5f3b775-4629-4717-a17e-46e2a18ebc52",
   "metadata": {},
   "outputs": [],
   "source": []
  },
  {
   "cell_type": "code",
   "execution_count": 13,
   "id": "b0760069-2fc9-4336-a46e-5b4d27985862",
   "metadata": {},
   "outputs": [
    {
     "name": "stderr",
     "output_type": "stream",
     "text": [
      "100%|██████████████████| 7/7 [00:27<00:00,  3.97s/it]\n"
     ]
    }
   ],
   "source": [
    "# Load a 4D image (.nii) and preprocess: crop to a set region around the segmentation mask and add a expansion mask (?) to the mask classes\n",
    "#Also reform mask classes - for now set all nonzero classes = 1, with possible expansion mask = 2\n",
    "\n",
    "savedir = 'data/test_instances/3d'\n",
    "segimgs = []\n",
    "for img_path in tqdm(sorted(glob.glob(\"data/test_images/*.nii.gz\")), leave=True):\n",
    "    \n",
    "    img = nib.load(img_path)\n",
    "    imgdata = img.get_fdata()\n",
    "    segdata = np.zeros_like(imgdata)\n",
    "    \n",
    "    if imgdata.shape != segdata.shape:\n",
    "        print(\"ERROR SHAPE MISMATCH: {}: img: {}, seg: {}\".format(img_path, imgdata.shape, segdata.shape))\n",
    "        print('processing up to frame {}'.format(segdata.shape[3]))\n",
    "        imgdata = imgdata[:,:,:,:segdata.shape[3]]\n",
    "        # continue\n",
    "        \n",
    "    #Make segdata a binary mask instead of multiclass\n",
    "    segdata = segdata>0\n",
    "        \n",
    "    data = np.stack((imgdata,segdata), axis = 4)\n",
    "    \n",
    "    #run preprocessing\n",
    "    data = matrix_process(data)\n",
    "    \n",
    "    imgdata = data[:,:,:,:,0]\n",
    "    \n",
    "    for i in range(np.size(imgdata, axis=3)):\n",
    "        data = imgdata[:,:,:,i].astype(np.int16)\n",
    "        img = nib.Nifti1Image(data, np.eye(4)) # np.eye(4) is a 4 dimensional image coordinate transformation\n",
    "        \n",
    "        save_path = '{}/{}_{}_0000.nii.gz'.format(savedir, \n",
    "                                                    os.path.split(img_path)[1][:-15],\n",
    "                                                    str(i+1).zfill(3)) #for images\n",
    "        \n",
    "        nib.save(img, save_path)\n",
    "    \n",
    "#     #save to nii\n",
    "#     newimg = nib.Nifti1Image(data[:,:,:,:,0], np.eye(4))\n",
    "#     newseg = nib.Nifti1Image(data[:,:,:,:,1], np.eye(4))\n",
    "    \n",
    "#     newimgpath = '{}/{}'.format(savedir, os.path.split(img_path)[1])\n",
    "        \n",
    "#     nib.save(newimg, newimgpath)\n",
    "    \n",
    "\n",
    "    "
   ]
  },
  {
   "cell_type": "code",
   "execution_count": null,
   "id": "4c755e06-32b4-4bc2-9cf4-d304b1fd1adc",
   "metadata": {},
   "outputs": [],
   "source": [
    "# FOR loading 4D images (.nii) and saving them as time series of 3D images (.nii)\n",
    "\n",
    "segorimg = 'img' # 'seg', 'img'\n",
    "\n",
    "if segorimg == 'seg':\n",
    "    globpath = \"TAV/4d_preprocessed/segmentations/*.nii.gz\"\n",
    "else:\n",
    "    globpath = \"TAV/4d_preprocessed/images/*.nii.gz\" #\"4d_preprocessed/images/*.nii.gz\"\n",
    "\n",
    "\n",
    "segimgs = []\n",
    "for img_path in tqdm(sorted(glob.glob(globpath)), leave=True):\n",
    "    \n",
    "    if segorimg == 'seg':\n",
    "        savedir = '{}'.format(os.path.splitext(os.path.splitext(img_path)[0])[0][:-3]) #for segmentation path\n",
    "    else:\n",
    "        savedir = '{}'.format(os.path.splitext(os.path.splitext(img_path)[0])[0][:-8]) #for image path\n",
    "\n",
    "    if os.path.exists(savedir) == False:\n",
    "        os.mkdir(savedir)\n",
    "        \n",
    "    img = nib.load(img_path)\n",
    "    imgdata = img.get_fdata()\n",
    "    \n",
    "        \n",
    "    # print(\"{} saved with {} frames\".format(img_path,np.size(imgdata, axis=3)))\n",
    "    \n",
    "print('complete')"
   ]
  },
  {
   "cell_type": "code",
   "execution_count": 4,
   "id": "c1564659-8316-4dfb-a584-c1122f9fe7a6",
   "metadata": {},
   "outputs": [
    {
     "name": "stderr",
     "output_type": "stream",
     "text": [
      "100%|█████████████████████████████████████████████████████████████████████████████████████████████████████████████████████████████████████████████████████████████████████████| 7/7 [00:29<00:00,  4.16s/it]"
     ]
    },
    {
     "name": "stdout",
     "output_type": "stream",
     "text": [
      "complete\n"
     ]
    },
    {
     "name": "stderr",
     "output_type": "stream",
     "text": [
      "\n"
     ]
    }
   ],
   "source": [
    "# FOR loading time series of 3D Masks (niii) and saving them as 4D images (.nii)\n",
    "\n",
    "segimgs = []\n",
    "for sequence_path in tqdm(sorted(glob.glob(\"data/test_outputs/3d_full/*/\")), leave=True):\n",
    "    temp = []\n",
    "    for img_path in sorted(glob.glob(\"{}/*.nii.gz\".format(sequence_path))):\n",
    "        img = nib.load(img_path)\n",
    "        imgdata = img.get_fdata()\n",
    "        temp.append(imgdata)\n",
    "    temp = np.transpose(np.array(temp), (1,2,3,0))\n",
    "    # print(\"{} loaded with shape {}\".format(img_path,temp.shape))\n",
    "    \n",
    "    data = temp.astype(np.int16)\n",
    "    img = nib.Nifti1Image(data, np.eye(4)) # np.eye(4) is a 4 dimensional image coordinate transformation\n",
    "    nib.save(img, '{}_4d.nii.gz'.format(sequence_path[:-1]))\n",
    "    \n",
    "print('complete')"
   ]
  },
  {
   "cell_type": "code",
   "execution_count": null,
   "id": "61b88c3e-d7b4-4a3d-9811-018c2d8905fa",
   "metadata": {},
   "outputs": [],
   "source": []
  },
  {
   "cell_type": "code",
   "execution_count": null,
   "id": "f48f787e-6a46-4139-9643-42af03e59910",
   "metadata": {},
   "outputs": [],
   "source": []
  },
  {
   "cell_type": "code",
   "execution_count": 3,
   "id": "f5243399-0053-4c49-82a5-dbf8ec968dd7",
   "metadata": {},
   "outputs": [
    {
     "name": "stderr",
     "output_type": "stream",
     "text": [
      "100%|█████████████████████████████████████████████████████████████████████████████████████████████████████████████████████████████████████████████████████████████████████████| 7/7 [00:40<00:00,  5.83s/it]\n"
     ]
    }
   ],
   "source": [
    "# Load a 4D image (.nii) and preprocess: crop to a set region around the segmentation mask and add a expansion mask (?) to the mask classes\n",
    "#Also reform mask classes - for now set all nonzero classes = 1, with possible expansion mask = 2\n",
    "\n",
    "savedir = 'data/test_images/3d'\n",
    "segimgs = []\n",
    "for img_path in tqdm(sorted(glob.glob(\"data/test_images/*.nii.gz\")), leave=True):\n",
    "    \n",
    "    img = nib.load(img_path)\n",
    "    imgdata = img.get_fdata()\n",
    "    segdata = np.zeros_like(imgdata)\n",
    "    \n",
    "    if imgdata.shape != segdata.shape:\n",
    "        print(\"ERROR SHAPE MISMATCH: {}: img: {}, seg: {}\".format(img_path, imgdata.shape, segdata.shape))\n",
    "        print('processing up to frame {}'.format(segdata.shape[3]))\n",
    "        imgdata = imgdata[:,:,:,:segdata.shape[3]]\n",
    "        # continue\n",
    "        \n",
    "    #Make segdata a binary mask instead of multiclass\n",
    "    segdata = segdata>0\n",
    "        \n",
    "    data = np.stack((imgdata,segdata), axis = 4)\n",
    "    \n",
    "    #run preprocessing\n",
    "    # data = matrix_process(data)\n",
    "    \n",
    "    imgdata = data[:,:,:,:,0]\n",
    "    \n",
    "    for i in range(np.size(imgdata, axis=3)):\n",
    "        data = imgdata[:,:,:,i].astype(np.int16)\n",
    "        img = nib.Nifti1Image(data, np.eye(4)) # np.eye(4) is a 4 dimensional image coordinate transformation\n",
    "        \n",
    "        save_path = '{}/{}_{}_0000.nii.gz'.format(savedir, \n",
    "                                                    os.path.split(img_path)[1][:-15],\n",
    "                                                    str(i+1).zfill(3)) #for images\n",
    "        \n",
    "        nib.save(img, save_path)\n",
    "    \n",
    "#     #save to nii\n",
    "#     newimg = nib.Nifti1Image(data[:,:,:,:,0], np.eye(4))\n",
    "#     newseg = nib.Nifti1Image(data[:,:,:,:,1], np.eye(4))\n",
    "    \n",
    "#     newimgpath = '{}/{}'.format(savedir, os.path.split(img_path)[1])\n",
    "        \n",
    "#     nib.save(newimg, newimgpath)\n",
    "    \n",
    "\n",
    "    "
   ]
  },
  {
   "cell_type": "code",
   "execution_count": null,
   "id": "ae46298d-4383-4ffb-8ed4-9b5290d4d522",
   "metadata": {},
   "outputs": [],
   "source": []
  }
 ],
 "metadata": {
  "kernelspec": {
   "display_name": "Python 3 (ipykernel)",
   "language": "python",
   "name": "python3"
  },
  "language_info": {
   "codemirror_mode": {
    "name": "ipython",
    "version": 3
   },
   "file_extension": ".py",
   "mimetype": "text/x-python",
   "name": "python",
   "nbconvert_exporter": "python",
   "pygments_lexer": "ipython3",
   "version": "3.8.10"
  }
 },
 "nbformat": 4,
 "nbformat_minor": 5
}
