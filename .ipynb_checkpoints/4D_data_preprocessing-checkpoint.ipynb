{
 "cells": [
  {
   "cell_type": "code",
   "execution_count": 1,
   "id": "b1e9bbe5-0b28-458d-bafd-791256c5fb54",
   "metadata": {},
   "outputs": [],
   "source": [
    "import os\n",
    "import numpy as np\n",
    "import nibabel as nib\n",
    "from PIL import Image\n",
    "import matplotlib.pyplot as plt\n",
    "import glob\n",
    "from tqdm import tqdm\n",
    "from scipy import ndimage"
   ]
  },
  {
   "cell_type": "code",
   "execution_count": 2,
   "id": "f156dff7-667b-4b87-8d57-e7380db611b9",
   "metadata": {},
   "outputs": [],
   "source": [
    "dirpath = os.path.expanduser(\"~\")+'/data/aortic-root-4Dsegs-March2022/4d_unprocessed'"
   ]
  },
  {
   "cell_type": "code",
   "execution_count": 3,
   "id": "225a684d-f908-4a51-b99f-bb2e463848d8",
   "metadata": {
    "tags": []
   },
   "outputs": [],
   "source": [
    "#For renaming files\n",
    "\n",
    "for directory in glob.glob(dirpath+'/*/'):\n",
    "    for img in glob.glob(directory+'/*.nii.gz'):\n",
    "        img_rename = os.path.split(img)[1]\n",
    "        if '_root_' in img_rename:\n",
    "            if '_to_' in img_rename:\n",
    "                img_rename = img_rename[9:].replace('_root_reslice_labeled','')\n",
    "            else:\n",
    "                img_rename = img_rename[3:].replace('_root_labeled','')\n",
    "            img_rename = directory+img_rename\n",
    "            os.rename(img, img_rename)\n",
    "        # else: print('nothing to rename')"
   ]
  },
  {
   "cell_type": "code",
   "execution_count": 20,
   "id": "eff0d39d-5cdc-4394-baba-1caf1f0e7b4e",
   "metadata": {},
   "outputs": [
    {
     "name": "stderr",
     "output_type": "stream",
     "text": [
      "\n",
      "  0%|                                                    | 0/35 [00:00<?, ?it/s]\u001b[A\n",
      "  3%|█▎                                          | 1/35 [00:06<03:27,  6.11s/it]\u001b[A\n",
      "  6%|██▌                                         | 2/35 [00:09<02:35,  4.70s/it]\u001b[A\n",
      "  9%|███▊                                        | 3/35 [00:14<02:31,  4.73s/it]\u001b[A\n",
      " 11%|█████                                       | 4/35 [00:20<02:39,  5.15s/it]\u001b[A\n",
      " 14%|██████▎                                     | 5/35 [00:26<02:47,  5.59s/it]\u001b[A\n",
      " 17%|███████▌                                    | 6/35 [00:28<02:01,  4.20s/it]\u001b[A\n",
      " 20%|████████▊                                   | 7/35 [00:31<01:50,  3.93s/it]\u001b[A\n",
      " 23%|██████████                                  | 8/35 [00:33<01:30,  3.35s/it]\u001b[A\n",
      " 26%|███████████▎                                | 9/35 [00:36<01:24,  3.27s/it]\u001b[A\n",
      " 29%|████████████▎                              | 10/35 [00:41<01:30,  3.62s/it]\u001b[A\n",
      " 31%|█████████████▌                             | 11/35 [00:44<01:24,  3.53s/it]\u001b[A\n",
      " 34%|██████████████▋                            | 12/35 [00:49<01:31,  3.97s/it]\u001b[A\n",
      " 37%|███████████████▉                           | 13/35 [00:55<01:40,  4.59s/it]\u001b[A\n",
      " 40%|█████████████████▏                         | 14/35 [01:05<02:11,  6.26s/it]\u001b[A\n",
      " 43%|██████████████████▍                        | 15/35 [01:07<01:40,  5.01s/it]\u001b[A\n",
      " 46%|███████████████████▋                       | 16/35 [01:10<01:21,  4.28s/it]\u001b[A\n",
      " 49%|████████████████████▉                      | 17/35 [01:12<01:02,  3.49s/it]\u001b[A\n",
      " 51%|██████████████████████                     | 18/35 [01:13<00:48,  2.82s/it]\u001b[A\n",
      " 54%|███████████████████████▎                   | 19/35 [01:15<00:44,  2.77s/it]\u001b[A\n",
      " 57%|████████████████████████▌                  | 20/35 [01:21<00:54,  3.62s/it]\u001b[A\n",
      " 60%|█████████████████████████▊                 | 21/35 [01:25<00:51,  3.66s/it]\u001b[A\n",
      " 63%|███████████████████████████                | 22/35 [01:29<00:50,  3.92s/it]\u001b[A\n",
      " 66%|████████████████████████████▎              | 23/35 [01:32<00:42,  3.51s/it]\u001b[A\n",
      " 69%|█████████████████████████████▍             | 24/35 [01:34<00:34,  3.13s/it]\u001b[A\n",
      " 71%|██████████████████████████████▋            | 25/35 [01:41<00:41,  4.14s/it]\u001b[A\n",
      " 74%|███████████████████████████████▉           | 26/35 [01:45<00:37,  4.18s/it]\u001b[A\n",
      " 77%|█████████████████████████████████▏         | 27/35 [01:50<00:36,  4.51s/it]\u001b[A\n",
      " 80%|██████████████████████████████████▍        | 28/35 [01:54<00:29,  4.25s/it]\u001b[A\n",
      " 83%|███████████████████████████████████▋       | 29/35 [01:59<00:27,  4.52s/it]\u001b[A\n",
      " 86%|████████████████████████████████████▊      | 30/35 [02:04<00:22,  4.58s/it]\u001b[A\n",
      " 89%|██████████████████████████████████████     | 31/35 [02:07<00:16,  4.21s/it]\u001b[A\n",
      " 91%|███████████████████████████████████████▎   | 32/35 [02:11<00:12,  4.08s/it]\u001b[A\n",
      " 94%|████████████████████████████████████████▌  | 33/35 [02:16<00:08,  4.37s/it]\u001b[A\n",
      " 97%|█████████████████████████████████████████▊ | 34/35 [02:19<00:04,  4.04s/it]\u001b[A\n",
      "100%|███████████████████████████████████████████| 35/35 [02:20<00:00,  4.02s/it]\u001b[A"
     ]
    },
    {
     "name": "stdout",
     "output_type": "stream",
     "text": [
      "complete\n"
     ]
    },
    {
     "name": "stderr",
     "output_type": "stream",
     "text": [
      "\n"
     ]
    }
   ],
   "source": [
    "# FOR loading time series of 3D Masks (niii) and saving them as 4D images (.nii)\n",
    "filepath = os.path.expanduser(\"~\")+'/data/aortic-root-4Dsegs-March2022/3d_unprocessed/*/'\n",
    "savedir = os.path.expanduser(\"~\")+'/data/aortic-root-4Dsegs-March2022/4d_unprocessed/masks'\n",
    "\n",
    "segimgs = []\n",
    "for sequence_path in tqdm(sorted(glob.glob(filepath)), leave=True):\n",
    "    # print(sequence_path)\n",
    "    temp = []\n",
    "    for img_path in sorted(glob.glob(\"{}/*.nii.gz\".format(sequence_path))):\n",
    "        # print(img_path)\n",
    "        img = nib.load(img_path)\n",
    "        imgdata = img.get_fdata()\n",
    "        temp.append(imgdata)\n",
    "    temp = np.transpose(np.array(temp), (1,2,3,0))\n",
    "    # print(\"{} loaded with shape {}\".format(img_path,temp.shape))\n",
    "    \n",
    "    data = temp.astype(np.int16)\n",
    "    img = nib.Nifti1Image(data, np.eye(4)) # np.eye(4) is a 4 dimensional image coordinate transformation\n",
    "    # nib.save(img, '{}_4d.nii.gz'.format(sequence_path[:-1]))\n",
    "    nib.save(img, '{}/{}_4d.nii.gz'.format(savedir, os.path.split(sequence_path[:-1])[1]))\n",
    "\n",
    "print('complete')"
   ]
  },
  {
   "cell_type": "code",
   "execution_count": 5,
   "id": "152fb708-f29d-45c7-8857-b6d7ff3af354",
   "metadata": {},
   "outputs": [],
   "source": [
    "#take  5D matrix, normalize existing mask to class1, perform a crop operation, create an expansion mask\n",
    "\n",
    "#center of mass calculation\n",
    "def calc_com_3d(data):\n",
    "    new_data = data\n",
    "    dup_mask = data[:,:,:,:,1]>0   #Normalize segmentations to binary mask, any signal gets included in com calculation\n",
    "    dup_mask = np.sum(dup_mask, axis=3)\n",
    "    xsum = np.sum(np.sum(dup_mask, axis=1), axis=1)\n",
    "    ysum = np.sum(np.sum(dup_mask, axis=0), axis=1)\n",
    "    zsum = np.sum(np.sum(dup_mask, axis=0), axis=0)\n",
    "\n",
    "    # plt.plot(range(len(xsum)), xsum)\n",
    "    # plt.plot(range(len(ysum)), ysum)\n",
    "    # plt.plot(range(len(zsum)), zsum)\n",
    "\n",
    "    def calc_com_1d(arr):\n",
    "        wsum = 0\n",
    "        msum = 0\n",
    "        for i in range(len(arr)):\n",
    "            wsum += arr[i]*i\n",
    "            msum += arr[i]\n",
    "        if msum == 0:\n",
    "            return int((len(arr)+1)/2)\n",
    "        return wsum/msum\n",
    "\n",
    "    xcom = calc_com_1d(xsum)\n",
    "    ycom = calc_com_1d(ysum)\n",
    "    zcom = calc_com_1d(zsum)\n",
    "    return (int(xcom), int(ycom), int(zcom))\n",
    "\n",
    "def expand_mask(data, iterations = 10):\n",
    "    new_data = np.copy(data[:,:,:,:,1]>0)   #Normalize segmentations to binary mask, any signal gets included in com calculation\n",
    "    if np.amax(new_data) == 0: return 0\n",
    "    assert np.amax(new_data) == 1\n",
    "    assert len(new_data.shape)==4\n",
    "    for i in range(data.shape[3]):\n",
    "        expansion = ndimage.binary_dilation(new_data[:,:,:,i], iterations=iterations)\n",
    "        data[:,:,:,i,1] = np.add(data[:,:,:,i,1],expansion)  \n",
    "#     class_max = np.amax(data[:,:,:,:,1])\n",
    "#     print(np.unique(data[:,:,:,:,1]))\n",
    "#     print('class max = {}'.format(class_max))\n",
    "\n",
    "#Calculate expansion dilation operation for the interatrial septum mask on a single timeframe mask (3D input)\n",
    "def expand_and_dilate(data, dilate = 25, erode=15):\n",
    "    new_data = np.copy(data[:,:,:]>0)\n",
    "    if np.amax(new_data) == 0:\n",
    "        return 0\n",
    "    assert np.amax(new_data) == 1\n",
    "    new_data = ndimage.binary_dilation(new_data[:,:,:], iterations=dilate)\n",
    "    new_data = ndimage.binary_erosion(new_data[:,:,:], iterations=erode)\n",
    "    return new_data\n",
    "    \n",
    "#calculate distance - used for mask label recomputation\n",
    "def calc_distance(vector1, vector2):\n",
    "    dist = [(a - b)**2 for a, b in zip(vector1, vector2)]\n",
    "    return math.sqrt(sum(dist))\n",
    "\n",
    "#Calculate simplified mask classes on an individual timeframe mask (3D input)\n",
    "def recompute_mask(data):\n",
    "    if len(np.unique(data)) == 5:\n",
    "        print('classes is not enough, already processed?')\n",
    "        return data\n",
    "    mask = imgdata>1\n",
    "    stj_com = calc_com_3d(imgdata==2)\n",
    "    ann_com = calc_com_3d(imgdata==3)\n",
    "    \n",
    "    newmask = np.zeros_like(mask,dtype=int)\n",
    "    \n",
    "    a = np.array(np.where(mask))\n",
    "    for point in [a[:,i] for i in range(a.shape[1])]:\n",
    "        if calc_distance(point,stj_com)<calc_distance(point,ann_com):\n",
    "            newmask[tuple(point)] = 1\n",
    "        else:\n",
    "            newmask[tuple(point)] = 2\n",
    "            \n",
    "    septum = expand_and_dilate(imgdata==7)\n",
    "    newmask = newmask*(-1*(septum-1)) + septum*3\n",
    "    newmask = newmask*mask\n",
    "    expand_mask(newmask)\n",
    "    \n",
    "    return newmask.astype(np.int16)\n",
    "        \n",
    "\n",
    "def matrix_process(data, expmask=False, binarize=False, crop=False, recompute_mask=False, crop_size=(128,128,128)):\n",
    "    \n",
    "    assert len(data.shape) == 5, 'data matrix must be 5 dimensional (x,y,x,t,im_label)'\n",
    "    \n",
    "    #Binarize mask\n",
    "    if binarize==True:\n",
    "        data[:,:,:,:,1] = data[:,:,:,:,1]>0\n",
    "        \n",
    "    #CROP all data\n",
    "    if crop==True:\n",
    "        com = calc_com_3d(data)\n",
    "        \n",
    "        #ensure dimensions are larger than crop region\n",
    "        if crop_size[0] >= data.shape[0]:\n",
    "            diff = crop_size[0]-data.shape[0]\n",
    "            data = np.pad(data, ((int(diff/2),diff-int(diff/2)), (0,0), (0,0), (0,0), (0,0)), 'constant', constant_values=(0, 0))\n",
    "            print('padded dim 0 - shape = {}'.format(data.shape))\n",
    "        if crop_size[1] >= data.shape[1]:\n",
    "            diff = crop_size[1]-data.shape[1]\n",
    "            data = np.pad(data, ((0,0), (int(diff/2),diff-int(diff/2)), (0,0), (0,0), (0,0)), 'constant', constant_values=(0, 0))\n",
    "            print('padded dim 1 - shape = {}'.format(data.shape))\n",
    "        if crop_size[2] >= data.shape[2]:\n",
    "            diff = crop_size[2]-data.shape[2]\n",
    "            data = np.pad(data, ((0,0), (0,0), (int(diff/2),diff-int(diff/2)), (0,0), (0,0)), 'constant', constant_values=(0, 0))\n",
    "            print('padded dim 2 - shape = {}'.format(data.shape))\n",
    "\n",
    "        #calculate lower and upper crop\n",
    "        mins = [int(com[i]-crop_size[i]/2) for i in range(len(com))]\n",
    "        maxs = [int(com[i]+crop_size[i]/2) for i in range(len(com))]\n",
    "        #ensure no overspill\n",
    "        for i in range(len(com)):\n",
    "            if mins[i] < 0:\n",
    "                maxs[i] -= mins[i]\n",
    "                mins[i] = 0\n",
    "            if maxs[i] > data.shape[i]:\n",
    "                dif = maxs[i]-data.shape[i]\n",
    "                mins[i] -= dif\n",
    "                maxs[i] = data.shape[i]\n",
    "\n",
    "        #crop\n",
    "        data = data[mins[0]:maxs[0],mins[1]:maxs[1],mins[2]:maxs[2],:,:]\n",
    "    \n",
    "    \n",
    "    #add expansion mask\n",
    "    if expmask==True:\n",
    "        expand_mask(data)\n",
    "    \n",
    "    #recompute mask class labels for reduced classes\n",
    "    if recompute_mask==True:\n",
    "        for i in range(data.shape[3]):\n",
    "            data[:,:,:,i,1] = recompute_mask(data[:,:,:,i,1])\n",
    "    \n",
    "    return data"
   ]
  },
  {
   "cell_type": "markdown",
   "id": "12f8e4df-b9dc-4791-91e4-53959ce912a3",
   "metadata": {},
   "source": [
    "Read in an unprocessed 4D image and save the processed 3D image sequence and 4D image"
   ]
  },
  {
   "cell_type": "code",
   "execution_count": 4,
   "id": "42328ba3-6763-4a73-ad73-3f1113c09251",
   "metadata": {},
   "outputs": [
    {
     "name": "stderr",
     "output_type": "stream",
     "text": [
      "  5%|████████▌                                                                                                                                                             | 2/39 [00:48<14:25, 23.38s/it]"
     ]
    },
    {
     "name": "stdout",
     "output_type": "stream",
     "text": [
      "ERROR SHAPE MISMATCH: /home/tchan/data/aortic-root-4Dsegs-March2022/4d_unprocessed/images/bav03_4d_0000.nii.gz: img: (176, 208, 208, 61), seg: (176, 208, 208, 31)\n",
      "processing up to frame 31\n"
     ]
    },
    {
     "name": "stderr",
     "output_type": "stream",
     "text": [
      " 10%|█████████████████                                                                                                                                                     | 4/39 [01:49<16:32, 28.37s/it]"
     ]
    },
    {
     "name": "stdout",
     "output_type": "stream",
     "text": [
      "ERROR SHAPE MISMATCH: /home/tchan/data/aortic-root-4Dsegs-March2022/4d_unprocessed/images/bav05_4d_0000.nii.gz: img: (224, 192, 208, 26), seg: (224, 192, 208, 13)\n",
      "processing up to frame 13\n"
     ]
    },
    {
     "name": "stderr",
     "output_type": "stream",
     "text": [
      " 13%|█████████████████████▎                                                                                                                                                | 5/39 [02:03<13:09, 23.23s/it]"
     ]
    },
    {
     "name": "stdout",
     "output_type": "stream",
     "text": [
      "ERROR SHAPE MISMATCH: /home/tchan/data/aortic-root-4Dsegs-March2022/4d_unprocessed/images/bav07_4d_0000.nii.gz: img: (208, 176, 224, 16), seg: (208, 176, 224, 9)\n",
      "processing up to frame 9\n"
     ]
    },
    {
     "name": "stderr",
     "output_type": "stream",
     "text": [
      " 15%|█████████████████████████▌                                                                                                                                            | 6/39 [02:13<10:08, 18.43s/it]"
     ]
    },
    {
     "name": "stdout",
     "output_type": "stream",
     "text": [
      "ERROR SHAPE MISMATCH: /home/tchan/data/aortic-root-4Dsegs-March2022/4d_unprocessed/images/bav08_4d_0000.nii.gz: img: (176, 176, 208, 68), seg: (176, 176, 208, 26)\n",
      "processing up to frame 26\n"
     ]
    },
    {
     "name": "stderr",
     "output_type": "stream",
     "text": [
      " 18%|█████████████████████████████▊                                                                                                                                        | 7/39 [02:34<10:20, 19.39s/it]"
     ]
    },
    {
     "name": "stdout",
     "output_type": "stream",
     "text": [
      "ERROR SHAPE MISMATCH: /home/tchan/data/aortic-root-4Dsegs-March2022/4d_unprocessed/images/bav09_4d_0000.nii.gz: img: (176, 176, 208, 27), seg: (176, 176, 208, 16)\n",
      "processing up to frame 16\n"
     ]
    },
    {
     "name": "stderr",
     "output_type": "stream",
     "text": [
      " 21%|██████████████████████████████████                                                                                                                                    | 8/39 [02:46<08:51, 17.14s/it]"
     ]
    },
    {
     "name": "stdout",
     "output_type": "stream",
     "text": [
      "ERROR SHAPE MISMATCH: /home/tchan/data/aortic-root-4Dsegs-March2022/4d_unprocessed/images/bav10_4d_0000.nii.gz: img: (176, 208, 208, 57), seg: (176, 208, 208, 20)\n",
      "processing up to frame 20\n"
     ]
    },
    {
     "name": "stderr",
     "output_type": "stream",
     "text": [
      " 28%|██████████████████████████████████████████████▌                                                                                                                      | 11/39 [03:44<08:28, 18.16s/it]"
     ]
    },
    {
     "name": "stdout",
     "output_type": "stream",
     "text": [
      "ERROR SHAPE MISMATCH: /home/tchan/data/aortic-root-4Dsegs-March2022/4d_unprocessed/images/bav13_4d_0000.nii.gz: img: (176, 208, 224, 58), seg: (176, 208, 224, 30)\n",
      "processing up to frame 30\n"
     ]
    },
    {
     "name": "stderr",
     "output_type": "stream",
     "text": [
      " 31%|██████████████████████████████████████████████████▊                                                                                                                  | 12/39 [04:11<09:24, 20.93s/it]"
     ]
    },
    {
     "name": "stdout",
     "output_type": "stream",
     "text": [
      "ERROR segpath unfound: /home/tchan/data/aortic-root-4Dsegs-March2022/4d_unprocessed/masks/bav14_4d.nii.gz\n",
      "ERROR SHAPE MISMATCH: /home/tchan/data/aortic-root-4Dsegs-March2022/4d_unprocessed/images/bav16_4d_0000.nii.gz: img: (224, 144, 208, 79), seg: (224, 144, 208, 40)\n",
      "processing up to frame 40\n"
     ]
    },
    {
     "name": "stderr",
     "output_type": "stream",
     "text": [
      " 36%|███████████████████████████████████████████████████████████▏                                                                                                         | 14/39 [04:41<07:31, 18.05s/it]"
     ]
    },
    {
     "name": "stdout",
     "output_type": "stream",
     "text": [
      "ERROR segpath unfound: /home/tchan/data/aortic-root-4Dsegs-March2022/4d_unprocessed/masks/bav17_4d.nii.gz\n"
     ]
    },
    {
     "name": "stderr",
     "output_type": "stream",
     "text": [
      " 41%|███████████████████████████████████████████████████████████████████▋                                                                                                 | 16/39 [05:30<07:57, 20.78s/it]"
     ]
    },
    {
     "name": "stdout",
     "output_type": "stream",
     "text": [
      "ERROR SHAPE MISMATCH: /home/tchan/data/aortic-root-4Dsegs-March2022/4d_unprocessed/images/bav20_4d_0000.nii.gz: img: (176, 112, 208, 34), seg: (176, 112, 208, 26)\n",
      "processing up to frame 26\n"
     ]
    },
    {
     "name": "stderr",
     "output_type": "stream",
     "text": [
      " 44%|███████████████████████████████████████████████████████████████████████▉                                                                                             | 17/39 [05:42<06:54, 18.85s/it]"
     ]
    },
    {
     "name": "stdout",
     "output_type": "stream",
     "text": [
      "ERROR SHAPE MISMATCH: /home/tchan/data/aortic-root-4Dsegs-March2022/4d_unprocessed/images/bav23_4d_0000.nii.gz: img: (192, 176, 208, 18), seg: (192, 176, 208, 12)\n",
      "processing up to frame 12\n"
     ]
    },
    {
     "name": "stderr",
     "output_type": "stream",
     "text": [
      " 46%|████████████████████████████████████████████████████████████████████████████▏                                                                                        | 18/39 [05:52<05:48, 16.59s/it]"
     ]
    },
    {
     "name": "stdout",
     "output_type": "stream",
     "text": [
      "ERROR SHAPE MISMATCH: /home/tchan/data/aortic-root-4Dsegs-March2022/4d_unprocessed/images/bav24_4d_0000.nii.gz: img: (176, 176, 224, 19), seg: (176, 176, 224, 12)\n",
      "processing up to frame 12\n"
     ]
    },
    {
     "name": "stderr",
     "output_type": "stream",
     "text": [
      " 49%|████████████████████████████████████████████████████████████████████████████████▍                                                                                    | 19/39 [06:00<04:50, 14.54s/it]"
     ]
    },
    {
     "name": "stdout",
     "output_type": "stream",
     "text": [
      "ERROR SHAPE MISMATCH: /home/tchan/data/aortic-root-4Dsegs-March2022/4d_unprocessed/images/bav25_4d_0000.nii.gz: img: (176, 176, 224, 19), seg: (176, 176, 224, 9)\n",
      "processing up to frame 9\n"
     ]
    },
    {
     "name": "stderr",
     "output_type": "stream",
     "text": [
      " 51%|████████████████████████████████████████████████████████████████████████████████████▌                                                                                | 20/39 [06:07<03:55, 12.42s/it]"
     ]
    },
    {
     "name": "stdout",
     "output_type": "stream",
     "text": [
      "ERROR SHAPE MISMATCH: /home/tchan/data/aortic-root-4Dsegs-March2022/4d_unprocessed/images/bav26_4d_0000.nii.gz: img: (224, 112, 208, 24), seg: (224, 112, 208, 23)\n",
      "processing up to frame 23\n"
     ]
    },
    {
     "name": "stderr",
     "output_type": "stream",
     "text": [
      " 54%|████████████████████████████████████████████████████████████████████████████████████████▊                                                                            | 21/39 [06:21<03:48, 12.72s/it]"
     ]
    },
    {
     "name": "stdout",
     "output_type": "stream",
     "text": [
      "ERROR SHAPE MISMATCH: /home/tchan/data/aortic-root-4Dsegs-March2022/4d_unprocessed/images/bav30_4d_0000.nii.gz: img: (176, 208, 208, 65), seg: (176, 208, 208, 37)\n",
      "processing up to frame 37\n"
     ]
    },
    {
     "name": "stderr",
     "output_type": "stream",
     "text": [
      " 56%|█████████████████████████████████████████████████████████████████████████████████████████████                                                                        | 22/39 [06:51<05:01, 17.71s/it]"
     ]
    },
    {
     "name": "stdout",
     "output_type": "stream",
     "text": [
      "ERROR SHAPE MISMATCH: /home/tchan/data/aortic-root-4Dsegs-March2022/4d_unprocessed/images/tav01_4d_0000.nii.gz: img: (160, 192, 208, 52), seg: (160, 192, 208, 11)\n",
      "processing up to frame 11\n"
     ]
    },
    {
     "name": "stderr",
     "output_type": "stream",
     "text": [
      " 69%|██████████████████████████████████████████████████████████████████████████████████████████████████████████████████▏                                                  | 27/39 [08:08<03:29, 17.50s/it]"
     ]
    },
    {
     "name": "stdout",
     "output_type": "stream",
     "text": [
      "ERROR SHAPE MISMATCH: /home/tchan/data/aortic-root-4Dsegs-March2022/4d_unprocessed/images/tav08_4d_0000.nii.gz: img: (176, 208, 224, 51), seg: (176, 208, 224, 26)\n",
      "processing up to frame 26\n"
     ]
    },
    {
     "name": "stderr",
     "output_type": "stream",
     "text": [
      " 74%|██████████████████████████████████████████████████████████████████████████████████████████████████████████████████████████▋                                          | 29/39 [08:51<03:15, 19.55s/it]"
     ]
    },
    {
     "name": "stdout",
     "output_type": "stream",
     "text": [
      "ERROR segpath unfound: /home/tchan/data/aortic-root-4Dsegs-March2022/4d_unprocessed/masks/tav10_4d.nii.gz\n",
      "ERROR SHAPE MISMATCH: /home/tchan/data/aortic-root-4Dsegs-March2022/4d_unprocessed/images/tav11_4d_0000.nii.gz: img: (176, 208, 208, 47), seg: (176, 208, 208, 24)\n",
      "processing up to frame 24\n"
     ]
    },
    {
     "name": "stderr",
     "output_type": "stream",
     "text": [
      " 82%|███████████████████████████████████████████████████████████████████████████████████████████████████████████████████████████████████████▍                             | 32/39 [09:34<01:59, 17.13s/it]"
     ]
    },
    {
     "name": "stdout",
     "output_type": "stream",
     "text": [
      "ERROR SHAPE MISMATCH: /home/tchan/data/aortic-root-4Dsegs-March2022/4d_unprocessed/images/tav14_4d_0000.nii.gz: img: (176, 208, 208, 33), seg: (176, 208, 208, 31)\n",
      "processing up to frame 31\n"
     ]
    },
    {
     "name": "stderr",
     "output_type": "stream",
     "text": [
      " 87%|███████████████████████████████████████████████████████████████████████████████████████████████████████████████████████████████████████████████▊                     | 34/39 [10:12<01:29, 17.85s/it]"
     ]
    },
    {
     "name": "stdout",
     "output_type": "stream",
     "text": [
      "ERROR SHAPE MISMATCH: /home/tchan/data/aortic-root-4Dsegs-March2022/4d_unprocessed/images/tav17_4d_0000.nii.gz: img: (176, 208, 208, 26), seg: (176, 208, 208, 25)\n",
      "processing up to frame 25\n"
     ]
    },
    {
     "name": "stderr",
     "output_type": "stream",
     "text": [
      " 92%|████████████████████████████████████████████████████████████████████████████████████████████████████████████████████████████████████████████████████████▎            | 36/39 [10:55<00:59, 19.69s/it]"
     ]
    },
    {
     "name": "stdout",
     "output_type": "stream",
     "text": [
      "ERROR segpath unfound: /home/tchan/data/aortic-root-4Dsegs-March2022/4d_unprocessed/masks/tav20_4d.nii.gz\n"
     ]
    },
    {
     "name": "stderr",
     "output_type": "stream",
     "text": [
      " 97%|████████████████████████████████████████████████████████████████████████████████████████████████████████████████████████████████████████████████████████████████▊    | 38/39 [11:08<00:13, 13.79s/it]"
     ]
    },
    {
     "name": "stdout",
     "output_type": "stream",
     "text": [
      "ERROR SHAPE MISMATCH: /home/tchan/data/aortic-root-4Dsegs-March2022/4d_unprocessed/images/tav26_4d_0000.nii.gz: img: (176, 192, 208, 14), seg: (176, 192, 208, 7)\n",
      "processing up to frame 7\n"
     ]
    },
    {
     "name": "stderr",
     "output_type": "stream",
     "text": [
      "100%|█████████████████████████████████████████████████████████████████████████████████████████████████████████████████████████████████████████████████████████████████████| 39/39 [11:13<00:00, 17.27s/it]\n"
     ]
    }
   ],
   "source": [
    "# Load a 4D image (.nii) and preprocess: crop to a set region around the segmentation mask and add a expansion mask (?) to the mask classes\n",
    "#Also reform mask classes - for now set all nonzero classes = 1, with possible expansion mask = 2\n",
    "\n",
    "savedir3d = os.path.expanduser(\"~\")+'/data/aortic-root-4Dsegs-March2022/3d_processed'\n",
    "savedir4d = os.path.expanduser(\"~\")+'/data/aortic-root-4Dsegs-March2022/4d_processed'\n",
    "readdir = os.path.expanduser(\"~\")+'/data/aortic-root-4Dsegs-March2022/4d_unprocessed'\n",
    "segimgs = []\n",
    "for img_path in tqdm(sorted(glob.glob(readdir+\"/images/*.nii.gz\")), leave=True):\n",
    "    seg_path = readdir+\"/masks/{}.nii.gz\".format(os.path.split(img_path)[1][:-12])\n",
    "    \n",
    "    if os.path.exists('{}/{}'.format(savedir4d,img_path)):\n",
    "        print('path {} exists'.format('{}/images/{}'.format(savedir4d, os.path.split(img_path)[1])))\n",
    "        continue\n",
    "    \n",
    "    if not os.path.exists(seg_path):\n",
    "        print(\"ERROR segpath unfound: {}\".format(seg_path))\n",
    "        continue\n",
    "    img = nib.load(img_path)\n",
    "    imgdata = img.get_fdata()\n",
    "    seg = nib.load(seg_path)\n",
    "    segdata = seg.get_fdata()\n",
    "        \n",
    "    if imgdata.shape != segdata.shape:\n",
    "        print(\"ERROR SHAPE MISMATCH: {}: img: {}, seg: {}\".format(img_path, imgdata.shape, segdata.shape))\n",
    "        print('processing up to frame {}'.format(segdata.shape[3]))\n",
    "        imgdata = imgdata[:,:,:,:segdata.shape[3]]\n",
    "        # continue\n",
    "        \n",
    "    # #Make segdata a binary mask instead of multiclass\n",
    "    # segdata = segdata>0\n",
    "        \n",
    "    data = np.stack((imgdata,segdata), axis = 4)\n",
    "        \n",
    "    #run preprocessing\n",
    "    \n",
    "    data0 = matrix_process(data, expmask=True, binarize=True, crop=False, recompute_mask=False,)\n",
    "    data1 = matrix_process(data, expmask=False, binarize=True, crop=False, recompute_mask=False,)\n",
    "    data2 = matrix_process(data, expmask=False, binarize=False, crop=False, recompute_mask=True,)\n",
    "    \n",
    "    #save 4D to nii\n",
    "    newimg = nib.Nifti1Image(data0[:,:,:,:,0], np.eye(4))\n",
    "    newseg_stage0 = nib.Nifti1Image(data0[:,:,:,:,1], np.eye(4))\n",
    "    newimg_stage1 = nib.Nifti1Image(data1[:,:,:,:,1], np.eye(4))\n",
    "    newseg_stage1 = nib.Nifti1Image(data2[:,:,:,:,1], np.eye(4))\n",
    "    \n",
    "    newimgpath_stage0 = '{}/images/stage0/{}'.format(savedir4d, os.path.split(img_path)[1])\n",
    "    newsegpath_stage0 = '{}/masks/stage0/{}'.format(savedir4d, os.path.split(seg_path)[1])\n",
    "    newimgpath_stage1 = '{}/images/stage1/{}1.nii.gz'.format(savedir4d, os.path.splitext(os.path.split(img_path)[1])[0][:-1])\n",
    "    newsegpath_stage1 = '{}/masks/stage1/{}'.format(savedir4d, os.path.split(seg_path)[1])\n",
    "    \n",
    "    nib.save(newimg, newimgpath_stage0)\n",
    "    nib.save(newimg, newimgpath_stage1)\n",
    "    nib.save(newimg_stage1, newimgpath_stage1)\n",
    "    nib.save(newseg_stage0, newsegpath_stage0)\n",
    "    nib.save(newseg_stage1, newsegpath_stage1)\n",
    "    \n",
    "    save_subdir_stage0 = '{}/stage0/{}'.format(savedir3d,os.path.splitext(os.path.splitext(os.path.split(img_path)[1])[0])[0][:-8])\n",
    "    save_subdir_stage1 = '{}/stage1/{}'.format(savedir3d,os.path.splitext(os.path.splitext(os.path.split(img_path)[1])[0])[0][:-8])\n",
    "    if os.path.exists(save_subdir_stage0) == False:\n",
    "        os.mkdir(save_subdir_stage0)\n",
    "    if os.path.exists(save_subdir_stage1) == False:\n",
    "        os.mkdir(save_subdir_stage1)\n",
    "    \n",
    "    #save 3Ds to nii\n",
    "    for i in range(np.size(data, axis=3)):\n",
    "        newimg = nib.Nifti1Image(datae0[:,:,:,i,0].astype(np.int16), np.eye(4))\n",
    "        newseg_stage0 = nib.Nifti1Image(data0[:,:,:,i,1].astype(np.int16), np.eye(4))\n",
    "        newimg_stage1 = nib.Nifti1Image(data1[:,:,:,i,1].astype(np.int16), np.eye(4))\n",
    "        newseg_stage1 = nib.Nifti1Image(data2[:,:,:,i,1].astype(np.int16), np.eye(4))\n",
    "        \n",
    "        #save processed segmentation masks\n",
    "        # newsegpath = '{}/{}_{}.nii.gz'.format(save_subdir, \n",
    "        #                                             os.path.split(save_subdir)[1],\n",
    "        #                                             str(i+1).zfill(3)) #for segmentation\n",
    "        \n",
    "        #save single class segmentation mask for second stage training as a new image category\n",
    "        newimgpath_stage0 = '{}/{}_{}_0000.nii.gz'.format(save_subdir_stage0, \n",
    "                                                    os.path.split(save_subdir_stage0)[1],\n",
    "                                                    str(i+1).zfill(3)) #for segmentation\n",
    "        newimgpath_stage1_0 = '{}/{}_{}_0000.nii.gz'.format(save_subdir_stage1, \n",
    "                                                    os.path.split(save_subdir_stage1)[1],\n",
    "                                                    str(i+1).zfill(3)) #for segmentation\n",
    "        newimgpath_stage1_1 = '{}/{}_{}_0001.nii.gz'.format(save_subdir_stage1, \n",
    "                                                    os.path.split(save_subdir_stage1)[1],\n",
    "                                                    str(i+1).zfill(3)) #for segmentation\n",
    "        \n",
    "        newsegpath_stage0 = '{}/{}_{}.nii.gz'.format(save_subdir_stage0, \n",
    "                                                    os.path.split(save_subdir_stage0)[1],\n",
    "                                                    str(i+1).zfill(3)) #for segmentation\n",
    "        newsegpath_stage1 = '{}/{}_{}.nii.gz'.format(save_subdir_stage1, \n",
    "                                                    os.path.split(save_subdir_stage1)[1],\n",
    "                                                    str(i+1).zfill(3)) #for segmentation\n",
    "        nib.save(newimg, newimgpath_stage0)\n",
    "        nib.save(newimg, newimgpath_stage1_0)\n",
    "        nib.save(newimg_stage1, newimgpath_stage1_1)\n",
    "        nib.save(newseg_stage0, newsegpath_stage0)\n",
    "        nib.save(newseg_stage1, newsegpath_stage1)\n",
    "        \n",
    "        "
   ]
  },
  {
   "cell_type": "code",
   "execution_count": 94,
   "id": "c72b6c9c-4ae7-4042-92ef-54594edcdf93",
   "metadata": {},
   "outputs": [
    {
     "name": "stderr",
     "output_type": "stream",
     "text": [
      "Clipping input data to the valid range for imshow with RGB data ([0..1] for floats or [0..255] for integers).\n"
     ]
    },
    {
     "name": "stdout",
     "output_type": "stream",
     "text": [
      "/home/tchan/data/aortic-root-4Dsegs-March2022/3d_processed/bav16/bav16_015_0000.nii.gz\n",
      "z = 61\n"
     ]
    },
    {
     "data": {
      "image/png": "[encoded data removed]",
      "text/plain": [
       "<Figure size 2160x720 with 3 Axes>"
      ]
     },
     "metadata": {
      "needs_background": "light"
     },
     "output_type": "display_data"
    },
    {
     "name": "stdout",
     "output_type": "stream",
     "text": [
      "[0. 0. 0. 0. 0. 0. 0. 0. 0. 0. 0. 0. 0. 1. 1. 1. 1. 1. 1. 1. 1. 1. 1. 2.\n",
      " 2. 2. 1. 1. 1. 1. 1. 1. 1. 1. 1. 1. 0. 0. 0. 0. 0. 0. 0. 0. 0. 0. 0. 0.\n",
      " 0. 0. 0. 0. 0. 0. 0. 0. 0. 0. 0. 0. 0. 0. 0. 0. 0. 0. 0. 0. 0. 0. 0. 0.\n",
      " 0. 0. 0. 0. 0. 0. 0. 0. 0. 0. 0. 0. 0. 0. 0. 1. 1. 1. 1. 1. 1. 1. 1. 1.\n",
      " 1. 1. 1. 1. 1. 1. 1. 1. 1. 1. 1. 1. 0. 0. 0. 0. 0. 0. 0. 0. 0. 0. 0. 0.\n",
      " 0. 0. 0. 0. 0. 0. 0. 0.]\n"
     ]
    }
   ],
   "source": [
    "#TESTER CELL\n",
    "import random\n",
    "\n",
    "dirpath+'/4d_processed'\n",
    "\n",
    "img_paths = sorted(glob.glob(os.path.expanduser(\"~\") + \n",
    "                             '/data/aortic-root-4Dsegs-March2022/3d_processed/*/*_0000.nii.gz'))\n",
    "seg_paths = [path.replace('_0000','') for path in img_paths]\n",
    "                   \n",
    "randindex = int(random.random()*len(seg_paths))\n",
    "\n",
    "img = nib.load(img_paths[randindex])\n",
    "imgdata = img.get_fdata()\n",
    "\n",
    "seg = nib.load(seg_paths[randindex])\n",
    "segdata = seg.get_fdata()\n",
    "\n",
    "# rand_timeframe = int(random.random()*imgdata.shape[3])\n",
    "rand_slice_pos = int(random.random()*imgdata.shape[2])\n",
    "\n",
    "print(img_paths[randindex])\n",
    "print('z = {}'.format(rand_slice_pos))\n",
    "\n",
    "\n",
    "fig, axs = plt.subplots(1, 3, figsize = (30,10))\n",
    "axs[0].imshow(imgdata[:,:,rand_slice_pos])#,rand_timeframe])\n",
    "axs[1].imshow(segdata[:,:,rand_slice_pos])#,rand_timeframe])\n",
    "rgbimg = np.stack((imgdata[:,:,rand_slice_pos]/200,\n",
    "                        segdata[:,:,rand_slice_pos]/7,\n",
    "                        np.zeros_like(imgdata[:,:,rand_slice_pos])),\n",
    "                        axis=2)\n",
    "axs[2].imshow(rgbimg)\n",
    "plt.show()\n",
    "\n",
    "print(segdata[:,80,rand_slice_pos])"
   ]
  },
  {
   "cell_type": "code",
   "execution_count": 6,
   "id": "d9f84725-7492-4c06-a875-82b3b74a9ff6",
   "metadata": {},
   "outputs": [
    {
     "name": "stdout",
     "output_type": "stream",
     "text": [
      "dataset.json created!\n"
     ]
    }
   ],
   "source": [
    "#Code for generating dataset.json file for nnUnet training\n",
    "import json\n",
    "from collections import OrderedDict\n",
    "\n",
    "task_folder_name = os.path.expanduser(\"~\")+'/../../data1/nnUNet_raw/nnUNet_raw_data/Task904_ARseg'\n",
    "train_dir = task_folder_name+'/labelsTr'\n",
    "test_dir = task_folder_name+'/imagesTs'\n",
    "\n",
    "overwrite_json_file = True #make it True if you want to overwrite the dataset.json file in Task_folder\n",
    "json_file_exist = False\n",
    "\n",
    "if os.path.exists(os.path.join(task_folder_name,'dataset.json')):\n",
    "    print('dataset.json already exist!')\n",
    "    json_file_exist = True\n",
    "\n",
    "if json_file_exist==False or overwrite_json_file:\n",
    "\n",
    "    json_dict = OrderedDict()\n",
    "    json_dict['name'] = \"Task903_ARseg\"\n",
    "    json_dict['description'] = \"segmentation dataset for aortic root segmentation task\"\n",
    "    json_dict['tensorImageSize'] = \"3D\"\n",
    "    json_dict['reference'] = \"none\"\n",
    "    json_dict['licence'] = \"none\"\n",
    "    json_dict['release'] = \"0.0\"\n",
    "\n",
    "    #you may mention more than one modality\n",
    "    json_dict['modality'] = {\n",
    "        \"0\": \"echo\"\n",
    "        \"1\": \"pre_computed_mask\"\n",
    "    }\n",
    "    #labels+1 should be mentioned for all the labels in the dataset\n",
    "    json_dict['labels'] = OrderedDict()\n",
    "    json_dict['labels']['00'] = 'background'\n",
    "    json_dict['labels']['01'] = 'expansion'\n",
    "    json_dict['labels']['02'] = 'rootSTJ'\n",
    "    json_dict['labels']['03'] = 'rootANN'\n",
    "    json_dict['labels']['04'] = 'septum'\n",
    "    # # json_dict['labels']['05'] = '5'\n",
    "    # # json_dict['labels']['06'] = '6'\n",
    "    # # json_dict['labels']['07'] = '7'\n",
    "    \n",
    "    # json_dict['labels'] = OrderedDict()\n",
    "    # json_dict['labels']['00'] = 'background'\n",
    "    # json_dict['labels']['01'] = 'expansion'\n",
    "    # json_dict['labels']['02'] = 'root'\n",
    "    # json_dict['labels']['05'] = '5'\n",
    "    # json_dict['labels']['06'] = '6'\n",
    "    # json_dict['labels']['07'] = '7'\n",
    "    \n",
    "    train_ids = os.listdir(train_dir)\n",
    "    train_ids = sorted([os.path.splitext(os.path.splitext(id)[0])[0] for id in train_ids])\n",
    "    test_ids = os.listdir(test_dir)\n",
    "    test_ids = sorted([os.path.splitext(os.path.splitext(id)[0])[0] for id in test_ids])\n",
    "    json_dict['numTraining'] = len(train_ids)\n",
    "    json_dict['numTest'] = len(test_ids)\n",
    "\n",
    "    #no modality in train image and labels in dataset.json \n",
    "    json_dict['training'] = [{'image': \"./imagesTr/%s.nii.gz\" % i, \"label\": \"./labelsTr/%s.nii.gz\" % i} for i in train_ids]\n",
    "    \n",
    "    #removing the modality from test image name to be saved in dataset.json\n",
    "    json_dict['test'] = [\"./imagesTs/%s\" % (i[:i.find(\"_0000\")]+'.nii.gz') for i in test_ids]\n",
    "\n",
    "    with open(os.path.join(task_folder_name,\"dataset.json\"), 'w') as f:\n",
    "        json.dump(json_dict, f, indent=4, sort_keys=True)\n",
    "\n",
    "    if os.path.exists(os.path.join(task_folder_name,'dataset.json')):\n",
    "        if json_file_exist==False:\n",
    "            print('dataset.json created!')\n",
    "        else: \n",
    "            print('dataset.json overwritten!')"
   ]
  },
  {
   "cell_type": "code",
   "execution_count": null,
   "id": "b52ef80b-298a-49a9-94dd-34163dd02525",
   "metadata": {},
   "outputs": [],
   "source": []
  },
  {
   "cell_type": "code",
   "execution_count": null,
   "id": "7f36bf4c-a127-4d6c-a338-5865d4d623ef",
   "metadata": {},
   "outputs": [],
   "source": []
  },
  {
   "cell_type": "markdown",
   "id": "b0510909-6add-4571-8f69-ec0f3235cf4d",
   "metadata": {},
   "source": [
    "MISC CODE"
   ]
  },
  {
   "cell_type": "code",
   "execution_count": null,
   "id": "8c413703-fced-40fd-a240-a9d94bec190b",
   "metadata": {},
   "outputs": [],
   "source": [
    "savedir = os.path.expanduser(\"~\")+'/data/addon_testers/addon_testers_imgs_cropped'\n",
    "\n",
    "\n",
    "for img_path in tqdm(sorted(glob.glob(dirpath + '/*.nii.gz')), leave=True):\n",
    "\n",
    "    img = nib.load(img_path)\n",
    "    imgdata = img.get_fdata()\n",
    "    x,y,z = imgdata.shape\n",
    "    # print(imgdata.shape)\n",
    "    imgdata = imgdata[x//2-64:x//2+64, y//2-64:y//2+64, z//2-64:z//2+64]\n",
    "    # print(imgdata.shape)\n",
    "    # break\n",
    "    \n",
    "    imgdata = imgdata.astype(np.int16)\n",
    "    img = nib.Nifti1Image(imgdata, np.eye(4)) # np.eye(4) is a 4 dimensional image coordinate transformation\n",
    "    # nib.save(img, '{}_4d.nii.gz'.format(sequence_path[:-1]))\n",
    "    nib.save(img, '{}/{}'.format(savedir, os.path.split(img_path)[1]))\n",
    "\n",
    "print('complete')"
   ]
  }
 ],
 "metadata": {
  "kernelspec": {
   "display_name": "Python 3 (ipykernel)",
   "language": "python",
   "name": "python3"
  },
  "language_info": {
   "codemirror_mode": {
    "name": "ipython",
    "version": 3
   },
   "file_extension": ".py",
   "mimetype": "text/x-python",
   "name": "python",
   "nbconvert_exporter": "python",
   "pygments_lexer": "ipython3",
   "version": "3.8.10"
  }
 },
 "nbformat": 4,
 "nbformat_minor": 5
}
