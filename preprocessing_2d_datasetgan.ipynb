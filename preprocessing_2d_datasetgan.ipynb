{
 "cells": [
  {
   "cell_type": "code",
   "execution_count": 1,
   "id": "98509a93-9d39-4a1c-81a2-b6e6396b6bfa",
   "metadata": {},
   "outputs": [],
   "source": [
    "import os\n",
    "import numpy as np\n",
    "import nibabel as nib\n",
    "from PIL import Image\n",
    "import matplotlib.pyplot as plt\n",
    "import glob\n",
    "from tqdm import tqdm\n",
    "from scipy import ndimage\n",
    "import cv2"
   ]
  },
  {
   "cell_type": "code",
   "execution_count": 2,
   "id": "ae46298d-4383-4ffb-8ed4-9b5290d4d522",
   "metadata": {},
   "outputs": [
    {
     "name": "stdout",
     "output_type": "stream",
     "text": [
      "/home/tchan/repos/datasetGAN_release/datasetGAN/model_dir/new_echo/samples\n",
      "data/2D_synthetic\n"
     ]
    }
   ],
   "source": [
    "sample_dir = os.path.expanduser(\"~\")+'/repos/datasetGAN_release/datasetGAN/model_dir/new_echo/samples'\n",
    "print(sample_dir)\n",
    "save_dir = 'data/2D_synthetic'\n",
    "print(save_dir)"
   ]
  },
  {
   "cell_type": "code",
   "execution_count": 5,
   "id": "90ce50d6-c32f-4dbd-893f-d6736ce1309c",
   "metadata": {},
   "outputs": [
    {
     "name": "stdout",
     "output_type": "stream",
     "text": [
      "/home/tchan/data/echo_testers\n",
      "/home/tchan/data/echo_testers\n",
      "/home/tchan/data/echo_outputs\n"
     ]
    }
   ],
   "source": [
    "sample_dir = os.path.expanduser(\"~\")+'/data/echo_testers'\n",
    "print(sample_dir)\n",
    "save_dir = os.path.expanduser(\"~\")+'/data/echo_testers'\n",
    "print(save_dir)\n",
    "outputs_dir = os.path.expanduser(\"~\")+'/data/echo_outputs'\n",
    "print(outputs_dir)"
   ]
  },
  {
   "cell_type": "code",
   "execution_count": 4,
   "id": "dec11667-e592-421b-9bac-be1b75756359",
   "metadata": {},
   "outputs": [
    {
     "data": {
      "text/plain": [
       "'/home/tchan/repos/echo-4d'"
      ]
     },
     "execution_count": 4,
     "metadata": {},
     "output_type": "execute_result"
    }
   ],
   "source": [
    "%pwd"
   ]
  },
  {
   "cell_type": "code",
   "execution_count": 6,
   "id": "65ee572a-fa25-4d40-bf55-aef6de7bc3ac",
   "metadata": {
    "tags": []
   },
   "outputs": [
    {
     "name": "stderr",
     "output_type": "stream",
     "text": [
      "100%|██████████████████████████████████████████████████████████████████████████████████████████████████████████████████████████████████████████████████████████████████| 340/340 [00:01<00:00, 332.39it/s]\n"
     ]
    }
   ],
   "source": [
    "for img_path in tqdm(glob.glob(sample_dir + '/*.png')):\n",
    "    img = np.array(Image.open(img_path))\n",
    "    if 'label_' in img_path:\n",
    "        # print('label')\n",
    "        img = cv2.resize(img, dsize=(128, 128)) #bilinear by default\n",
    "        img = np.expand_dims(img, 2)#necessary for nn-unet processing to be in shape of 3d img\n",
    "        newpath = '{}/labelsTr/{}.nii.gz'.format(save_dir, os.path.splitext(os.path.split(img_path)[1])[0].replace('label_',''))\n",
    "    else:\n",
    "        # print('image')\n",
    "        img = np.expand_dims(img, 2)#necessary for nn-unet processing to be in shape of 3d img\n",
    "        img = np.mean(img, axis=3)\n",
    "        newpath = '{}/imagesTr/{}_0000.nii.gz'.format(save_dir, os.path.splitext(os.path.split(img_path)[1])[0])\n",
    "    newimg = nib.Nifti1Image(img, np.eye(4))\n",
    "    nib.save(newimg, newpath)"
   ]
  },
  {
   "cell_type": "code",
   "execution_count": 7,
   "id": "6009e104-d2ef-4651-9504-8493c32c27dd",
   "metadata": {},
   "outputs": [
    {
     "name": "stderr",
     "output_type": "stream",
     "text": [
      "100%|██████████████████████████████████████████████████████████████████████████████████████████████████████████████████████████████████████████████████████████████████| 340/340 [00:00<00:00, 782.83it/s]\n"
     ]
    }
   ],
   "source": [
    "for img_path in tqdm(sorted(glob.glob(outputs_dir+'/*.nii.gz'))):\n",
    "    img = nib.load(img_path)\n",
    "    imgdata = img.get_fdata()\n",
    "    Image.fromarray(np.squeeze((imgdata*15).astype(np.uint8), axis=2)).save(os.path.splitext(img_path)[0]+'.png', format='png')\n",
    "\n",
    "# for img_path in tqdm(sorted(glob.glob(sample_dir+'/imagesTr/*.nii.gz'))):\n",
    "#     img = nib.load(img_path)\n",
    "#     imgdata = img.get_fdata()\n",
    "#     Image.fromarray(np.squeeze((imgdata).astype(np.uint8), axis=2)).save(os.path.splitext(img_path)[0]+'.png', format='png')"
   ]
  },
  {
   "cell_type": "code",
   "execution_count": 27,
   "id": "1e7a6544-abf6-4635-a86d-e307dd826c7e",
   "metadata": {},
   "outputs": [
    {
     "data": {
      "text/plain": [
       "<matplotlib.image.AxesImage at 0x7f181c7270d0>"
      ]
     },
     "execution_count": 27,
     "metadata": {},
     "output_type": "execute_result"
    },
    {
     "data": {
      "image/png": "[encoded data removed]",
      "text/plain": [
       "<Figure size 432x288 with 1 Axes>"
      ]
     },
     "metadata": {
      "needs_background": "light"
     },
     "output_type": "display_data"
    }
   ],
   "source": [
    "plt.imshow((imgdata*15).astype(np.uint8))"
   ]
  },
  {
   "cell_type": "markdown",
   "id": "be4fd083-c426-46be-aa56-cb180f1c4fa3",
   "metadata": {},
   "source": [
    "\n",
    "\n",
    "\n",
    "Make dataset.json file\n",
    "\n",
    "task_folder_name is the directory of the task\n",
    "train_dir and test_dir are the paths to the train labels and test labels"
   ]
  },
  {
   "cell_type": "code",
   "execution_count": 6,
   "id": "b6a7dada-b2dd-47ae-ade4-010481dca6f5",
   "metadata": {},
   "outputs": [
    {
     "name": "stdout",
     "output_type": "stream",
     "text": [
      "dataset.json already exist!\n",
      "dataset.json overwritten!\n"
     ]
    }
   ],
   "source": [
    "task_folder_name = os.path.expanduser(\"~\")+'/../../data1/nnUNet_raw/nnUNet_raw_data/Task800_4Chamber'\n",
    "train_dir = task_folder_name+'/labelsTr'\n",
    "test_dir = task_folder_name+'/imagesTs'\n",
    "\n",
    "import json\n",
    "\n",
    "from collections import OrderedDict\n",
    "\n",
    "overwrite_json_file = True #make it True if you want to overwrite the dataset.json file in Task_folder\n",
    "json_file_exist = False\n",
    "\n",
    "if os.path.exists(os.path.join(task_folder_name,'dataset.json')):\n",
    "    print('dataset.json already exist!')\n",
    "    json_file_exist = True\n",
    "\n",
    "if json_file_exist==False or overwrite_json_file:\n",
    "\n",
    "    json_dict = OrderedDict()\n",
    "    json_dict['name'] = \"Task800_4Chamber\"\n",
    "    json_dict['description'] = \"segmentation preliminary dataset for 4 chamber synthetic echo\"\n",
    "    json_dict['tensorImageSize'] = \"2D\"\n",
    "    json_dict['reference'] = \"none\"\n",
    "    json_dict['licence'] = \"none\"\n",
    "    json_dict['release'] = \"0.0\"\n",
    "\n",
    "    #you may mention more than one modality\n",
    "    json_dict['modality'] = {\n",
    "        \"0\": \"echo\"\n",
    "    }\n",
    "    #labels+1 should be mentioned for all the labels in the dataset\n",
    "    json_dict['labels'] = OrderedDict()\n",
    "    json_dict['labels']['00'] = 'background'\n",
    "    json_dict['labels']['01'] = '1'\n",
    "    json_dict['labels']['02'] = '2'\n",
    "    json_dict['labels']['03'] = '3'\n",
    "    json_dict['labels']['04'] = '4'\n",
    "    json_dict['labels']['05'] = '5'\n",
    "    json_dict['labels']['06'] = '6'\n",
    "    json_dict['labels']['07'] = '7'\n",
    "    json_dict['labels']['08'] = '8'\n",
    "    json_dict['labels']['09'] = '9'\n",
    "    json_dict['labels']['10'] = '10'\n",
    "    json_dict['labels']['11'] = '11'\n",
    "    json_dict['labels']['12'] = '12'\n",
    "    json_dict['labels']['13'] = '13'\n",
    "    json_dict['labels']['14'] = '14'\n",
    "    json_dict['labels']['15'] = '15'\n",
    "    \n",
    "    train_ids = os.listdir(train_dir)\n",
    "    train_ids = sorted([os.path.splitext(os.path.splitext(id)[0])[0] for id in train_ids])\n",
    "    test_ids = os.listdir(test_dir)\n",
    "    test_ids = sorted([os.path.splitext(os.path.splitext(id)[0])[0] for id in test_ids])\n",
    "    json_dict['numTraining'] = len(train_ids)\n",
    "    json_dict['numTest'] = len(test_ids)\n",
    "\n",
    "    #no modality in train image and labels in dataset.json \n",
    "    json_dict['training'] = [{'image': \"./imagesTr/%s.nii.gz\" % i, \"label\": \"./labelsTr/%s.nii.gz\" % i} for i in train_ids]\n",
    "    \n",
    "    #removing the modality from test image name to be saved in dataset.json\n",
    "    json_dict['test'] = [\"./imagesTs/%s\" % (i[:i.find(\"_0000\")]+'.nii.gz') for i in test_ids]\n",
    "\n",
    "    with open(os.path.join(task_folder_name,\"dataset.json\"), 'w') as f:\n",
    "        json.dump(json_dict, f, indent=4, sort_keys=True)\n",
    "\n",
    "    if os.path.exists(os.path.join(task_folder_name,'dataset.json')):\n",
    "        if json_file_exist==False:\n",
    "            print('dataset.json created!')\n",
    "        else: \n",
    "            print('dataset.json overwritten!')"
   ]
  },
  {
   "cell_type": "code",
   "execution_count": 5,
   "id": "96101ee4-1bbf-4009-9a94-a76d8c579d33",
   "metadata": {},
   "outputs": [
    {
     "name": "stdout",
     "output_type": "stream",
     "text": [
      "(1, 128, 128)\n",
      "(1, 128, 128)\n"
     ]
    }
   ],
   "source": [
    "#CHECK image size\n",
    "\n",
    "import SimpleITK as sitk\n",
    "print(sitk.GetArrayFromImage(sitk.ReadImage('data/2D_synthetic/imagesTr/0_0000.nii.gz')).shape)\n",
    "print(sitk.GetArrayFromImage(sitk.ReadImage('data/2D_synthetic/labelsTr/0.nii.gz')).shape)"
   ]
  },
  {
   "cell_type": "code",
   "execution_count": null,
   "id": "f87ef8e2-00c2-4a8f-9c12-64295a78d4e7",
   "metadata": {},
   "outputs": [],
   "source": []
  }
 ],
 "metadata": {
  "kernelspec": {
   "display_name": "Python 3 (ipykernel)",
   "language": "python",
   "name": "python3"
  },
  "language_info": {
   "codemirror_mode": {
    "name": "ipython",
    "version": 3
   },
   "file_extension": ".py",
   "mimetype": "text/x-python",
   "name": "python",
   "nbconvert_exporter": "python",
   "pygments_lexer": "ipython3",
   "version": "3.8.10"
  }
 },
 "nbformat": 4,
 "nbformat_minor": 5
}
