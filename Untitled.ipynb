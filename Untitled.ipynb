{
 "cells": [
  {
   "cell_type": "code",
   "execution_count": null,
   "id": "bfbd3aea-c45a-469d-934e-ba81bd548e85",
   "metadata": {},
   "outputs": [],
   "source": [
    "#given a mask with 7 classes: {background, root_basic, root_STJ, root_ven, root_medial_sinus, interatrial_septum, expansion}\n",
    "\n",
    "\n",
    "# {0:background, 1:expansion, 2:STJ, 3:annulus, 4:medial_sinus, 5:root_basic, 7:interatrial_septum}\n",
    "#simplify to a mask with 5 classes: {background, root_STJ, root_ven, interatrial_septum, expansion}\n",
    "# {0:background, 1:expansion, 2:stj, 3:annulus, 4: interatrial_septum}"
   ]
  },
  {
   "cell_type": "code",
   "execution_count": 1,
   "id": "af529e61-02b3-4ef7-89e7-ace63909984e",
   "metadata": {},
   "outputs": [],
   "source": [
    "import os\n",
    "import numpy as np\n",
    "import nibabel as nib\n",
    "from PIL import Image\n",
    "import matplotlib.pyplot as plt\n",
    "import glob\n",
    "from tqdm import tqdm\n",
    "from scipy import ndimage\n",
    "import math"
   ]
  },
  {
   "cell_type": "code",
   "execution_count": 2,
   "id": "234496fd-c9f7-4713-ae37-3690c8213021",
   "metadata": {},
   "outputs": [],
   "source": [
    "#center of mass calculation\n",
    "def calc_com_3d(data):\n",
    "    new_data = data\n",
    "    dup_mask = data[:,:,:]>0   #Normalize segmentations to binary mask, any signal gets included in com calculation\n",
    "    xsum = np.sum(np.sum(dup_mask, axis=1), axis=1)\n",
    "    ysum = np.sum(np.sum(dup_mask, axis=0), axis=1)\n",
    "    zsum = np.sum(np.sum(dup_mask, axis=0), axis=0)\n",
    "\n",
    "    # plt.plot(range(len(xsum)), xsum)\n",
    "    # plt.plot(range(len(ysum)), ysum)\n",
    "    # plt.plot(range(len(zsum)), zsum)\n",
    "\n",
    "    def calc_com_1d(arr):\n",
    "        wsum = 0\n",
    "        msum = 0\n",
    "        for i in range(len(arr)):\n",
    "            wsum += arr[i]*i\n",
    "            msum += arr[i]\n",
    "        if msum == 0:\n",
    "            return int((len(arr)+1)/2)\n",
    "        return wsum/msum\n",
    "\n",
    "    xcom = calc_com_1d(xsum)\n",
    "    ycom = calc_com_1d(ysum)\n",
    "    zcom = calc_com_1d(zsum)\n",
    "    return (int(xcom), int(ycom), int(zcom))\n",
    "\n",
    "#calculate distance\n",
    "def calc_distance(vector1, vector2):\n",
    "    dist = [(a - b)**2 for a, b in zip(vector1, vector2)]\n",
    "    return math.sqrt(sum(dist))\n",
    "\n",
    "def expand_and_dilate(data, dilate = 25, erode=15):\n",
    "    new_data = np.copy(data[:,:,:]>0)\n",
    "    if np.amax(new_data) == 0:\n",
    "        return 0\n",
    "    assert np.amax(new_data) == 1\n",
    "    new_data = ndimage.binary_dilation(new_data[:,:,:], iterations=dilate)\n",
    "    new_data = ndimage.binary_erosion(new_data[:,:,:], iterations=erode)\n",
    "    return new_data\n",
    "\n",
    "def expand_mask(data, iterations = 10):\n",
    "    new_data = np.copy(data[:,:,:]>0)\n",
    "    if np.amax(new_data) == 0: return 0\n",
    "    assert np.amax(new_data) == 1\n",
    "    expansion = ndimage.binary_dilation(new_data[:,:,:], iterations=iterations)\n",
    "    data[:,:,:] = np.add(data[:,:,:],expansion)\n",
    "\n",
    "\n",
    "#calculate new mask\n",
    "def recompute_mask(imgdata):\n",
    "    if len(np.unique(imgdata)) == 5:\n",
    "        print('classes is not enough, already processed?')\n",
    "        return imgdata\n",
    "    mask = imgdata>1\n",
    "    stj_com = calc_com_3d(imgdata==2)\n",
    "    ann_com = calc_com_3d(imgdata==3)\n",
    "    \n",
    "    newmask = np.zeros_like(mask,dtype=int)\n",
    "    \n",
    "    a = np.array(np.where(mask))\n",
    "    for point in [a[:,i] for i in range(a.shape[1])]:\n",
    "        if calc_distance(point,stj_com)<calc_distance(point,ann_com):\n",
    "            newmask[tuple(point)] = 1\n",
    "        else:\n",
    "            newmask[tuple(point)] = 2\n",
    "            \n",
    "    septum = expand_and_dilate(imgdata==7)\n",
    "    newmask = newmask*(-1*(septum-1)) + septum*3\n",
    "    newmask = newmask*mask\n",
    "    expand_mask(newmask)\n",
    "    \n",
    "    return newmask\n",
    "        "
   ]
  },
  {
   "cell_type": "code",
   "execution_count": 3,
   "id": "8a303f90-66ea-4bc5-b4da-6f4f34a844f1",
   "metadata": {},
   "outputs": [],
   "source": [
    "dirpath = os.path.expanduser(\"~\")+'/data/aortic-root-4Dsegs-March2022/3d_processed'"
   ]
  },
  {
   "cell_type": "code",
   "execution_count": 5,
   "id": "c737640a-ed9f-4b13-8c00-a8d27f7ee4e0",
   "metadata": {},
   "outputs": [
    {
     "name": "stderr",
     "output_type": "stream",
     "text": [
      "100%|███████████████████████████████████████████████████████████████████████████████████████████████████████████████████████████████████████████████████████████████████| 764/764 [15:30<00:00,  1.22s/it]\n"
     ]
    }
   ],
   "source": [
    "for img_path in tqdm(glob.glob(dirpath+'/*/*_0000.nii.gz')):\n",
    "    img_path = img_path.replace('_0000','')\n",
    "    # print(img_path)\n",
    "    img = nib.load(img_path)\n",
    "    imgdata = img.get_fdata()\n",
    "    data = recompute_mask(imgdata).astype(np.int16)\n",
    "    \n",
    "    newimg = nib.Nifti1Image(data, np.eye(4))\n",
    "    nib.save(newimg, img_path)"
   ]
  },
  {
   "cell_type": "code",
   "execution_count": 7,
   "id": "850c1043-ef0a-428f-bfd0-43ce0f421fd2",
   "metadata": {},
   "outputs": [
    {
     "name": "stderr",
     "output_type": "stream",
     "text": [
      "  0%|                                                                                                                                                                             | 0/764 [00:00<?, ?it/s]\n"
     ]
    },
    {
     "data": {
      "image/png": "[encoded data removed]",
      "text/plain": [
       "<Figure size 432x288 with 1 Axes>"
      ]
     },
     "metadata": {
      "needs_background": "light"
     },
     "output_type": "display_data"
    }
   ],
   "source": [
    "for img_path in tqdm(glob.glob(dirpath+'/*/*_0000.nii.gz')):\n",
    "    img_path = img_path.replace('_0000','')\n",
    "    img = nib.load(img_path)\n",
    "    imgdata = img.get_fdata()\n",
    "    plt.imshow(imgdata[:,100,:])\n",
    "    break\n",
    "    "
   ]
  },
  {
   "cell_type": "code",
   "execution_count": 125,
   "id": "99832308-2e5a-4e0e-a4bb-2404ac15783e",
   "metadata": {},
   "outputs": [
    {
     "data": {
      "text/plain": [
       "<matplotlib.image.AxesImage at 0x7fac3fd781f0>"
      ]
     },
     "execution_count": 125,
     "metadata": {},
     "output_type": "execute_result"
    },
    {
     "data": {
      "image/png": "[encoded data removed]",
      "text/plain": [
       "<Figure size 432x288 with 1 Axes>"
      ]
     },
     "metadata": {
      "needs_background": "light"
     },
     "output_type": "display_data"
    }
   ],
   "source": [
    "plt.imshow(imgdata[:,64,:])"
   ]
  },
  {
   "cell_type": "code",
   "execution_count": 106,
   "id": "3b59a4c8-a06c-466a-8b1a-86eac7ddc176",
   "metadata": {},
   "outputs": [
    {
     "data": {
      "text/plain": [
       "<matplotlib.image.AxesImage at 0x7fac3f986dc0>"
      ]
     },
     "execution_count": 106,
     "metadata": {},
     "output_type": "execute_result"
    },
    {
     "data": {
      "image/png": "[encoded data removed]",
      "text/plain": [
       "<Figure size 432x288 with 1 Axes>"
      ]
     },
     "metadata": {
      "needs_background": "light"
     },
     "output_type": "display_data"
    }
   ],
   "source": [
    "plt.imshow(recompute_mask(imgdata)[:,64,:])"
   ]
  },
  {
   "cell_type": "code",
   "execution_count": 115,
   "id": "df02ad41-59bb-41ef-ac5a-aba85239b181",
   "metadata": {},
   "outputs": [
    {
     "data": {
      "text/plain": [
       "numpy.ndarray"
      ]
     },
     "execution_count": 115,
     "metadata": {},
     "output_type": "execute_result"
    }
   ],
   "source": [
    "type(recompute_mask(imgdata))"
   ]
  },
  {
   "cell_type": "code",
   "execution_count": 120,
   "id": "28cacdf5-de4b-41b5-944c-b1c2236d6540",
   "metadata": {},
   "outputs": [],
   "source": [
    "newimg = nib.Nifti1Image(recompute_mask(imgdata).astype(np.int16), np.eye(4))\n",
    "nib.save(newimg, 'testimg.nii.gz')"
   ]
  },
  {
   "cell_type": "code",
   "execution_count": 121,
   "id": "e3a70d46-802f-4fc5-a1d4-a579e8cabb8c",
   "metadata": {},
   "outputs": [
    {
     "data": {
      "text/plain": [
       "array([[[0, 0, 0, ..., 0, 0, 0],\n",
       "        [0, 0, 0, ..., 0, 0, 0],\n",
       "        [0, 0, 0, ..., 0, 0, 0],\n",
       "        ...,\n",
       "        [0, 0, 0, ..., 0, 0, 0],\n",
       "        [0, 0, 0, ..., 0, 0, 0],\n",
       "        [0, 0, 0, ..., 0, 0, 0]],\n",
       "\n",
       "       [[0, 0, 0, ..., 0, 0, 0],\n",
       "        [0, 0, 0, ..., 0, 0, 0],\n",
       "        [0, 0, 0, ..., 0, 0, 0],\n",
       "        ...,\n",
       "        [0, 0, 0, ..., 0, 0, 0],\n",
       "        [0, 0, 0, ..., 0, 0, 0],\n",
       "        [0, 0, 0, ..., 0, 0, 0]],\n",
       "\n",
       "       [[0, 0, 0, ..., 0, 0, 0],\n",
       "        [0, 0, 0, ..., 0, 0, 0],\n",
       "        [0, 0, 0, ..., 0, 0, 0],\n",
       "        ...,\n",
       "        [0, 0, 0, ..., 0, 0, 0],\n",
       "        [0, 0, 0, ..., 0, 0, 0],\n",
       "        [0, 0, 0, ..., 0, 0, 0]],\n",
       "\n",
       "       ...,\n",
       "\n",
       "       [[0, 0, 0, ..., 0, 0, 0],\n",
       "        [0, 0, 0, ..., 0, 0, 0],\n",
       "        [0, 0, 0, ..., 0, 0, 0],\n",
       "        ...,\n",
       "        [0, 0, 0, ..., 0, 0, 0],\n",
       "        [0, 0, 0, ..., 0, 0, 0],\n",
       "        [0, 0, 0, ..., 0, 0, 0]],\n",
       "\n",
       "       [[0, 0, 0, ..., 0, 0, 0],\n",
       "        [0, 0, 0, ..., 0, 0, 0],\n",
       "        [0, 0, 0, ..., 0, 0, 0],\n",
       "        ...,\n",
       "        [0, 0, 0, ..., 0, 0, 0],\n",
       "        [0, 0, 0, ..., 0, 0, 0],\n",
       "        [0, 0, 0, ..., 0, 0, 0]],\n",
       "\n",
       "       [[0, 0, 0, ..., 0, 0, 0],\n",
       "        [0, 0, 0, ..., 0, 0, 0],\n",
       "        [0, 0, 0, ..., 0, 0, 0],\n",
       "        ...,\n",
       "        [0, 0, 0, ..., 0, 0, 0],\n",
       "        [0, 0, 0, ..., 0, 0, 0],\n",
       "        [0, 0, 0, ..., 0, 0, 0]]], dtype=int16)"
      ]
     },
     "execution_count": 121,
     "metadata": {},
     "output_type": "execute_result"
    }
   ],
   "source": [
    "recompute_mask(imgdata).astype(np.int16)"
   ]
  },
  {
   "cell_type": "code",
   "execution_count": null,
   "id": "30a8cbcf-cbdd-4f61-a276-01365238bf41",
   "metadata": {},
   "outputs": [],
   "source": []
  },
  {
   "cell_type": "code",
   "execution_count": null,
   "id": "2dc4306e-c0ef-41f9-bc0e-ba18df480aaa",
   "metadata": {},
   "outputs": [],
   "source": []
  },
  {
   "cell_type": "code",
   "execution_count": 141,
   "id": "f35f67fa-69ae-46c0-8719-6f51ca6ca793",
   "metadata": {},
   "outputs": [
    {
     "name": "stderr",
     "output_type": "stream",
     "text": [
      "100%|██████████████████████████████████████████████████████████████████████████████████████████████████████████████████████████████████████████████████████████████████████| 39/39 [05:35<00:00,  8.60s/it]"
     ]
    },
    {
     "name": "stdout",
     "output_type": "stream",
     "text": [
      "complete\n"
     ]
    },
    {
     "name": "stderr",
     "output_type": "stream",
     "text": [
      "\n"
     ]
    }
   ],
   "source": [
    "# FOR loading 4D images (.nii) and saving them as time series of 3D images (.nii)\n",
    "\n",
    "readdir = '../../data/aortic-root-4Dsegs-March2022/4d_unprocessed'\n",
    "segorimg = 'img' # 'seg', 'img'\n",
    "\n",
    "if segorimg == 'seg':\n",
    "    globpath = readdir+\"/segmentations/*.nii.gz\"\n",
    "else:\n",
    "    globpath = readdir+\"/images/*.nii.gz\" #\"4d_preprocessed/images/*.nii.gz\"\n",
    "\n",
    "\n",
    "segimgs = []\n",
    "for img_path in tqdm(sorted(glob.glob(globpath)), leave=True):\n",
    "    if segorimg == 'seg':\n",
    "        savedir = '{}'.format(os.path.splitext(os.path.splitext(img_path)[0])[0][:-3]) #for segmentation path\n",
    "    else:\n",
    "        savedir = '{}'.format(os.path.splitext(os.path.splitext(img_path)[0])[0][:-8]) #for image path\n",
    "\n",
    "    if os.path.exists(savedir) == False:\n",
    "        os.mkdir(savedir)\n",
    "        \n",
    "    img = nib.load(img_path)\n",
    "    imgdata = img.get_fdata()\n",
    "    for i in range(np.size(imgdata, axis=3)):\n",
    "        data = imgdata[:,:,:,i].astype(np.int16)\n",
    "        img = nib.Nifti1Image(data, np.eye(4)) # np.eye(4) is a 4 dimensional image coordinate transformation\n",
    "        \n",
    "        if segorimg == 'seg':\n",
    "            save_path = '{}/{}_{}.nii.gz'.format(savedir, \n",
    "                                                    os.path.split(savedir)[1],\n",
    "                                                    str(i+1).zfill(3)) #for segmentation\n",
    "        else:\n",
    "            save_path = '{}/{}_{}_0000.nii.gz'.format(savedir, \n",
    "                                                    os.path.split(savedir)[1],\n",
    "                                                    str(i+1).zfill(3)) #for images\n",
    "        \n",
    "        nib.save(img, save_path)\n",
    "        \n",
    "    # print(\"{} saved with {} frames\".format(img_path,np.size(imgdata, axis=3)))\n",
    "    \n",
    "print('complete')"
   ]
  },
  {
   "cell_type": "code",
   "execution_count": null,
   "id": "2dd87fc6-1978-4ffc-a4b0-1fc692833988",
   "metadata": {},
   "outputs": [],
   "source": []
  }
 ],
 "metadata": {
  "kernelspec": {
   "display_name": "Python 3 (ipykernel)",
   "language": "python",
   "name": "python3"
  },
  "language_info": {
   "codemirror_mode": {
    "name": "ipython",
    "version": 3
   },
   "file_extension": ".py",
   "mimetype": "text/x-python",
   "name": "python",
   "nbconvert_exporter": "python",
   "pygments_lexer": "ipython3",
   "version": "3.8.10"
  }
 },
 "nbformat": 4,
 "nbformat_minor": 5
}
